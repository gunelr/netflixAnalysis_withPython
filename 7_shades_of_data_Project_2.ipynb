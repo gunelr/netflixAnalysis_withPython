{
  "metadata": {
    "kernelspec": {
      "language": "python",
      "display_name": "Python 3",
      "name": "python3"
    },
    "language_info": {
      "name": "python",
      "version": "3.7.12",
      "mimetype": "text/x-python",
      "codemirror_mode": {
        "name": "ipython",
        "version": 3
      },
      "pygments_lexer": "ipython3",
      "nbconvert_exporter": "python",
      "file_extension": ".py"
    },
    "colab": {
      "name": "7-shades-of-data-Project-2.ipynb",
      "provenance": [],
      "collapsed_sections": [
        "T_uZducpXskm",
        "4d8KRzvk9WmA",
        "MG_r_Uju9WmF",
        "s146N_jMArYy",
        "voz3DL5YAxAV",
        "44hIeL6B9WmV",
        "u2cDryQV9WmW",
        "o1rd5lO99WmY",
        "0bN1UTES9Wma",
        "WRuBNFJtDaCC",
        "CbZxD5xq9Wmi",
        "w8ASq2Bs9Wmo",
        "1pH7rq0O9Wms",
        "L8z6BaXK9Wmw",
        "miloDeJ19Wmz",
        "K4t3ODME9Wm2",
        "2gY9Ilai9Wm5",
        "Ptzir4zS9Wm-",
        "R_RVNkcb9WnD",
        "eoHrPGe_9WnH",
        "BU722l-j9WnI",
        "BY6QLLpy9WnJ",
        "12PpDX4r9WnQ",
        "zcZz3okr9WnW",
        "N0Dzl9xF9WnX"
      ],
      "include_colab_link": true
    }
  },
  "nbformat_minor": 0,
  "nbformat": 4,
  "cells": [
    {
      "cell_type": "markdown",
      "metadata": {
        "id": "view-in-github",
        "colab_type": "text"
      },
      "source": [
        "<a href=\"https://colab.research.google.com/github/gunelr/netflixAnalysis_withPython/blob/main/7_shades_of_data_Project_2.ipynb\" target=\"_parent\"><img src=\"https://colab.research.google.com/assets/colab-badge.svg\" alt=\"Open In Colab\"/></a>"
      ]
    },
    {
      "cell_type": "markdown",
      "source": [
        "# 7 SHADES OF DATA - TEAM PROJECT 2: \"NETFLIX DATA ANALYSIS\""
      ],
      "metadata": {
        "id": "Wv7UEPwh9Wlr"
      }
    },
    {
      "cell_type": "markdown",
      "source": [
        "**Team members**\n",
        "\n",
        "* **Coshgun Rehimli:** coshgunrehimli@gmail.com\n",
        "* **Günel Alizada:** gunelrafig94@gmail.com\n",
        "* **Mardan Mirzaguliyev:** mardan.mirzaguliyev@gmail.com\n",
        "* **Narmin Azizova:** nrminazizova@gmail.com\n",
        "* **Rəna İsgəndərova:** rena.isgenderova27@gmail.com\n",
        "* **Shamistan Huseynov:** shamistan.huseynov@gmail.com\n",
        "* **Turan Aghayev:** turan.agazadeh@gmail.com"
      ],
      "metadata": {
        "id": "3ifFjA179Wlt"
      }
    },
    {
      "cell_type": "markdown",
      "source": [
        "## Detect encoding of 'NetflixOriginals.csv' file"
      ],
      "metadata": {
        "id": "NAZI9bUs2R5S"
      }
    },
    {
      "cell_type": "markdown",
      "source": [
        "### NOTE: CHANGE FILE DIRECTORY IF RAISES NO FILE OR DIRECTORY ERROR"
      ],
      "metadata": {
        "id": "MqVWTC7l_4sG"
      }
    },
    {
      "cell_type": "code",
      "source": [
        "import pandas as pd\n",
        "import numpy as np\n",
        "import seaborn as sns\n",
        "import matplotlib.pyplot as plt\n",
        "import chardet\n",
        "from dateutil.parser import parse\n",
        "import plotly.graph_objects as px\n",
        "import plotly.express as po"
      ],
      "metadata": {
        "id": "Jxh3ha0QLX2u"
      },
      "execution_count": null,
      "outputs": []
    },
    {
      "cell_type": "code",
      "source": [
        "with open(\"/content/NetflixOriginals.csv\", 'rb') as rawdata:\n",
        "  result = chardet.detect(rawdata.read(100000))\n",
        "result"
      ],
      "metadata": {
        "execution": {
          "iopub.status.busy": "2022-07-22T10:54:01.088589Z",
          "iopub.status.idle": "2022-07-22T10:54:01.088980Z",
          "shell.execute_reply.started": "2022-07-22T10:54:01.088771Z",
          "shell.execute_reply": "2022-07-22T10:54:01.088790Z"
        },
        "trusted": true,
        "id": "WCMMDIrK9Wl0",
        "colab": {
          "base_uri": "https://localhost:8080/"
        },
        "outputId": "32ee1879-53ca-4da8-b562-197dce45386c"
      },
      "execution_count": null,
      "outputs": [
        {
          "output_type": "execute_result",
          "data": {
            "text/plain": [
              "{'confidence': 0.99, 'encoding': 'utf-8', 'language': ''}"
            ]
          },
          "metadata": {},
          "execution_count": 18
        }
      ]
    },
    {
      "cell_type": "markdown",
      "source": [
        "The code returns that encoding is in the most common encoding format \"UTF-8\"."
      ],
      "metadata": {
        "id": "-kCGemqn2f3Z"
      }
    },
    {
      "cell_type": "code",
      "source": [
        "df = pd.read_csv(\"/content/NetflixOriginals.csv\", encoding = \"ISO-8859-1\")\n",
        "df"
      ],
      "metadata": {
        "id": "ZFoY5aS9yXYN",
        "execution": {
          "iopub.status.busy": "2022-07-22T10:54:01.090127Z",
          "iopub.status.idle": "2022-07-22T10:54:01.090494Z",
          "shell.execute_reply.started": "2022-07-22T10:54:01.090302Z",
          "shell.execute_reply": "2022-07-22T10:54:01.090320Z"
        },
        "trusted": true,
        "colab": {
          "base_uri": "https://localhost:8080/",
          "height": 554
        },
        "outputId": "915e1e25-d1be-4b55-94d5-246722ebc0f1"
      },
      "execution_count": null,
      "outputs": [
        {
          "output_type": "execute_result",
          "data": {
            "text/plain": [
              "                                           Title                  Genre  \\\n",
              "0                                Enter the Anime            Documentary   \n",
              "1                                    Dark Forces               Thriller   \n",
              "2                                        The App  Science fiction/Drama   \n",
              "3                                 The Open House        Horror thriller   \n",
              "4                                    Kaali Khuhi                Mystery   \n",
              "..                                           ...                    ...   \n",
              "579        Taylor Swift: Reputation Stadium Tour           Concert Film   \n",
              "580  Winter on Fire: Ukraine's Fight for Freedom            Documentary   \n",
              "581                      Springsteen on Broadway           One-man show   \n",
              "582    Emicida: AmarElo - It's All For Yesterday            Documentary   \n",
              "583     David Attenborough: A Life on Our Planet            Documentary   \n",
              "\n",
              "              Premiere  Runtime  IMDB Score                  Language  \n",
              "0       August 5, 2019       58         2.5          English/Japanese  \n",
              "1      August 21, 2020       81         2.6                   Spanish  \n",
              "2    December 26, 2019       79         2.6                   Italian  \n",
              "3     January 19, 2018       94         3.2                   English  \n",
              "4     October 30, 2020       90         3.4                     Hindi  \n",
              "..                 ...      ...         ...                       ...  \n",
              "579  December 31, 2018      125         8.4                   English  \n",
              "580    October 9, 2015       91         8.4  English/Ukranian/Russian  \n",
              "581  December 16, 2018      153         8.5                   English  \n",
              "582   December 8, 2020       89         8.6                Portuguese  \n",
              "583    October 4, 2020       83         9.0                   English  \n",
              "\n",
              "[584 rows x 6 columns]"
            ],
            "text/html": [
              "\n",
              "  <div id=\"df-a9de2652-9ed5-4927-978c-13d4d7e4b02f\">\n",
              "    <div class=\"colab-df-container\">\n",
              "      <div>\n",
              "<style scoped>\n",
              "    .dataframe tbody tr th:only-of-type {\n",
              "        vertical-align: middle;\n",
              "    }\n",
              "\n",
              "    .dataframe tbody tr th {\n",
              "        vertical-align: top;\n",
              "    }\n",
              "\n",
              "    .dataframe thead th {\n",
              "        text-align: right;\n",
              "    }\n",
              "</style>\n",
              "<table border=\"1\" class=\"dataframe\">\n",
              "  <thead>\n",
              "    <tr style=\"text-align: right;\">\n",
              "      <th></th>\n",
              "      <th>Title</th>\n",
              "      <th>Genre</th>\n",
              "      <th>Premiere</th>\n",
              "      <th>Runtime</th>\n",
              "      <th>IMDB Score</th>\n",
              "      <th>Language</th>\n",
              "    </tr>\n",
              "  </thead>\n",
              "  <tbody>\n",
              "    <tr>\n",
              "      <th>0</th>\n",
              "      <td>Enter the Anime</td>\n",
              "      <td>Documentary</td>\n",
              "      <td>August 5, 2019</td>\n",
              "      <td>58</td>\n",
              "      <td>2.5</td>\n",
              "      <td>English/Japanese</td>\n",
              "    </tr>\n",
              "    <tr>\n",
              "      <th>1</th>\n",
              "      <td>Dark Forces</td>\n",
              "      <td>Thriller</td>\n",
              "      <td>August 21, 2020</td>\n",
              "      <td>81</td>\n",
              "      <td>2.6</td>\n",
              "      <td>Spanish</td>\n",
              "    </tr>\n",
              "    <tr>\n",
              "      <th>2</th>\n",
              "      <td>The App</td>\n",
              "      <td>Science fiction/Drama</td>\n",
              "      <td>December 26, 2019</td>\n",
              "      <td>79</td>\n",
              "      <td>2.6</td>\n",
              "      <td>Italian</td>\n",
              "    </tr>\n",
              "    <tr>\n",
              "      <th>3</th>\n",
              "      <td>The Open House</td>\n",
              "      <td>Horror thriller</td>\n",
              "      <td>January 19, 2018</td>\n",
              "      <td>94</td>\n",
              "      <td>3.2</td>\n",
              "      <td>English</td>\n",
              "    </tr>\n",
              "    <tr>\n",
              "      <th>4</th>\n",
              "      <td>Kaali Khuhi</td>\n",
              "      <td>Mystery</td>\n",
              "      <td>October 30, 2020</td>\n",
              "      <td>90</td>\n",
              "      <td>3.4</td>\n",
              "      <td>Hindi</td>\n",
              "    </tr>\n",
              "    <tr>\n",
              "      <th>...</th>\n",
              "      <td>...</td>\n",
              "      <td>...</td>\n",
              "      <td>...</td>\n",
              "      <td>...</td>\n",
              "      <td>...</td>\n",
              "      <td>...</td>\n",
              "    </tr>\n",
              "    <tr>\n",
              "      <th>579</th>\n",
              "      <td>Taylor Swift: Reputation Stadium Tour</td>\n",
              "      <td>Concert Film</td>\n",
              "      <td>December 31, 2018</td>\n",
              "      <td>125</td>\n",
              "      <td>8.4</td>\n",
              "      <td>English</td>\n",
              "    </tr>\n",
              "    <tr>\n",
              "      <th>580</th>\n",
              "      <td>Winter on Fire: Ukraine's Fight for Freedom</td>\n",
              "      <td>Documentary</td>\n",
              "      <td>October 9, 2015</td>\n",
              "      <td>91</td>\n",
              "      <td>8.4</td>\n",
              "      <td>English/Ukranian/Russian</td>\n",
              "    </tr>\n",
              "    <tr>\n",
              "      <th>581</th>\n",
              "      <td>Springsteen on Broadway</td>\n",
              "      <td>One-man show</td>\n",
              "      <td>December 16, 2018</td>\n",
              "      <td>153</td>\n",
              "      <td>8.5</td>\n",
              "      <td>English</td>\n",
              "    </tr>\n",
              "    <tr>\n",
              "      <th>582</th>\n",
              "      <td>Emicida: AmarElo - It's All For Yesterday</td>\n",
              "      <td>Documentary</td>\n",
              "      <td>December 8, 2020</td>\n",
              "      <td>89</td>\n",
              "      <td>8.6</td>\n",
              "      <td>Portuguese</td>\n",
              "    </tr>\n",
              "    <tr>\n",
              "      <th>583</th>\n",
              "      <td>David Attenborough: A Life on Our Planet</td>\n",
              "      <td>Documentary</td>\n",
              "      <td>October 4, 2020</td>\n",
              "      <td>83</td>\n",
              "      <td>9.0</td>\n",
              "      <td>English</td>\n",
              "    </tr>\n",
              "  </tbody>\n",
              "</table>\n",
              "<p>584 rows × 6 columns</p>\n",
              "</div>\n",
              "      <button class=\"colab-df-convert\" onclick=\"convertToInteractive('df-a9de2652-9ed5-4927-978c-13d4d7e4b02f')\"\n",
              "              title=\"Convert this dataframe to an interactive table.\"\n",
              "              style=\"display:none;\">\n",
              "        \n",
              "  <svg xmlns=\"http://www.w3.org/2000/svg\" height=\"24px\"viewBox=\"0 0 24 24\"\n",
              "       width=\"24px\">\n",
              "    <path d=\"M0 0h24v24H0V0z\" fill=\"none\"/>\n",
              "    <path d=\"M18.56 5.44l.94 2.06.94-2.06 2.06-.94-2.06-.94-.94-2.06-.94 2.06-2.06.94zm-11 1L8.5 8.5l.94-2.06 2.06-.94-2.06-.94L8.5 2.5l-.94 2.06-2.06.94zm10 10l.94 2.06.94-2.06 2.06-.94-2.06-.94-.94-2.06-.94 2.06-2.06.94z\"/><path d=\"M17.41 7.96l-1.37-1.37c-.4-.4-.92-.59-1.43-.59-.52 0-1.04.2-1.43.59L10.3 9.45l-7.72 7.72c-.78.78-.78 2.05 0 2.83L4 21.41c.39.39.9.59 1.41.59.51 0 1.02-.2 1.41-.59l7.78-7.78 2.81-2.81c.8-.78.8-2.07 0-2.86zM5.41 20L4 18.59l7.72-7.72 1.47 1.35L5.41 20z\"/>\n",
              "  </svg>\n",
              "      </button>\n",
              "      \n",
              "  <style>\n",
              "    .colab-df-container {\n",
              "      display:flex;\n",
              "      flex-wrap:wrap;\n",
              "      gap: 12px;\n",
              "    }\n",
              "\n",
              "    .colab-df-convert {\n",
              "      background-color: #E8F0FE;\n",
              "      border: none;\n",
              "      border-radius: 50%;\n",
              "      cursor: pointer;\n",
              "      display: none;\n",
              "      fill: #1967D2;\n",
              "      height: 32px;\n",
              "      padding: 0 0 0 0;\n",
              "      width: 32px;\n",
              "    }\n",
              "\n",
              "    .colab-df-convert:hover {\n",
              "      background-color: #E2EBFA;\n",
              "      box-shadow: 0px 1px 2px rgba(60, 64, 67, 0.3), 0px 1px 3px 1px rgba(60, 64, 67, 0.15);\n",
              "      fill: #174EA6;\n",
              "    }\n",
              "\n",
              "    [theme=dark] .colab-df-convert {\n",
              "      background-color: #3B4455;\n",
              "      fill: #D2E3FC;\n",
              "    }\n",
              "\n",
              "    [theme=dark] .colab-df-convert:hover {\n",
              "      background-color: #434B5C;\n",
              "      box-shadow: 0px 1px 3px 1px rgba(0, 0, 0, 0.15);\n",
              "      filter: drop-shadow(0px 1px 2px rgba(0, 0, 0, 0.3));\n",
              "      fill: #FFFFFF;\n",
              "    }\n",
              "  </style>\n",
              "\n",
              "      <script>\n",
              "        const buttonEl =\n",
              "          document.querySelector('#df-a9de2652-9ed5-4927-978c-13d4d7e4b02f button.colab-df-convert');\n",
              "        buttonEl.style.display =\n",
              "          google.colab.kernel.accessAllowed ? 'block' : 'none';\n",
              "\n",
              "        async function convertToInteractive(key) {\n",
              "          const element = document.querySelector('#df-a9de2652-9ed5-4927-978c-13d4d7e4b02f');\n",
              "          const dataTable =\n",
              "            await google.colab.kernel.invokeFunction('convertToInteractive',\n",
              "                                                     [key], {});\n",
              "          if (!dataTable) return;\n",
              "\n",
              "          const docLinkHtml = 'Like what you see? Visit the ' +\n",
              "            '<a target=\"_blank\" href=https://colab.research.google.com/notebooks/data_table.ipynb>data table notebook</a>'\n",
              "            + ' to learn more about interactive tables.';\n",
              "          element.innerHTML = '';\n",
              "          dataTable['output_type'] = 'display_data';\n",
              "          await google.colab.output.renderOutput(dataTable, element);\n",
              "          const docLink = document.createElement('div');\n",
              "          docLink.innerHTML = docLinkHtml;\n",
              "          element.appendChild(docLink);\n",
              "        }\n",
              "      </script>\n",
              "    </div>\n",
              "  </div>\n",
              "  "
            ]
          },
          "metadata": {},
          "execution_count": 49
        }
      ]
    },
    {
      "cell_type": "markdown",
      "source": [
        "## Get the basic information about data"
      ],
      "metadata": {
        "id": "T_uZducpXskm"
      }
    },
    {
      "cell_type": "code",
      "source": [
        "# variables to explore\n",
        "df.columns"
      ],
      "metadata": {
        "id": "M3vOLVWxMQfV",
        "execution": {
          "iopub.status.busy": "2022-07-22T10:54:01.091580Z",
          "iopub.status.idle": "2022-07-22T10:54:01.091968Z",
          "shell.execute_reply.started": "2022-07-22T10:54:01.091753Z",
          "shell.execute_reply": "2022-07-22T10:54:01.091771Z"
        },
        "trusted": true,
        "colab": {
          "base_uri": "https://localhost:8080/"
        },
        "outputId": "6be41299-6f4a-4406-d6c3-a19a9d39522a"
      },
      "execution_count": null,
      "outputs": [
        {
          "output_type": "execute_result",
          "data": {
            "text/plain": [
              "Index(['Title', 'Genre', 'Premiere', 'Runtime', 'IMDB Score', 'Language'], dtype='object')"
            ]
          },
          "metadata": {},
          "execution_count": 20
        }
      ]
    },
    {
      "cell_type": "code",
      "source": [
        "df.info()"
      ],
      "metadata": {
        "execution": {
          "iopub.status.busy": "2022-07-22T10:54:01.093771Z",
          "iopub.status.idle": "2022-07-22T10:54:01.094165Z",
          "shell.execute_reply.started": "2022-07-22T10:54:01.093976Z",
          "shell.execute_reply": "2022-07-22T10:54:01.093994Z"
        },
        "trusted": true,
        "id": "S3Bx4fnJ9Wl6",
        "colab": {
          "base_uri": "https://localhost:8080/"
        },
        "outputId": "58b88797-623d-40b3-a403-41f1690a0f34"
      },
      "execution_count": null,
      "outputs": [
        {
          "output_type": "stream",
          "name": "stdout",
          "text": [
            "<class 'pandas.core.frame.DataFrame'>\n",
            "RangeIndex: 584 entries, 0 to 583\n",
            "Data columns (total 6 columns):\n",
            " #   Column      Non-Null Count  Dtype  \n",
            "---  ------      --------------  -----  \n",
            " 0   Title       584 non-null    object \n",
            " 1   Genre       584 non-null    object \n",
            " 2   Premiere    584 non-null    object \n",
            " 3   Runtime     584 non-null    int64  \n",
            " 4   IMDB Score  584 non-null    float64\n",
            " 5   Language    584 non-null    object \n",
            "dtypes: float64(1), int64(1), object(4)\n",
            "memory usage: 27.5+ KB\n"
          ]
        }
      ]
    },
    {
      "cell_type": "code",
      "source": [
        "df.describe()"
      ],
      "metadata": {
        "execution": {
          "iopub.status.busy": "2022-07-22T10:54:01.095383Z",
          "iopub.status.idle": "2022-07-22T10:54:01.095747Z",
          "shell.execute_reply.started": "2022-07-22T10:54:01.095566Z",
          "shell.execute_reply": "2022-07-22T10:54:01.095583Z"
        },
        "trusted": true,
        "id": "7K6-BMhL9Wl8",
        "colab": {
          "base_uri": "https://localhost:8080/",
          "height": 300
        },
        "outputId": "2e4b34bc-f290-4f89-d1e4-a8a0522414ad"
      },
      "execution_count": null,
      "outputs": [
        {
          "output_type": "execute_result",
          "data": {
            "text/plain": [
              "          Runtime  IMDB Score\n",
              "count  584.000000  584.000000\n",
              "mean    93.577055    6.271747\n",
              "std     27.761683    0.979256\n",
              "min      4.000000    2.500000\n",
              "25%     86.000000    5.700000\n",
              "50%     97.000000    6.350000\n",
              "75%    108.000000    7.000000\n",
              "max    209.000000    9.000000"
            ],
            "text/html": [
              "\n",
              "  <div id=\"df-e5422633-ca30-443c-bbf3-240a825c0600\">\n",
              "    <div class=\"colab-df-container\">\n",
              "      <div>\n",
              "<style scoped>\n",
              "    .dataframe tbody tr th:only-of-type {\n",
              "        vertical-align: middle;\n",
              "    }\n",
              "\n",
              "    .dataframe tbody tr th {\n",
              "        vertical-align: top;\n",
              "    }\n",
              "\n",
              "    .dataframe thead th {\n",
              "        text-align: right;\n",
              "    }\n",
              "</style>\n",
              "<table border=\"1\" class=\"dataframe\">\n",
              "  <thead>\n",
              "    <tr style=\"text-align: right;\">\n",
              "      <th></th>\n",
              "      <th>Runtime</th>\n",
              "      <th>IMDB Score</th>\n",
              "    </tr>\n",
              "  </thead>\n",
              "  <tbody>\n",
              "    <tr>\n",
              "      <th>count</th>\n",
              "      <td>584.000000</td>\n",
              "      <td>584.000000</td>\n",
              "    </tr>\n",
              "    <tr>\n",
              "      <th>mean</th>\n",
              "      <td>93.577055</td>\n",
              "      <td>6.271747</td>\n",
              "    </tr>\n",
              "    <tr>\n",
              "      <th>std</th>\n",
              "      <td>27.761683</td>\n",
              "      <td>0.979256</td>\n",
              "    </tr>\n",
              "    <tr>\n",
              "      <th>min</th>\n",
              "      <td>4.000000</td>\n",
              "      <td>2.500000</td>\n",
              "    </tr>\n",
              "    <tr>\n",
              "      <th>25%</th>\n",
              "      <td>86.000000</td>\n",
              "      <td>5.700000</td>\n",
              "    </tr>\n",
              "    <tr>\n",
              "      <th>50%</th>\n",
              "      <td>97.000000</td>\n",
              "      <td>6.350000</td>\n",
              "    </tr>\n",
              "    <tr>\n",
              "      <th>75%</th>\n",
              "      <td>108.000000</td>\n",
              "      <td>7.000000</td>\n",
              "    </tr>\n",
              "    <tr>\n",
              "      <th>max</th>\n",
              "      <td>209.000000</td>\n",
              "      <td>9.000000</td>\n",
              "    </tr>\n",
              "  </tbody>\n",
              "</table>\n",
              "</div>\n",
              "      <button class=\"colab-df-convert\" onclick=\"convertToInteractive('df-e5422633-ca30-443c-bbf3-240a825c0600')\"\n",
              "              title=\"Convert this dataframe to an interactive table.\"\n",
              "              style=\"display:none;\">\n",
              "        \n",
              "  <svg xmlns=\"http://www.w3.org/2000/svg\" height=\"24px\"viewBox=\"0 0 24 24\"\n",
              "       width=\"24px\">\n",
              "    <path d=\"M0 0h24v24H0V0z\" fill=\"none\"/>\n",
              "    <path d=\"M18.56 5.44l.94 2.06.94-2.06 2.06-.94-2.06-.94-.94-2.06-.94 2.06-2.06.94zm-11 1L8.5 8.5l.94-2.06 2.06-.94-2.06-.94L8.5 2.5l-.94 2.06-2.06.94zm10 10l.94 2.06.94-2.06 2.06-.94-2.06-.94-.94-2.06-.94 2.06-2.06.94z\"/><path d=\"M17.41 7.96l-1.37-1.37c-.4-.4-.92-.59-1.43-.59-.52 0-1.04.2-1.43.59L10.3 9.45l-7.72 7.72c-.78.78-.78 2.05 0 2.83L4 21.41c.39.39.9.59 1.41.59.51 0 1.02-.2 1.41-.59l7.78-7.78 2.81-2.81c.8-.78.8-2.07 0-2.86zM5.41 20L4 18.59l7.72-7.72 1.47 1.35L5.41 20z\"/>\n",
              "  </svg>\n",
              "      </button>\n",
              "      \n",
              "  <style>\n",
              "    .colab-df-container {\n",
              "      display:flex;\n",
              "      flex-wrap:wrap;\n",
              "      gap: 12px;\n",
              "    }\n",
              "\n",
              "    .colab-df-convert {\n",
              "      background-color: #E8F0FE;\n",
              "      border: none;\n",
              "      border-radius: 50%;\n",
              "      cursor: pointer;\n",
              "      display: none;\n",
              "      fill: #1967D2;\n",
              "      height: 32px;\n",
              "      padding: 0 0 0 0;\n",
              "      width: 32px;\n",
              "    }\n",
              "\n",
              "    .colab-df-convert:hover {\n",
              "      background-color: #E2EBFA;\n",
              "      box-shadow: 0px 1px 2px rgba(60, 64, 67, 0.3), 0px 1px 3px 1px rgba(60, 64, 67, 0.15);\n",
              "      fill: #174EA6;\n",
              "    }\n",
              "\n",
              "    [theme=dark] .colab-df-convert {\n",
              "      background-color: #3B4455;\n",
              "      fill: #D2E3FC;\n",
              "    }\n",
              "\n",
              "    [theme=dark] .colab-df-convert:hover {\n",
              "      background-color: #434B5C;\n",
              "      box-shadow: 0px 1px 3px 1px rgba(0, 0, 0, 0.15);\n",
              "      filter: drop-shadow(0px 1px 2px rgba(0, 0, 0, 0.3));\n",
              "      fill: #FFFFFF;\n",
              "    }\n",
              "  </style>\n",
              "\n",
              "      <script>\n",
              "        const buttonEl =\n",
              "          document.querySelector('#df-e5422633-ca30-443c-bbf3-240a825c0600 button.colab-df-convert');\n",
              "        buttonEl.style.display =\n",
              "          google.colab.kernel.accessAllowed ? 'block' : 'none';\n",
              "\n",
              "        async function convertToInteractive(key) {\n",
              "          const element = document.querySelector('#df-e5422633-ca30-443c-bbf3-240a825c0600');\n",
              "          const dataTable =\n",
              "            await google.colab.kernel.invokeFunction('convertToInteractive',\n",
              "                                                     [key], {});\n",
              "          if (!dataTable) return;\n",
              "\n",
              "          const docLinkHtml = 'Like what you see? Visit the ' +\n",
              "            '<a target=\"_blank\" href=https://colab.research.google.com/notebooks/data_table.ipynb>data table notebook</a>'\n",
              "            + ' to learn more about interactive tables.';\n",
              "          element.innerHTML = '';\n",
              "          dataTable['output_type'] = 'display_data';\n",
              "          await google.colab.output.renderOutput(dataTable, element);\n",
              "          const docLink = document.createElement('div');\n",
              "          docLink.innerHTML = docLinkHtml;\n",
              "          element.appendChild(docLink);\n",
              "        }\n",
              "      </script>\n",
              "    </div>\n",
              "  </div>\n",
              "  "
            ]
          },
          "metadata": {},
          "execution_count": 22
        }
      ]
    },
    {
      "cell_type": "markdown",
      "source": [
        "'describe()' functions returned some basic information about the numerical variables in dataset."
      ],
      "metadata": {
        "id": "UIJeUkve9Wl9"
      }
    },
    {
      "cell_type": "markdown",
      "source": [
        "## Identify data types of variables"
      ],
      "metadata": {
        "id": "4d8KRzvk9WmA"
      }
    },
    {
      "cell_type": "code",
      "source": [
        "df.dtypes"
      ],
      "metadata": {
        "execution": {
          "iopub.status.busy": "2022-07-22T10:54:01.096868Z",
          "iopub.status.idle": "2022-07-22T10:54:01.097245Z",
          "shell.execute_reply.started": "2022-07-22T10:54:01.097066Z",
          "shell.execute_reply": "2022-07-22T10:54:01.097084Z"
        },
        "trusted": true,
        "id": "XEyCGPcR9WmB",
        "colab": {
          "base_uri": "https://localhost:8080/"
        },
        "outputId": "448786e3-77a9-4f4b-a276-1a721f296295"
      },
      "execution_count": null,
      "outputs": [
        {
          "output_type": "execute_result",
          "data": {
            "text/plain": [
              "Title          object\n",
              "Genre          object\n",
              "Premiere       object\n",
              "Runtime         int64\n",
              "IMDB Score    float64\n",
              "Language       object\n",
              "dtype: object"
            ]
          },
          "metadata": {},
          "execution_count": 23
        }
      ]
    },
    {
      "cell_type": "code",
      "source": [
        "# number of observations\n",
        "len(df)"
      ],
      "metadata": {
        "id": "nzqMsQWaYb7U",
        "execution": {
          "iopub.status.busy": "2022-07-22T10:54:01.098550Z",
          "iopub.status.idle": "2022-07-22T10:54:01.098898Z",
          "shell.execute_reply.started": "2022-07-22T10:54:01.098721Z",
          "shell.execute_reply": "2022-07-22T10:54:01.098738Z"
        },
        "trusted": true,
        "colab": {
          "base_uri": "https://localhost:8080/"
        },
        "outputId": "2cd9a9a8-cffb-4284-a58a-61f7e0dd5dfd"
      },
      "execution_count": null,
      "outputs": [
        {
          "output_type": "execute_result",
          "data": {
            "text/plain": [
              "584"
            ]
          },
          "metadata": {},
          "execution_count": 24
        }
      ]
    },
    {
      "cell_type": "markdown",
      "source": [
        "Names of variables in dataset and number of variables also number of observations have been identified. There are 6 columns and 584 observations in this dataset."
      ],
      "metadata": {
        "id": "HikO5D02X_cP"
      }
    },
    {
      "cell_type": "markdown",
      "source": [
        "## Check for NA values"
      ],
      "metadata": {
        "id": "MG_r_Uju9WmF"
      }
    },
    {
      "cell_type": "code",
      "source": [
        "df.isna().any()"
      ],
      "metadata": {
        "execution": {
          "iopub.status.busy": "2022-07-22T10:54:01.100238Z",
          "iopub.status.idle": "2022-07-22T10:54:01.100593Z",
          "shell.execute_reply.started": "2022-07-22T10:54:01.100405Z",
          "shell.execute_reply": "2022-07-22T10:54:01.100422Z"
        },
        "trusted": true,
        "id": "sB4IOFyv9WmG",
        "colab": {
          "base_uri": "https://localhost:8080/"
        },
        "outputId": "61bc713d-4879-468d-af0f-c8b9d27f9f78"
      },
      "execution_count": null,
      "outputs": [
        {
          "output_type": "execute_result",
          "data": {
            "text/plain": [
              "Title         False\n",
              "Genre         False\n",
              "Premiere      False\n",
              "Runtime       False\n",
              "IMDB Score    False\n",
              "Language      False\n",
              "dtype: bool"
            ]
          },
          "metadata": {},
          "execution_count": 25
        }
      ]
    },
    {
      "cell_type": "markdown",
      "source": [
        "# Question 1\n",
        "\n"
      ],
      "metadata": {
        "id": "s146N_jMArYy"
      }
    },
    {
      "cell_type": "markdown",
      "source": [
        "* EN: **In what language most of the long runtime movies have been filmed? Visualize the results.**\n",
        "* TR: **Veri setine göre uzun soluklu filmler hangi dilde oluşturulmuştur? Görselleştirme yapınız.**"
      ],
      "metadata": {
        "id": "jpG8BQV29WmH"
      }
    },
    {
      "cell_type": "markdown",
      "source": [
        "According to the dataset in what language long runtime movies have been filmed?\n",
        "(Veri setine göre uzun soluklu filmler hangi dilde oluşturulmuştur? Görselleştirme yapınız.)\n",
        "\n",
        "First task was to identfy in which language long runtime movies have been filmed. According to [Academy of Motion Picture Arts and Sciences](https://en.wikipedia.org/wiki/Academy_of_Motion_Picture_Arts_and_Sciences), [short movies](https://en.wikipedia.org/wiki/Short_film) are movies with a running time of 40 minutes or less, including all credits. So, films with a running time of greater than 40 minutes are needed to be filtered out. For clarity, in this project films with runtime values greater than 45 minutes have been taken as long runtime movies. Because, there are some movies with 41, 42 and near runtime values which seem to include longer credits time. "
      ],
      "metadata": {
        "id": "aQ8H-XH99WmI"
      }
    },
    {
      "cell_type": "code",
      "source": [
        "long_runtime = df[df['Runtime'] > 45].sort_values(\"Runtime\", ignore_index=True)\n",
        "long_runtime.head(30)"
      ],
      "metadata": {
        "id": "46JAqhAL-rvf",
        "execution": {
          "iopub.status.busy": "2022-07-22T10:54:01.101734Z",
          "iopub.status.idle": "2022-07-22T10:54:01.102111Z",
          "shell.execute_reply.started": "2022-07-22T10:54:01.101920Z",
          "shell.execute_reply": "2022-07-22T10:54:01.101943Z"
        },
        "trusted": true,
        "colab": {
          "base_uri": "https://localhost:8080/",
          "height": 1000
        },
        "outputId": "1110d480-b082-4912-ad03-cd9e405e44b4"
      },
      "execution_count": null,
      "outputs": [
        {
          "output_type": "execute_result",
          "data": {
            "text/plain": [
              "                                                Title  \\\n",
              "0    Porta dos Fundos: The First Temptation of Christ   \n",
              "1                  Octonauts & the Great Barrier Reef   \n",
              "2                             Angela's Christmas Wish   \n",
              "3                 ReMastered: Devil at the Crossroads   \n",
              "4                     Sarah Cooper: Everything's Fine   \n",
              "5                             Derren Brown: Sacrifice   \n",
              "6                              Dancing with the Birds   \n",
              "7                                         Rodney King   \n",
              "8                        The Minimalists: Less Is Now   \n",
              "9   Michael Bolton's Big, Sexy, Valentine's Day Sp...   \n",
              "10                  Dolly Parton: A MusiCares Tribute   \n",
              "11                            A Very Murray Christmas   \n",
              "12                  ReMastered: Who Shot the Sheriff?   \n",
              "13                               Searching for Sheela   \n",
              "14             ReMastered: Who Killed Jam Master Jay?   \n",
              "15         ReMastered: Tricky Dick & the Man in Black   \n",
              "16                                    Enter the Anime   \n",
              "17                Still Laugh-In: The Stars Celebrate   \n",
              "18          Antoine Griezmann: The Making of a Legend   \n",
              "19                Kevin Hart's Guide to Black History   \n",
              "20              Los Tigres del Norte at Folsom Prison   \n",
              "21                  Hello Privilege. It's Me, Chelsea   \n",
              "22                ReMastered: Massacre at the Stadium   \n",
              "23          ReMastered: The Two Killings of Sam Cooke   \n",
              "24                                   Girlfriend's Day   \n",
              "25            ReMastered: The Miami Showband Massacre   \n",
              "26                John Mulaney & the Sack Lunch Bunch   \n",
              "27                                      Death to 2020   \n",
              "28                     Invader Zim: Enter the Florpus   \n",
              "29                 Octonauts & the Caves of Sac Actun   \n",
              "\n",
              "                          Genre            Premiere  Runtime  IMDB Score  \\\n",
              "0                        Comedy    December 3, 2019       46         4.6   \n",
              "1                     Animation    October 13, 2020       47         7.3   \n",
              "2                     Animation    December 1, 2020       47         7.1   \n",
              "3                   Documentary      April 26, 2019       48         7.0   \n",
              "4                  Variety show    October 27, 2020       49         5.6   \n",
              "5             Mentalism special    October 19, 2018       49         7.1   \n",
              "6                   Documentary    October 23, 2019       51         8.3   \n",
              "7                  One-man show      April 28, 2017       52         5.8   \n",
              "8                   Documentary     January 1, 2021       53         5.9   \n",
              "9                  Variety Show    February 7, 2017       54         6.7   \n",
              "10                  Documentary       April 7, 2021       55         6.5   \n",
              "11             Comedy / Musical    December 4, 2015       56         5.5   \n",
              "12                  Documentary    October 12, 2018       57         6.9   \n",
              "13                  Documentary      April 22, 2021       58         4.1   \n",
              "14                  Documentary    December 7, 2018       58         6.6   \n",
              "15                  Documentary    November 2, 2018       58         7.1   \n",
              "16                  Documentary      August 5, 2019       58         2.5   \n",
              "17                 Variety show        May 14, 2019       60         5.2   \n",
              "18                  Documentary      March 21, 2019       60         6.5   \n",
              "19                 Variety show    February 8, 2019       63         5.5   \n",
              "20                  Documentary  September 15, 2019       64         7.0   \n",
              "21                  Documentary  September 13, 2019       64         4.4   \n",
              "22                  Documentary    January 11, 2019       64         7.3   \n",
              "23                  Documentary    February 8, 2019       64         7.3   \n",
              "24                       Comedy   February 14, 2017       70         5.2   \n",
              "25                  Documentary      March 22, 2019       70         7.0   \n",
              "26                 Variety show   December 24, 2019       70         7.5   \n",
              "27                       Comedy   December 27, 2020       70         6.8   \n",
              "28  Animation / Science Fiction     August 16, 2019       71         7.5   \n",
              "29                    Animation     August 14, 2020       72         6.2   \n",
              "\n",
              "            Language  \n",
              "0         Portuguese  \n",
              "1            English  \n",
              "2            English  \n",
              "3            English  \n",
              "4            English  \n",
              "5            English  \n",
              "6            English  \n",
              "7            English  \n",
              "8            English  \n",
              "9            English  \n",
              "10           English  \n",
              "11           English  \n",
              "12           English  \n",
              "13           English  \n",
              "14           English  \n",
              "15           English  \n",
              "16  English/Japanese  \n",
              "17           English  \n",
              "18            French  \n",
              "19           English  \n",
              "20           Spanish  \n",
              "21           English  \n",
              "22   English/Spanish  \n",
              "23           English  \n",
              "24           English  \n",
              "25           English  \n",
              "26           English  \n",
              "27           English  \n",
              "28           English  \n",
              "29           English  "
            ],
            "text/html": [
              "\n",
              "  <div id=\"df-beb1d6da-e1d8-4152-9f34-d743c1e6f47a\">\n",
              "    <div class=\"colab-df-container\">\n",
              "      <div>\n",
              "<style scoped>\n",
              "    .dataframe tbody tr th:only-of-type {\n",
              "        vertical-align: middle;\n",
              "    }\n",
              "\n",
              "    .dataframe tbody tr th {\n",
              "        vertical-align: top;\n",
              "    }\n",
              "\n",
              "    .dataframe thead th {\n",
              "        text-align: right;\n",
              "    }\n",
              "</style>\n",
              "<table border=\"1\" class=\"dataframe\">\n",
              "  <thead>\n",
              "    <tr style=\"text-align: right;\">\n",
              "      <th></th>\n",
              "      <th>Title</th>\n",
              "      <th>Genre</th>\n",
              "      <th>Premiere</th>\n",
              "      <th>Runtime</th>\n",
              "      <th>IMDB Score</th>\n",
              "      <th>Language</th>\n",
              "    </tr>\n",
              "  </thead>\n",
              "  <tbody>\n",
              "    <tr>\n",
              "      <th>0</th>\n",
              "      <td>Porta dos Fundos: The First Temptation of Christ</td>\n",
              "      <td>Comedy</td>\n",
              "      <td>December 3, 2019</td>\n",
              "      <td>46</td>\n",
              "      <td>4.6</td>\n",
              "      <td>Portuguese</td>\n",
              "    </tr>\n",
              "    <tr>\n",
              "      <th>1</th>\n",
              "      <td>Octonauts &amp; the Great Barrier Reef</td>\n",
              "      <td>Animation</td>\n",
              "      <td>October 13, 2020</td>\n",
              "      <td>47</td>\n",
              "      <td>7.3</td>\n",
              "      <td>English</td>\n",
              "    </tr>\n",
              "    <tr>\n",
              "      <th>2</th>\n",
              "      <td>Angela's Christmas Wish</td>\n",
              "      <td>Animation</td>\n",
              "      <td>December 1, 2020</td>\n",
              "      <td>47</td>\n",
              "      <td>7.1</td>\n",
              "      <td>English</td>\n",
              "    </tr>\n",
              "    <tr>\n",
              "      <th>3</th>\n",
              "      <td>ReMastered: Devil at the Crossroads</td>\n",
              "      <td>Documentary</td>\n",
              "      <td>April 26, 2019</td>\n",
              "      <td>48</td>\n",
              "      <td>7.0</td>\n",
              "      <td>English</td>\n",
              "    </tr>\n",
              "    <tr>\n",
              "      <th>4</th>\n",
              "      <td>Sarah Cooper: Everything's Fine</td>\n",
              "      <td>Variety show</td>\n",
              "      <td>October 27, 2020</td>\n",
              "      <td>49</td>\n",
              "      <td>5.6</td>\n",
              "      <td>English</td>\n",
              "    </tr>\n",
              "    <tr>\n",
              "      <th>5</th>\n",
              "      <td>Derren Brown: Sacrifice</td>\n",
              "      <td>Mentalism special</td>\n",
              "      <td>October 19, 2018</td>\n",
              "      <td>49</td>\n",
              "      <td>7.1</td>\n",
              "      <td>English</td>\n",
              "    </tr>\n",
              "    <tr>\n",
              "      <th>6</th>\n",
              "      <td>Dancing with the Birds</td>\n",
              "      <td>Documentary</td>\n",
              "      <td>October 23, 2019</td>\n",
              "      <td>51</td>\n",
              "      <td>8.3</td>\n",
              "      <td>English</td>\n",
              "    </tr>\n",
              "    <tr>\n",
              "      <th>7</th>\n",
              "      <td>Rodney King</td>\n",
              "      <td>One-man show</td>\n",
              "      <td>April 28, 2017</td>\n",
              "      <td>52</td>\n",
              "      <td>5.8</td>\n",
              "      <td>English</td>\n",
              "    </tr>\n",
              "    <tr>\n",
              "      <th>8</th>\n",
              "      <td>The Minimalists: Less Is Now</td>\n",
              "      <td>Documentary</td>\n",
              "      <td>January 1, 2021</td>\n",
              "      <td>53</td>\n",
              "      <td>5.9</td>\n",
              "      <td>English</td>\n",
              "    </tr>\n",
              "    <tr>\n",
              "      <th>9</th>\n",
              "      <td>Michael Bolton's Big, Sexy, Valentine's Day Sp...</td>\n",
              "      <td>Variety Show</td>\n",
              "      <td>February 7, 2017</td>\n",
              "      <td>54</td>\n",
              "      <td>6.7</td>\n",
              "      <td>English</td>\n",
              "    </tr>\n",
              "    <tr>\n",
              "      <th>10</th>\n",
              "      <td>Dolly Parton: A MusiCares Tribute</td>\n",
              "      <td>Documentary</td>\n",
              "      <td>April 7, 2021</td>\n",
              "      <td>55</td>\n",
              "      <td>6.5</td>\n",
              "      <td>English</td>\n",
              "    </tr>\n",
              "    <tr>\n",
              "      <th>11</th>\n",
              "      <td>A Very Murray Christmas</td>\n",
              "      <td>Comedy / Musical</td>\n",
              "      <td>December 4, 2015</td>\n",
              "      <td>56</td>\n",
              "      <td>5.5</td>\n",
              "      <td>English</td>\n",
              "    </tr>\n",
              "    <tr>\n",
              "      <th>12</th>\n",
              "      <td>ReMastered: Who Shot the Sheriff?</td>\n",
              "      <td>Documentary</td>\n",
              "      <td>October 12, 2018</td>\n",
              "      <td>57</td>\n",
              "      <td>6.9</td>\n",
              "      <td>English</td>\n",
              "    </tr>\n",
              "    <tr>\n",
              "      <th>13</th>\n",
              "      <td>Searching for Sheela</td>\n",
              "      <td>Documentary</td>\n",
              "      <td>April 22, 2021</td>\n",
              "      <td>58</td>\n",
              "      <td>4.1</td>\n",
              "      <td>English</td>\n",
              "    </tr>\n",
              "    <tr>\n",
              "      <th>14</th>\n",
              "      <td>ReMastered: Who Killed Jam Master Jay?</td>\n",
              "      <td>Documentary</td>\n",
              "      <td>December 7, 2018</td>\n",
              "      <td>58</td>\n",
              "      <td>6.6</td>\n",
              "      <td>English</td>\n",
              "    </tr>\n",
              "    <tr>\n",
              "      <th>15</th>\n",
              "      <td>ReMastered: Tricky Dick &amp; the Man in Black</td>\n",
              "      <td>Documentary</td>\n",
              "      <td>November 2, 2018</td>\n",
              "      <td>58</td>\n",
              "      <td>7.1</td>\n",
              "      <td>English</td>\n",
              "    </tr>\n",
              "    <tr>\n",
              "      <th>16</th>\n",
              "      <td>Enter the Anime</td>\n",
              "      <td>Documentary</td>\n",
              "      <td>August 5, 2019</td>\n",
              "      <td>58</td>\n",
              "      <td>2.5</td>\n",
              "      <td>English/Japanese</td>\n",
              "    </tr>\n",
              "    <tr>\n",
              "      <th>17</th>\n",
              "      <td>Still Laugh-In: The Stars Celebrate</td>\n",
              "      <td>Variety show</td>\n",
              "      <td>May 14, 2019</td>\n",
              "      <td>60</td>\n",
              "      <td>5.2</td>\n",
              "      <td>English</td>\n",
              "    </tr>\n",
              "    <tr>\n",
              "      <th>18</th>\n",
              "      <td>Antoine Griezmann: The Making of a Legend</td>\n",
              "      <td>Documentary</td>\n",
              "      <td>March 21, 2019</td>\n",
              "      <td>60</td>\n",
              "      <td>6.5</td>\n",
              "      <td>French</td>\n",
              "    </tr>\n",
              "    <tr>\n",
              "      <th>19</th>\n",
              "      <td>Kevin Hart's Guide to Black History</td>\n",
              "      <td>Variety show</td>\n",
              "      <td>February 8, 2019</td>\n",
              "      <td>63</td>\n",
              "      <td>5.5</td>\n",
              "      <td>English</td>\n",
              "    </tr>\n",
              "    <tr>\n",
              "      <th>20</th>\n",
              "      <td>Los Tigres del Norte at Folsom Prison</td>\n",
              "      <td>Documentary</td>\n",
              "      <td>September 15, 2019</td>\n",
              "      <td>64</td>\n",
              "      <td>7.0</td>\n",
              "      <td>Spanish</td>\n",
              "    </tr>\n",
              "    <tr>\n",
              "      <th>21</th>\n",
              "      <td>Hello Privilege. It's Me, Chelsea</td>\n",
              "      <td>Documentary</td>\n",
              "      <td>September 13, 2019</td>\n",
              "      <td>64</td>\n",
              "      <td>4.4</td>\n",
              "      <td>English</td>\n",
              "    </tr>\n",
              "    <tr>\n",
              "      <th>22</th>\n",
              "      <td>ReMastered: Massacre at the Stadium</td>\n",
              "      <td>Documentary</td>\n",
              "      <td>January 11, 2019</td>\n",
              "      <td>64</td>\n",
              "      <td>7.3</td>\n",
              "      <td>English/Spanish</td>\n",
              "    </tr>\n",
              "    <tr>\n",
              "      <th>23</th>\n",
              "      <td>ReMastered: The Two Killings of Sam Cooke</td>\n",
              "      <td>Documentary</td>\n",
              "      <td>February 8, 2019</td>\n",
              "      <td>64</td>\n",
              "      <td>7.3</td>\n",
              "      <td>English</td>\n",
              "    </tr>\n",
              "    <tr>\n",
              "      <th>24</th>\n",
              "      <td>Girlfriend's Day</td>\n",
              "      <td>Comedy</td>\n",
              "      <td>February 14, 2017</td>\n",
              "      <td>70</td>\n",
              "      <td>5.2</td>\n",
              "      <td>English</td>\n",
              "    </tr>\n",
              "    <tr>\n",
              "      <th>25</th>\n",
              "      <td>ReMastered: The Miami Showband Massacre</td>\n",
              "      <td>Documentary</td>\n",
              "      <td>March 22, 2019</td>\n",
              "      <td>70</td>\n",
              "      <td>7.0</td>\n",
              "      <td>English</td>\n",
              "    </tr>\n",
              "    <tr>\n",
              "      <th>26</th>\n",
              "      <td>John Mulaney &amp; the Sack Lunch Bunch</td>\n",
              "      <td>Variety show</td>\n",
              "      <td>December 24, 2019</td>\n",
              "      <td>70</td>\n",
              "      <td>7.5</td>\n",
              "      <td>English</td>\n",
              "    </tr>\n",
              "    <tr>\n",
              "      <th>27</th>\n",
              "      <td>Death to 2020</td>\n",
              "      <td>Comedy</td>\n",
              "      <td>December 27, 2020</td>\n",
              "      <td>70</td>\n",
              "      <td>6.8</td>\n",
              "      <td>English</td>\n",
              "    </tr>\n",
              "    <tr>\n",
              "      <th>28</th>\n",
              "      <td>Invader Zim: Enter the Florpus</td>\n",
              "      <td>Animation / Science Fiction</td>\n",
              "      <td>August 16, 2019</td>\n",
              "      <td>71</td>\n",
              "      <td>7.5</td>\n",
              "      <td>English</td>\n",
              "    </tr>\n",
              "    <tr>\n",
              "      <th>29</th>\n",
              "      <td>Octonauts &amp; the Caves of Sac Actun</td>\n",
              "      <td>Animation</td>\n",
              "      <td>August 14, 2020</td>\n",
              "      <td>72</td>\n",
              "      <td>6.2</td>\n",
              "      <td>English</td>\n",
              "    </tr>\n",
              "  </tbody>\n",
              "</table>\n",
              "</div>\n",
              "      <button class=\"colab-df-convert\" onclick=\"convertToInteractive('df-beb1d6da-e1d8-4152-9f34-d743c1e6f47a')\"\n",
              "              title=\"Convert this dataframe to an interactive table.\"\n",
              "              style=\"display:none;\">\n",
              "        \n",
              "  <svg xmlns=\"http://www.w3.org/2000/svg\" height=\"24px\"viewBox=\"0 0 24 24\"\n",
              "       width=\"24px\">\n",
              "    <path d=\"M0 0h24v24H0V0z\" fill=\"none\"/>\n",
              "    <path d=\"M18.56 5.44l.94 2.06.94-2.06 2.06-.94-2.06-.94-.94-2.06-.94 2.06-2.06.94zm-11 1L8.5 8.5l.94-2.06 2.06-.94-2.06-.94L8.5 2.5l-.94 2.06-2.06.94zm10 10l.94 2.06.94-2.06 2.06-.94-2.06-.94-.94-2.06-.94 2.06-2.06.94z\"/><path d=\"M17.41 7.96l-1.37-1.37c-.4-.4-.92-.59-1.43-.59-.52 0-1.04.2-1.43.59L10.3 9.45l-7.72 7.72c-.78.78-.78 2.05 0 2.83L4 21.41c.39.39.9.59 1.41.59.51 0 1.02-.2 1.41-.59l7.78-7.78 2.81-2.81c.8-.78.8-2.07 0-2.86zM5.41 20L4 18.59l7.72-7.72 1.47 1.35L5.41 20z\"/>\n",
              "  </svg>\n",
              "      </button>\n",
              "      \n",
              "  <style>\n",
              "    .colab-df-container {\n",
              "      display:flex;\n",
              "      flex-wrap:wrap;\n",
              "      gap: 12px;\n",
              "    }\n",
              "\n",
              "    .colab-df-convert {\n",
              "      background-color: #E8F0FE;\n",
              "      border: none;\n",
              "      border-radius: 50%;\n",
              "      cursor: pointer;\n",
              "      display: none;\n",
              "      fill: #1967D2;\n",
              "      height: 32px;\n",
              "      padding: 0 0 0 0;\n",
              "      width: 32px;\n",
              "    }\n",
              "\n",
              "    .colab-df-convert:hover {\n",
              "      background-color: #E2EBFA;\n",
              "      box-shadow: 0px 1px 2px rgba(60, 64, 67, 0.3), 0px 1px 3px 1px rgba(60, 64, 67, 0.15);\n",
              "      fill: #174EA6;\n",
              "    }\n",
              "\n",
              "    [theme=dark] .colab-df-convert {\n",
              "      background-color: #3B4455;\n",
              "      fill: #D2E3FC;\n",
              "    }\n",
              "\n",
              "    [theme=dark] .colab-df-convert:hover {\n",
              "      background-color: #434B5C;\n",
              "      box-shadow: 0px 1px 3px 1px rgba(0, 0, 0, 0.15);\n",
              "      filter: drop-shadow(0px 1px 2px rgba(0, 0, 0, 0.3));\n",
              "      fill: #FFFFFF;\n",
              "    }\n",
              "  </style>\n",
              "\n",
              "      <script>\n",
              "        const buttonEl =\n",
              "          document.querySelector('#df-beb1d6da-e1d8-4152-9f34-d743c1e6f47a button.colab-df-convert');\n",
              "        buttonEl.style.display =\n",
              "          google.colab.kernel.accessAllowed ? 'block' : 'none';\n",
              "\n",
              "        async function convertToInteractive(key) {\n",
              "          const element = document.querySelector('#df-beb1d6da-e1d8-4152-9f34-d743c1e6f47a');\n",
              "          const dataTable =\n",
              "            await google.colab.kernel.invokeFunction('convertToInteractive',\n",
              "                                                     [key], {});\n",
              "          if (!dataTable) return;\n",
              "\n",
              "          const docLinkHtml = 'Like what you see? Visit the ' +\n",
              "            '<a target=\"_blank\" href=https://colab.research.google.com/notebooks/data_table.ipynb>data table notebook</a>'\n",
              "            + ' to learn more about interactive tables.';\n",
              "          element.innerHTML = '';\n",
              "          dataTable['output_type'] = 'display_data';\n",
              "          await google.colab.output.renderOutput(dataTable, element);\n",
              "          const docLink = document.createElement('div');\n",
              "          docLink.innerHTML = docLinkHtml;\n",
              "          element.appendChild(docLink);\n",
              "        }\n",
              "      </script>\n",
              "    </div>\n",
              "  </div>\n",
              "  "
            ]
          },
          "metadata": {},
          "execution_count": 26
        }
      ]
    },
    {
      "cell_type": "markdown",
      "source": [
        "The results of new dataset have been visualized in bar graph to see in which languages the movies have been filmed. To do this, first, unique values in 'Languages' column were be identified to check if there were duplicates or misspellings."
      ],
      "metadata": {
        "id": "Dvbb-dPndlfY"
      }
    },
    {
      "cell_type": "code",
      "source": [
        "unique_languages = long_runtime[\"Language\"].unique()\n",
        "unique_languages"
      ],
      "metadata": {
        "execution": {
          "iopub.status.busy": "2022-07-22T10:54:01.103229Z",
          "iopub.status.idle": "2022-07-22T10:54:01.103582Z",
          "shell.execute_reply.started": "2022-07-22T10:54:01.103395Z",
          "shell.execute_reply": "2022-07-22T10:54:01.103412Z"
        },
        "trusted": true,
        "id": "vU8coTak9WmL",
        "colab": {
          "base_uri": "https://localhost:8080/"
        },
        "outputId": "0a7956ab-3281-4af0-f415-2256e1d3b57e"
      },
      "execution_count": null,
      "outputs": [
        {
          "output_type": "execute_result",
          "data": {
            "text/plain": [
              "array(['Portuguese', 'English', 'English/Japanese', 'French', 'Spanish',\n",
              "       'English/Spanish', 'Japanese', 'English/Mandarin', 'Korean',\n",
              "       'Italian', 'Thia/English', 'Thai', 'Norwegian', 'Indonesian',\n",
              "       'Swedish', 'Spanish/Basque', 'Turkish', 'English/Russian', 'Hindi',\n",
              "       'Polish', 'English/Ukranian/Russian', 'English/Taiwanese/Mandarin',\n",
              "       'German', 'Filipino', 'Spanish/English', 'Dutch', 'Malay', 'Tamil',\n",
              "       'Marathi', 'English/Arabic', 'Spanish/Catalan', 'English/Korean',\n",
              "       'English/Akan', 'Khmer/English/French'], dtype=object)"
            ]
          },
          "metadata": {},
          "execution_count": 27
        }
      ]
    },
    {
      "cell_type": "markdown",
      "source": [
        "Then, these unique values were counted and sorted in descending order"
      ],
      "metadata": {
        "id": "1eulU9yO9WmM"
      }
    },
    {
      "cell_type": "code",
      "source": [
        "language_counts = long_runtime.groupby(\"Language\")[\"Language\"].count().sort_values(ascending=False).to_frame(\"Number of movies\")\n",
        "language_counts"
      ],
      "metadata": {
        "id": "bNGWU065Hz2G",
        "execution": {
          "iopub.status.busy": "2022-07-22T10:54:01.104990Z",
          "iopub.status.idle": "2022-07-22T10:54:01.105436Z",
          "shell.execute_reply.started": "2022-07-22T10:54:01.105250Z",
          "shell.execute_reply": "2022-07-22T10:54:01.105269Z"
        },
        "trusted": true,
        "colab": {
          "base_uri": "https://localhost:8080/",
          "height": 1000
        },
        "outputId": "b66441c4-7a50-4f64-b4d8-a8da4c67e7b1"
      },
      "execution_count": null,
      "outputs": [
        {
          "output_type": "execute_result",
          "data": {
            "text/plain": [
              "                            Number of movies\n",
              "Language                                    \n",
              "English                                  363\n",
              "Hindi                                     33\n",
              "Spanish                                   29\n",
              "French                                    20\n",
              "Italian                                   14\n",
              "Portuguese                                11\n",
              "Indonesian                                 9\n",
              "Korean                                     6\n",
              "Japanese                                   5\n",
              "German                                     5\n",
              "Turkish                                    5\n",
              "Dutch                                      3\n",
              "Polish                                     3\n",
              "Marathi                                    3\n",
              "English/Japanese                           2\n",
              "Thai                                       2\n",
              "Filipino                                   2\n",
              "English/Korean                             1\n",
              "Spanish/Basque                             1\n",
              "Thia/English                               1\n",
              "English/Taiwanese/Mandarin                 1\n",
              "Tamil                                      1\n",
              "Swedish                                    1\n",
              "Spanish/English                            1\n",
              "Spanish/Catalan                            1\n",
              "English/Akan                               1\n",
              "Khmer/English/French                       1\n",
              "English/Arabic                             1\n",
              "English/Spanish                            1\n",
              "English/Ukranian/Russian                   1\n",
              "English/Russian                            1\n",
              "Malay                                      1\n",
              "English/Mandarin                           1\n",
              "Norwegian                                  1"
            ],
            "text/html": [
              "\n",
              "  <div id=\"df-a8788239-40bf-4938-be1c-5376aec7b3f6\">\n",
              "    <div class=\"colab-df-container\">\n",
              "      <div>\n",
              "<style scoped>\n",
              "    .dataframe tbody tr th:only-of-type {\n",
              "        vertical-align: middle;\n",
              "    }\n",
              "\n",
              "    .dataframe tbody tr th {\n",
              "        vertical-align: top;\n",
              "    }\n",
              "\n",
              "    .dataframe thead th {\n",
              "        text-align: right;\n",
              "    }\n",
              "</style>\n",
              "<table border=\"1\" class=\"dataframe\">\n",
              "  <thead>\n",
              "    <tr style=\"text-align: right;\">\n",
              "      <th></th>\n",
              "      <th>Number of movies</th>\n",
              "    </tr>\n",
              "    <tr>\n",
              "      <th>Language</th>\n",
              "      <th></th>\n",
              "    </tr>\n",
              "  </thead>\n",
              "  <tbody>\n",
              "    <tr>\n",
              "      <th>English</th>\n",
              "      <td>363</td>\n",
              "    </tr>\n",
              "    <tr>\n",
              "      <th>Hindi</th>\n",
              "      <td>33</td>\n",
              "    </tr>\n",
              "    <tr>\n",
              "      <th>Spanish</th>\n",
              "      <td>29</td>\n",
              "    </tr>\n",
              "    <tr>\n",
              "      <th>French</th>\n",
              "      <td>20</td>\n",
              "    </tr>\n",
              "    <tr>\n",
              "      <th>Italian</th>\n",
              "      <td>14</td>\n",
              "    </tr>\n",
              "    <tr>\n",
              "      <th>Portuguese</th>\n",
              "      <td>11</td>\n",
              "    </tr>\n",
              "    <tr>\n",
              "      <th>Indonesian</th>\n",
              "      <td>9</td>\n",
              "    </tr>\n",
              "    <tr>\n",
              "      <th>Korean</th>\n",
              "      <td>6</td>\n",
              "    </tr>\n",
              "    <tr>\n",
              "      <th>Japanese</th>\n",
              "      <td>5</td>\n",
              "    </tr>\n",
              "    <tr>\n",
              "      <th>German</th>\n",
              "      <td>5</td>\n",
              "    </tr>\n",
              "    <tr>\n",
              "      <th>Turkish</th>\n",
              "      <td>5</td>\n",
              "    </tr>\n",
              "    <tr>\n",
              "      <th>Dutch</th>\n",
              "      <td>3</td>\n",
              "    </tr>\n",
              "    <tr>\n",
              "      <th>Polish</th>\n",
              "      <td>3</td>\n",
              "    </tr>\n",
              "    <tr>\n",
              "      <th>Marathi</th>\n",
              "      <td>3</td>\n",
              "    </tr>\n",
              "    <tr>\n",
              "      <th>English/Japanese</th>\n",
              "      <td>2</td>\n",
              "    </tr>\n",
              "    <tr>\n",
              "      <th>Thai</th>\n",
              "      <td>2</td>\n",
              "    </tr>\n",
              "    <tr>\n",
              "      <th>Filipino</th>\n",
              "      <td>2</td>\n",
              "    </tr>\n",
              "    <tr>\n",
              "      <th>English/Korean</th>\n",
              "      <td>1</td>\n",
              "    </tr>\n",
              "    <tr>\n",
              "      <th>Spanish/Basque</th>\n",
              "      <td>1</td>\n",
              "    </tr>\n",
              "    <tr>\n",
              "      <th>Thia/English</th>\n",
              "      <td>1</td>\n",
              "    </tr>\n",
              "    <tr>\n",
              "      <th>English/Taiwanese/Mandarin</th>\n",
              "      <td>1</td>\n",
              "    </tr>\n",
              "    <tr>\n",
              "      <th>Tamil</th>\n",
              "      <td>1</td>\n",
              "    </tr>\n",
              "    <tr>\n",
              "      <th>Swedish</th>\n",
              "      <td>1</td>\n",
              "    </tr>\n",
              "    <tr>\n",
              "      <th>Spanish/English</th>\n",
              "      <td>1</td>\n",
              "    </tr>\n",
              "    <tr>\n",
              "      <th>Spanish/Catalan</th>\n",
              "      <td>1</td>\n",
              "    </tr>\n",
              "    <tr>\n",
              "      <th>English/Akan</th>\n",
              "      <td>1</td>\n",
              "    </tr>\n",
              "    <tr>\n",
              "      <th>Khmer/English/French</th>\n",
              "      <td>1</td>\n",
              "    </tr>\n",
              "    <tr>\n",
              "      <th>English/Arabic</th>\n",
              "      <td>1</td>\n",
              "    </tr>\n",
              "    <tr>\n",
              "      <th>English/Spanish</th>\n",
              "      <td>1</td>\n",
              "    </tr>\n",
              "    <tr>\n",
              "      <th>English/Ukranian/Russian</th>\n",
              "      <td>1</td>\n",
              "    </tr>\n",
              "    <tr>\n",
              "      <th>English/Russian</th>\n",
              "      <td>1</td>\n",
              "    </tr>\n",
              "    <tr>\n",
              "      <th>Malay</th>\n",
              "      <td>1</td>\n",
              "    </tr>\n",
              "    <tr>\n",
              "      <th>English/Mandarin</th>\n",
              "      <td>1</td>\n",
              "    </tr>\n",
              "    <tr>\n",
              "      <th>Norwegian</th>\n",
              "      <td>1</td>\n",
              "    </tr>\n",
              "  </tbody>\n",
              "</table>\n",
              "</div>\n",
              "      <button class=\"colab-df-convert\" onclick=\"convertToInteractive('df-a8788239-40bf-4938-be1c-5376aec7b3f6')\"\n",
              "              title=\"Convert this dataframe to an interactive table.\"\n",
              "              style=\"display:none;\">\n",
              "        \n",
              "  <svg xmlns=\"http://www.w3.org/2000/svg\" height=\"24px\"viewBox=\"0 0 24 24\"\n",
              "       width=\"24px\">\n",
              "    <path d=\"M0 0h24v24H0V0z\" fill=\"none\"/>\n",
              "    <path d=\"M18.56 5.44l.94 2.06.94-2.06 2.06-.94-2.06-.94-.94-2.06-.94 2.06-2.06.94zm-11 1L8.5 8.5l.94-2.06 2.06-.94-2.06-.94L8.5 2.5l-.94 2.06-2.06.94zm10 10l.94 2.06.94-2.06 2.06-.94-2.06-.94-.94-2.06-.94 2.06-2.06.94z\"/><path d=\"M17.41 7.96l-1.37-1.37c-.4-.4-.92-.59-1.43-.59-.52 0-1.04.2-1.43.59L10.3 9.45l-7.72 7.72c-.78.78-.78 2.05 0 2.83L4 21.41c.39.39.9.59 1.41.59.51 0 1.02-.2 1.41-.59l7.78-7.78 2.81-2.81c.8-.78.8-2.07 0-2.86zM5.41 20L4 18.59l7.72-7.72 1.47 1.35L5.41 20z\"/>\n",
              "  </svg>\n",
              "      </button>\n",
              "      \n",
              "  <style>\n",
              "    .colab-df-container {\n",
              "      display:flex;\n",
              "      flex-wrap:wrap;\n",
              "      gap: 12px;\n",
              "    }\n",
              "\n",
              "    .colab-df-convert {\n",
              "      background-color: #E8F0FE;\n",
              "      border: none;\n",
              "      border-radius: 50%;\n",
              "      cursor: pointer;\n",
              "      display: none;\n",
              "      fill: #1967D2;\n",
              "      height: 32px;\n",
              "      padding: 0 0 0 0;\n",
              "      width: 32px;\n",
              "    }\n",
              "\n",
              "    .colab-df-convert:hover {\n",
              "      background-color: #E2EBFA;\n",
              "      box-shadow: 0px 1px 2px rgba(60, 64, 67, 0.3), 0px 1px 3px 1px rgba(60, 64, 67, 0.15);\n",
              "      fill: #174EA6;\n",
              "    }\n",
              "\n",
              "    [theme=dark] .colab-df-convert {\n",
              "      background-color: #3B4455;\n",
              "      fill: #D2E3FC;\n",
              "    }\n",
              "\n",
              "    [theme=dark] .colab-df-convert:hover {\n",
              "      background-color: #434B5C;\n",
              "      box-shadow: 0px 1px 3px 1px rgba(0, 0, 0, 0.15);\n",
              "      filter: drop-shadow(0px 1px 2px rgba(0, 0, 0, 0.3));\n",
              "      fill: #FFFFFF;\n",
              "    }\n",
              "  </style>\n",
              "\n",
              "      <script>\n",
              "        const buttonEl =\n",
              "          document.querySelector('#df-a8788239-40bf-4938-be1c-5376aec7b3f6 button.colab-df-convert');\n",
              "        buttonEl.style.display =\n",
              "          google.colab.kernel.accessAllowed ? 'block' : 'none';\n",
              "\n",
              "        async function convertToInteractive(key) {\n",
              "          const element = document.querySelector('#df-a8788239-40bf-4938-be1c-5376aec7b3f6');\n",
              "          const dataTable =\n",
              "            await google.colab.kernel.invokeFunction('convertToInteractive',\n",
              "                                                     [key], {});\n",
              "          if (!dataTable) return;\n",
              "\n",
              "          const docLinkHtml = 'Like what you see? Visit the ' +\n",
              "            '<a target=\"_blank\" href=https://colab.research.google.com/notebooks/data_table.ipynb>data table notebook</a>'\n",
              "            + ' to learn more about interactive tables.';\n",
              "          element.innerHTML = '';\n",
              "          dataTable['output_type'] = 'display_data';\n",
              "          await google.colab.output.renderOutput(dataTable, element);\n",
              "          const docLink = document.createElement('div');\n",
              "          docLink.innerHTML = docLinkHtml;\n",
              "          element.appendChild(docLink);\n",
              "        }\n",
              "      </script>\n",
              "    </div>\n",
              "  </div>\n",
              "  "
            ]
          },
          "metadata": {},
          "execution_count": 28
        }
      ]
    },
    {
      "cell_type": "code",
      "source": [
        "language_countsTop5 = language_counts.head(5)\n",
        "language_countsTop5"
      ],
      "metadata": {
        "execution": {
          "iopub.status.busy": "2022-07-22T10:54:01.106740Z",
          "iopub.status.idle": "2022-07-22T10:54:01.107123Z",
          "shell.execute_reply.started": "2022-07-22T10:54:01.106934Z",
          "shell.execute_reply": "2022-07-22T10:54:01.106954Z"
        },
        "trusted": true,
        "id": "5WCg4d_T9WmO",
        "colab": {
          "base_uri": "https://localhost:8080/",
          "height": 238
        },
        "outputId": "6fb9f828-1721-438f-9928-ee201982367f"
      },
      "execution_count": null,
      "outputs": [
        {
          "output_type": "execute_result",
          "data": {
            "text/plain": [
              "          Number of movies\n",
              "Language                  \n",
              "English                363\n",
              "Hindi                   33\n",
              "Spanish                 29\n",
              "French                  20\n",
              "Italian                 14"
            ],
            "text/html": [
              "\n",
              "  <div id=\"df-caba3ab2-8191-449a-a8ad-7dfb8e4f5893\">\n",
              "    <div class=\"colab-df-container\">\n",
              "      <div>\n",
              "<style scoped>\n",
              "    .dataframe tbody tr th:only-of-type {\n",
              "        vertical-align: middle;\n",
              "    }\n",
              "\n",
              "    .dataframe tbody tr th {\n",
              "        vertical-align: top;\n",
              "    }\n",
              "\n",
              "    .dataframe thead th {\n",
              "        text-align: right;\n",
              "    }\n",
              "</style>\n",
              "<table border=\"1\" class=\"dataframe\">\n",
              "  <thead>\n",
              "    <tr style=\"text-align: right;\">\n",
              "      <th></th>\n",
              "      <th>Number of movies</th>\n",
              "    </tr>\n",
              "    <tr>\n",
              "      <th>Language</th>\n",
              "      <th></th>\n",
              "    </tr>\n",
              "  </thead>\n",
              "  <tbody>\n",
              "    <tr>\n",
              "      <th>English</th>\n",
              "      <td>363</td>\n",
              "    </tr>\n",
              "    <tr>\n",
              "      <th>Hindi</th>\n",
              "      <td>33</td>\n",
              "    </tr>\n",
              "    <tr>\n",
              "      <th>Spanish</th>\n",
              "      <td>29</td>\n",
              "    </tr>\n",
              "    <tr>\n",
              "      <th>French</th>\n",
              "      <td>20</td>\n",
              "    </tr>\n",
              "    <tr>\n",
              "      <th>Italian</th>\n",
              "      <td>14</td>\n",
              "    </tr>\n",
              "  </tbody>\n",
              "</table>\n",
              "</div>\n",
              "      <button class=\"colab-df-convert\" onclick=\"convertToInteractive('df-caba3ab2-8191-449a-a8ad-7dfb8e4f5893')\"\n",
              "              title=\"Convert this dataframe to an interactive table.\"\n",
              "              style=\"display:none;\">\n",
              "        \n",
              "  <svg xmlns=\"http://www.w3.org/2000/svg\" height=\"24px\"viewBox=\"0 0 24 24\"\n",
              "       width=\"24px\">\n",
              "    <path d=\"M0 0h24v24H0V0z\" fill=\"none\"/>\n",
              "    <path d=\"M18.56 5.44l.94 2.06.94-2.06 2.06-.94-2.06-.94-.94-2.06-.94 2.06-2.06.94zm-11 1L8.5 8.5l.94-2.06 2.06-.94-2.06-.94L8.5 2.5l-.94 2.06-2.06.94zm10 10l.94 2.06.94-2.06 2.06-.94-2.06-.94-.94-2.06-.94 2.06-2.06.94z\"/><path d=\"M17.41 7.96l-1.37-1.37c-.4-.4-.92-.59-1.43-.59-.52 0-1.04.2-1.43.59L10.3 9.45l-7.72 7.72c-.78.78-.78 2.05 0 2.83L4 21.41c.39.39.9.59 1.41.59.51 0 1.02-.2 1.41-.59l7.78-7.78 2.81-2.81c.8-.78.8-2.07 0-2.86zM5.41 20L4 18.59l7.72-7.72 1.47 1.35L5.41 20z\"/>\n",
              "  </svg>\n",
              "      </button>\n",
              "      \n",
              "  <style>\n",
              "    .colab-df-container {\n",
              "      display:flex;\n",
              "      flex-wrap:wrap;\n",
              "      gap: 12px;\n",
              "    }\n",
              "\n",
              "    .colab-df-convert {\n",
              "      background-color: #E8F0FE;\n",
              "      border: none;\n",
              "      border-radius: 50%;\n",
              "      cursor: pointer;\n",
              "      display: none;\n",
              "      fill: #1967D2;\n",
              "      height: 32px;\n",
              "      padding: 0 0 0 0;\n",
              "      width: 32px;\n",
              "    }\n",
              "\n",
              "    .colab-df-convert:hover {\n",
              "      background-color: #E2EBFA;\n",
              "      box-shadow: 0px 1px 2px rgba(60, 64, 67, 0.3), 0px 1px 3px 1px rgba(60, 64, 67, 0.15);\n",
              "      fill: #174EA6;\n",
              "    }\n",
              "\n",
              "    [theme=dark] .colab-df-convert {\n",
              "      background-color: #3B4455;\n",
              "      fill: #D2E3FC;\n",
              "    }\n",
              "\n",
              "    [theme=dark] .colab-df-convert:hover {\n",
              "      background-color: #434B5C;\n",
              "      box-shadow: 0px 1px 3px 1px rgba(0, 0, 0, 0.15);\n",
              "      filter: drop-shadow(0px 1px 2px rgba(0, 0, 0, 0.3));\n",
              "      fill: #FFFFFF;\n",
              "    }\n",
              "  </style>\n",
              "\n",
              "      <script>\n",
              "        const buttonEl =\n",
              "          document.querySelector('#df-caba3ab2-8191-449a-a8ad-7dfb8e4f5893 button.colab-df-convert');\n",
              "        buttonEl.style.display =\n",
              "          google.colab.kernel.accessAllowed ? 'block' : 'none';\n",
              "\n",
              "        async function convertToInteractive(key) {\n",
              "          const element = document.querySelector('#df-caba3ab2-8191-449a-a8ad-7dfb8e4f5893');\n",
              "          const dataTable =\n",
              "            await google.colab.kernel.invokeFunction('convertToInteractive',\n",
              "                                                     [key], {});\n",
              "          if (!dataTable) return;\n",
              "\n",
              "          const docLinkHtml = 'Like what you see? Visit the ' +\n",
              "            '<a target=\"_blank\" href=https://colab.research.google.com/notebooks/data_table.ipynb>data table notebook</a>'\n",
              "            + ' to learn more about interactive tables.';\n",
              "          element.innerHTML = '';\n",
              "          dataTable['output_type'] = 'display_data';\n",
              "          await google.colab.output.renderOutput(dataTable, element);\n",
              "          const docLink = document.createElement('div');\n",
              "          docLink.innerHTML = docLinkHtml;\n",
              "          element.appendChild(docLink);\n",
              "        }\n",
              "      </script>\n",
              "    </div>\n",
              "  </div>\n",
              "  "
            ]
          },
          "metadata": {},
          "execution_count": 29
        }
      ]
    },
    {
      "cell_type": "code",
      "source": [
        "language_countsTop5.plot.pie(y=\"Number of movies\", legend=False, autopct='%1.1f%%')"
      ],
      "metadata": {
        "execution": {
          "iopub.status.busy": "2022-07-22T10:54:01.108473Z",
          "iopub.status.idle": "2022-07-22T10:54:01.108820Z",
          "shell.execute_reply.started": "2022-07-22T10:54:01.108642Z",
          "shell.execute_reply": "2022-07-22T10:54:01.108659Z"
        },
        "trusted": true,
        "id": "SDL9sQfQ9WmQ",
        "colab": {
          "base_uri": "https://localhost:8080/",
          "height": 266
        },
        "outputId": "565e9bc7-11a4-46bc-aa79-f346134814fb"
      },
      "execution_count": null,
      "outputs": [
        {
          "output_type": "execute_result",
          "data": {
            "text/plain": [
              "<matplotlib.axes._subplots.AxesSubplot at 0x7fd56ad66c90>"
            ]
          },
          "metadata": {},
          "execution_count": 30
        },
        {
          "output_type": "display_data",
          "data": {
            "text/plain": [
              "<Figure size 432x288 with 1 Axes>"
            ],
            "image/png": "[encoded data removed]"
          },
          "metadata": {}
        }
      ]
    },
    {
      "cell_type": "code",
      "source": [
        "language_countsTop5.plot.bar(color=\"blue\")"
      ],
      "metadata": {
        "execution": {
          "iopub.status.busy": "2022-07-22T10:54:01.110148Z",
          "iopub.status.idle": "2022-07-22T10:54:01.110522Z",
          "shell.execute_reply.started": "2022-07-22T10:54:01.110318Z",
          "shell.execute_reply": "2022-07-22T10:54:01.110335Z"
        },
        "trusted": true,
        "id": "qvs5oJvW9WmR",
        "colab": {
          "base_uri": "https://localhost:8080/",
          "height": 327
        },
        "outputId": "9b33c17f-add1-443d-b20d-e6515e1b5f22"
      },
      "execution_count": null,
      "outputs": [
        {
          "output_type": "execute_result",
          "data": {
            "text/plain": [
              "<matplotlib.axes._subplots.AxesSubplot at 0x7fd56ad45590>"
            ]
          },
          "metadata": {},
          "execution_count": 31
        },
        {
          "output_type": "display_data",
          "data": {
            "text/plain": [
              "<Figure size 432x288 with 1 Axes>"
            ],
            "image/png": "[encoded data removed]"
          },
          "metadata": {
            "needs_background": "light"
          }
        }
      ]
    },
    {
      "cell_type": "markdown",
      "source": [
        "As it is obvious from both of the graphs English is a dominant language. 363 movies with long runtime have been filmed in English. Also, there are movies filmed in two or three languages together which also include English."
      ],
      "metadata": {
        "id": "MMxjxsrL9WmS"
      }
    },
    {
      "cell_type": "markdown",
      "source": [
        "# Question 2\n",
        "\n",
        "* **EN: Visualize the IMDB scores of the 'Docementary' movies that filmed between January, 2019 and June, 2020.**\n",
        "* **TR: 2019 Ocak ile 2020 Haziran tarihleri arasında 'Documentary' türünde çekilmiş filmlerin IMDB değerlerini bulup görselleştiriniz.**"
      ],
      "metadata": {
        "id": "voz3DL5YAxAV"
      }
    },
    {
      "cell_type": "markdown",
      "source": [
        "In introduction section 'dtype' function returnd data types of dataframe. All columns except for 'Runtime' and 'IMDB Score' was object data type which means string. To filter data frame according to the given time period, data type of \"Premiere\" column was needed to be converted into data format."
      ],
      "metadata": {
        "id": "z3JjVKXF9WmU"
      }
    },
    {
      "cell_type": "markdown",
      "source": [
        "## Convert the type of data in 'Premiere' column to date format"
      ],
      "metadata": {
        "id": "44hIeL6B9WmV"
      }
    },
    {
      "cell_type": "code",
      "source": [
        "df['Premiere'] = pd.to_datetime(df['Premiere'])"
      ],
      "metadata": {
        "execution": {
          "iopub.status.busy": "2022-07-22T10:54:01.111676Z",
          "iopub.status.idle": "2022-07-22T10:54:01.112065Z",
          "shell.execute_reply.started": "2022-07-22T10:54:01.111842Z",
          "shell.execute_reply": "2022-07-22T10:54:01.111859Z"
        },
        "trusted": true,
        "id": "dVP7iCbL9WmW"
      },
      "execution_count": null,
      "outputs": []
    },
    {
      "cell_type": "markdown",
      "source": [
        "## Define start and end date"
      ],
      "metadata": {
        "id": "u2cDryQV9WmW"
      }
    },
    {
      "cell_type": "code",
      "source": [
        "start_date='2019-01-01'\n",
        "end_date='2020-06-01'"
      ],
      "metadata": {
        "execution": {
          "iopub.status.busy": "2022-07-22T10:54:01.113342Z",
          "iopub.status.idle": "2022-07-22T10:54:01.113694Z",
          "shell.execute_reply.started": "2022-07-22T10:54:01.113516Z",
          "shell.execute_reply": "2022-07-22T10:54:01.113533Z"
        },
        "trusted": true,
        "id": "ai-9Cb2k9WmX"
      },
      "execution_count": null,
      "outputs": []
    },
    {
      "cell_type": "markdown",
      "source": [
        "## Create filtered dataframe according to dates"
      ],
      "metadata": {
        "id": "o1rd5lO99WmY"
      }
    },
    {
      "cell_type": "code",
      "source": [
        "mask = (df['Premiere'] >= start_date) & (df['Premiere'] <= end_date)\n",
        "df_dates = df.loc[mask].reset_index().iloc[: , 1:]\n",
        "df_dates"
      ],
      "metadata": {
        "execution": {
          "iopub.status.busy": "2022-07-22T10:54:01.114814Z",
          "iopub.status.idle": "2022-07-22T10:54:01.115188Z",
          "shell.execute_reply.started": "2022-07-22T10:54:01.115007Z",
          "shell.execute_reply": "2022-07-22T10:54:01.115025Z"
        },
        "trusted": true,
        "id": "cE9-AO989WmZ",
        "colab": {
          "base_uri": "https://localhost:8080/",
          "height": 659
        },
        "outputId": "afa209cd-01cd-4491-b093-3d99e6cea5cc"
      },
      "execution_count": null,
      "outputs": [
        {
          "output_type": "execute_result",
          "data": {
            "text/plain": [
              "                                          Title  \\\n",
              "0                               Enter the Anime   \n",
              "1                                       The App   \n",
              "2                                         Drive   \n",
              "3                                After the Raid   \n",
              "4                                 Ghost Stories   \n",
              "..                                          ...   \n",
              "171                               A Secret Love   \n",
              "172                              Marriage Story   \n",
              "173                                       Klaus   \n",
              "174                      Dancing with the Birds   \n",
              "175  Ben Platt: Live from Radio City Music Hall   \n",
              "\n",
              "                                    Genre   Premiere  Runtime  IMDB Score  \\\n",
              "0                             Documentary 2019-08-05       58         2.5   \n",
              "1                   Science fiction/Drama 2019-12-26       79         2.6   \n",
              "2                                  Action 2019-11-01      147         3.5   \n",
              "3                             Documentary 2019-12-19       25         4.3   \n",
              "4                        Horror anthology 2020-01-01      144         4.3   \n",
              "..                                    ...        ...      ...         ...   \n",
              "171                           Documentary 2020-04-29       82         7.9   \n",
              "172                                 Drama 2019-12-06      136         7.9   \n",
              "173  Animation/Christmas/Comedy/Adventure 2019-11-15       97         8.2   \n",
              "174                           Documentary 2019-10-23       51         8.3   \n",
              "175                          Concert Film 2020-05-20       85         8.4   \n",
              "\n",
              "             Language  \n",
              "0    English/Japanese  \n",
              "1             Italian  \n",
              "2               Hindi  \n",
              "3             Spanish  \n",
              "4               Hindi  \n",
              "..                ...  \n",
              "171           English  \n",
              "172           English  \n",
              "173           English  \n",
              "174           English  \n",
              "175           English  \n",
              "\n",
              "[176 rows x 6 columns]"
            ],
            "text/html": [
              "\n",
              "  <div id=\"df-6f9c56a2-efba-4294-b014-5d0dff68a010\">\n",
              "    <div class=\"colab-df-container\">\n",
              "      <div>\n",
              "<style scoped>\n",
              "    .dataframe tbody tr th:only-of-type {\n",
              "        vertical-align: middle;\n",
              "    }\n",
              "\n",
              "    .dataframe tbody tr th {\n",
              "        vertical-align: top;\n",
              "    }\n",
              "\n",
              "    .dataframe thead th {\n",
              "        text-align: right;\n",
              "    }\n",
              "</style>\n",
              "<table border=\"1\" class=\"dataframe\">\n",
              "  <thead>\n",
              "    <tr style=\"text-align: right;\">\n",
              "      <th></th>\n",
              "      <th>Title</th>\n",
              "      <th>Genre</th>\n",
              "      <th>Premiere</th>\n",
              "      <th>Runtime</th>\n",
              "      <th>IMDB Score</th>\n",
              "      <th>Language</th>\n",
              "    </tr>\n",
              "  </thead>\n",
              "  <tbody>\n",
              "    <tr>\n",
              "      <th>0</th>\n",
              "      <td>Enter the Anime</td>\n",
              "      <td>Documentary</td>\n",
              "      <td>2019-08-05</td>\n",
              "      <td>58</td>\n",
              "      <td>2.5</td>\n",
              "      <td>English/Japanese</td>\n",
              "    </tr>\n",
              "    <tr>\n",
              "      <th>1</th>\n",
              "      <td>The App</td>\n",
              "      <td>Science fiction/Drama</td>\n",
              "      <td>2019-12-26</td>\n",
              "      <td>79</td>\n",
              "      <td>2.6</td>\n",
              "      <td>Italian</td>\n",
              "    </tr>\n",
              "    <tr>\n",
              "      <th>2</th>\n",
              "      <td>Drive</td>\n",
              "      <td>Action</td>\n",
              "      <td>2019-11-01</td>\n",
              "      <td>147</td>\n",
              "      <td>3.5</td>\n",
              "      <td>Hindi</td>\n",
              "    </tr>\n",
              "    <tr>\n",
              "      <th>3</th>\n",
              "      <td>After the Raid</td>\n",
              "      <td>Documentary</td>\n",
              "      <td>2019-12-19</td>\n",
              "      <td>25</td>\n",
              "      <td>4.3</td>\n",
              "      <td>Spanish</td>\n",
              "    </tr>\n",
              "    <tr>\n",
              "      <th>4</th>\n",
              "      <td>Ghost Stories</td>\n",
              "      <td>Horror anthology</td>\n",
              "      <td>2020-01-01</td>\n",
              "      <td>144</td>\n",
              "      <td>4.3</td>\n",
              "      <td>Hindi</td>\n",
              "    </tr>\n",
              "    <tr>\n",
              "      <th>...</th>\n",
              "      <td>...</td>\n",
              "      <td>...</td>\n",
              "      <td>...</td>\n",
              "      <td>...</td>\n",
              "      <td>...</td>\n",
              "      <td>...</td>\n",
              "    </tr>\n",
              "    <tr>\n",
              "      <th>171</th>\n",
              "      <td>A Secret Love</td>\n",
              "      <td>Documentary</td>\n",
              "      <td>2020-04-29</td>\n",
              "      <td>82</td>\n",
              "      <td>7.9</td>\n",
              "      <td>English</td>\n",
              "    </tr>\n",
              "    <tr>\n",
              "      <th>172</th>\n",
              "      <td>Marriage Story</td>\n",
              "      <td>Drama</td>\n",
              "      <td>2019-12-06</td>\n",
              "      <td>136</td>\n",
              "      <td>7.9</td>\n",
              "      <td>English</td>\n",
              "    </tr>\n",
              "    <tr>\n",
              "      <th>173</th>\n",
              "      <td>Klaus</td>\n",
              "      <td>Animation/Christmas/Comedy/Adventure</td>\n",
              "      <td>2019-11-15</td>\n",
              "      <td>97</td>\n",
              "      <td>8.2</td>\n",
              "      <td>English</td>\n",
              "    </tr>\n",
              "    <tr>\n",
              "      <th>174</th>\n",
              "      <td>Dancing with the Birds</td>\n",
              "      <td>Documentary</td>\n",
              "      <td>2019-10-23</td>\n",
              "      <td>51</td>\n",
              "      <td>8.3</td>\n",
              "      <td>English</td>\n",
              "    </tr>\n",
              "    <tr>\n",
              "      <th>175</th>\n",
              "      <td>Ben Platt: Live from Radio City Music Hall</td>\n",
              "      <td>Concert Film</td>\n",
              "      <td>2020-05-20</td>\n",
              "      <td>85</td>\n",
              "      <td>8.4</td>\n",
              "      <td>English</td>\n",
              "    </tr>\n",
              "  </tbody>\n",
              "</table>\n",
              "<p>176 rows × 6 columns</p>\n",
              "</div>\n",
              "      <button class=\"colab-df-convert\" onclick=\"convertToInteractive('df-6f9c56a2-efba-4294-b014-5d0dff68a010')\"\n",
              "              title=\"Convert this dataframe to an interactive table.\"\n",
              "              style=\"display:none;\">\n",
              "        \n",
              "  <svg xmlns=\"http://www.w3.org/2000/svg\" height=\"24px\"viewBox=\"0 0 24 24\"\n",
              "       width=\"24px\">\n",
              "    <path d=\"M0 0h24v24H0V0z\" fill=\"none\"/>\n",
              "    <path d=\"M18.56 5.44l.94 2.06.94-2.06 2.06-.94-2.06-.94-.94-2.06-.94 2.06-2.06.94zm-11 1L8.5 8.5l.94-2.06 2.06-.94-2.06-.94L8.5 2.5l-.94 2.06-2.06.94zm10 10l.94 2.06.94-2.06 2.06-.94-2.06-.94-.94-2.06-.94 2.06-2.06.94z\"/><path d=\"M17.41 7.96l-1.37-1.37c-.4-.4-.92-.59-1.43-.59-.52 0-1.04.2-1.43.59L10.3 9.45l-7.72 7.72c-.78.78-.78 2.05 0 2.83L4 21.41c.39.39.9.59 1.41.59.51 0 1.02-.2 1.41-.59l7.78-7.78 2.81-2.81c.8-.78.8-2.07 0-2.86zM5.41 20L4 18.59l7.72-7.72 1.47 1.35L5.41 20z\"/>\n",
              "  </svg>\n",
              "      </button>\n",
              "      \n",
              "  <style>\n",
              "    .colab-df-container {\n",
              "      display:flex;\n",
              "      flex-wrap:wrap;\n",
              "      gap: 12px;\n",
              "    }\n",
              "\n",
              "    .colab-df-convert {\n",
              "      background-color: #E8F0FE;\n",
              "      border: none;\n",
              "      border-radius: 50%;\n",
              "      cursor: pointer;\n",
              "      display: none;\n",
              "      fill: #1967D2;\n",
              "      height: 32px;\n",
              "      padding: 0 0 0 0;\n",
              "      width: 32px;\n",
              "    }\n",
              "\n",
              "    .colab-df-convert:hover {\n",
              "      background-color: #E2EBFA;\n",
              "      box-shadow: 0px 1px 2px rgba(60, 64, 67, 0.3), 0px 1px 3px 1px rgba(60, 64, 67, 0.15);\n",
              "      fill: #174EA6;\n",
              "    }\n",
              "\n",
              "    [theme=dark] .colab-df-convert {\n",
              "      background-color: #3B4455;\n",
              "      fill: #D2E3FC;\n",
              "    }\n",
              "\n",
              "    [theme=dark] .colab-df-convert:hover {\n",
              "      background-color: #434B5C;\n",
              "      box-shadow: 0px 1px 3px 1px rgba(0, 0, 0, 0.15);\n",
              "      filter: drop-shadow(0px 1px 2px rgba(0, 0, 0, 0.3));\n",
              "      fill: #FFFFFF;\n",
              "    }\n",
              "  </style>\n",
              "\n",
              "      <script>\n",
              "        const buttonEl =\n",
              "          document.querySelector('#df-6f9c56a2-efba-4294-b014-5d0dff68a010 button.colab-df-convert');\n",
              "        buttonEl.style.display =\n",
              "          google.colab.kernel.accessAllowed ? 'block' : 'none';\n",
              "\n",
              "        async function convertToInteractive(key) {\n",
              "          const element = document.querySelector('#df-6f9c56a2-efba-4294-b014-5d0dff68a010');\n",
              "          const dataTable =\n",
              "            await google.colab.kernel.invokeFunction('convertToInteractive',\n",
              "                                                     [key], {});\n",
              "          if (!dataTable) return;\n",
              "\n",
              "          const docLinkHtml = 'Like what you see? Visit the ' +\n",
              "            '<a target=\"_blank\" href=https://colab.research.google.com/notebooks/data_table.ipynb>data table notebook</a>'\n",
              "            + ' to learn more about interactive tables.';\n",
              "          element.innerHTML = '';\n",
              "          dataTable['output_type'] = 'display_data';\n",
              "          await google.colab.output.renderOutput(dataTable, element);\n",
              "          const docLink = document.createElement('div');\n",
              "          docLink.innerHTML = docLinkHtml;\n",
              "          element.appendChild(docLink);\n",
              "        }\n",
              "      </script>\n",
              "    </div>\n",
              "  </div>\n",
              "  "
            ]
          },
          "metadata": {},
          "execution_count": 34
        }
      ]
    },
    {
      "cell_type": "markdown",
      "source": [
        "## Create new dataframe with only documentary movies and selected start and end dates"
      ],
      "metadata": {
        "id": "0bN1UTES9Wma"
      }
    },
    {
      "cell_type": "code",
      "source": [
        "docs_dates = df_dates[df_dates['Genre'] =='Documentary'].sort_values(\"IMDB Score\", ascending=False, ignore_index=True)\n",
        "docs_dates\n",
        "top_ten_docs = docs_dates.head(10)\n",
        "top_ten_docs"
      ],
      "metadata": {
        "execution": {
          "iopub.status.busy": "2022-07-22T10:54:01.116279Z",
          "iopub.status.idle": "2022-07-22T10:54:01.116628Z",
          "shell.execute_reply.started": "2022-07-22T10:54:01.116443Z",
          "shell.execute_reply": "2022-07-22T10:54:01.116468Z"
        },
        "trusted": true,
        "id": "BTXFSk8m9Wmb",
        "colab": {
          "base_uri": "https://localhost:8080/",
          "height": 363
        },
        "outputId": "98efd1a9-d228-4a77-8b37-9cba504d9a02"
      },
      "execution_count": null,
      "outputs": [
        {
          "output_type": "execute_result",
          "data": {
            "text/plain": [
              "                                               Title        Genre   Premiere  \\\n",
              "0                             Dancing with the Birds  Documentary 2019-10-23   \n",
              "1                                      A Secret Love  Documentary 2020-04-29   \n",
              "2                 Crip Camp: A Disability Revolution  Documentary 2020-03-25   \n",
              "3                   Brene Brown: The Call to Courage  Documentary 2019-04-19   \n",
              "4                                   Tell Me Who I Am  Documentary 2019-10-18   \n",
              "5  Rolling Thunder Revue: A bob Dylan Story by Ma...  Documentary 2019-06-12   \n",
              "6                     Homecoming: A Film by Beyonce   Documentary 2019-04-17   \n",
              "7                                     Miss Americana  Documentary 2020-01-31   \n",
              "8                                   Fire in Paradise  Documentary 2019-11-01   \n",
              "9                                   American Factory  Documentary 2019-08-21   \n",
              "\n",
              "   Runtime  IMDB Score Language  \n",
              "0       51         8.3  English  \n",
              "1       82         7.9  English  \n",
              "2      108         7.7  English  \n",
              "3       76         7.7  English  \n",
              "4       85         7.6  English  \n",
              "5      144         7.6  English  \n",
              "6      137         7.5  English  \n",
              "7       85         7.4  English  \n",
              "8       39         7.4  English  \n",
              "9      110         7.4  English  "
            ],
            "text/html": [
              "\n",
              "  <div id=\"df-ad515ab2-dca0-4a7a-8946-1c3cffde4e5c\">\n",
              "    <div class=\"colab-df-container\">\n",
              "      <div>\n",
              "<style scoped>\n",
              "    .dataframe tbody tr th:only-of-type {\n",
              "        vertical-align: middle;\n",
              "    }\n",
              "\n",
              "    .dataframe tbody tr th {\n",
              "        vertical-align: top;\n",
              "    }\n",
              "\n",
              "    .dataframe thead th {\n",
              "        text-align: right;\n",
              "    }\n",
              "</style>\n",
              "<table border=\"1\" class=\"dataframe\">\n",
              "  <thead>\n",
              "    <tr style=\"text-align: right;\">\n",
              "      <th></th>\n",
              "      <th>Title</th>\n",
              "      <th>Genre</th>\n",
              "      <th>Premiere</th>\n",
              "      <th>Runtime</th>\n",
              "      <th>IMDB Score</th>\n",
              "      <th>Language</th>\n",
              "    </tr>\n",
              "  </thead>\n",
              "  <tbody>\n",
              "    <tr>\n",
              "      <th>0</th>\n",
              "      <td>Dancing with the Birds</td>\n",
              "      <td>Documentary</td>\n",
              "      <td>2019-10-23</td>\n",
              "      <td>51</td>\n",
              "      <td>8.3</td>\n",
              "      <td>English</td>\n",
              "    </tr>\n",
              "    <tr>\n",
              "      <th>1</th>\n",
              "      <td>A Secret Love</td>\n",
              "      <td>Documentary</td>\n",
              "      <td>2020-04-29</td>\n",
              "      <td>82</td>\n",
              "      <td>7.9</td>\n",
              "      <td>English</td>\n",
              "    </tr>\n",
              "    <tr>\n",
              "      <th>2</th>\n",
              "      <td>Crip Camp: A Disability Revolution</td>\n",
              "      <td>Documentary</td>\n",
              "      <td>2020-03-25</td>\n",
              "      <td>108</td>\n",
              "      <td>7.7</td>\n",
              "      <td>English</td>\n",
              "    </tr>\n",
              "    <tr>\n",
              "      <th>3</th>\n",
              "      <td>Brene Brown: The Call to Courage</td>\n",
              "      <td>Documentary</td>\n",
              "      <td>2019-04-19</td>\n",
              "      <td>76</td>\n",
              "      <td>7.7</td>\n",
              "      <td>English</td>\n",
              "    </tr>\n",
              "    <tr>\n",
              "      <th>4</th>\n",
              "      <td>Tell Me Who I Am</td>\n",
              "      <td>Documentary</td>\n",
              "      <td>2019-10-18</td>\n",
              "      <td>85</td>\n",
              "      <td>7.6</td>\n",
              "      <td>English</td>\n",
              "    </tr>\n",
              "    <tr>\n",
              "      <th>5</th>\n",
              "      <td>Rolling Thunder Revue: A bob Dylan Story by Ma...</td>\n",
              "      <td>Documentary</td>\n",
              "      <td>2019-06-12</td>\n",
              "      <td>144</td>\n",
              "      <td>7.6</td>\n",
              "      <td>English</td>\n",
              "    </tr>\n",
              "    <tr>\n",
              "      <th>6</th>\n",
              "      <td>Homecoming: A Film by Beyonce</td>\n",
              "      <td>Documentary</td>\n",
              "      <td>2019-04-17</td>\n",
              "      <td>137</td>\n",
              "      <td>7.5</td>\n",
              "      <td>English</td>\n",
              "    </tr>\n",
              "    <tr>\n",
              "      <th>7</th>\n",
              "      <td>Miss Americana</td>\n",
              "      <td>Documentary</td>\n",
              "      <td>2020-01-31</td>\n",
              "      <td>85</td>\n",
              "      <td>7.4</td>\n",
              "      <td>English</td>\n",
              "    </tr>\n",
              "    <tr>\n",
              "      <th>8</th>\n",
              "      <td>Fire in Paradise</td>\n",
              "      <td>Documentary</td>\n",
              "      <td>2019-11-01</td>\n",
              "      <td>39</td>\n",
              "      <td>7.4</td>\n",
              "      <td>English</td>\n",
              "    </tr>\n",
              "    <tr>\n",
              "      <th>9</th>\n",
              "      <td>American Factory</td>\n",
              "      <td>Documentary</td>\n",
              "      <td>2019-08-21</td>\n",
              "      <td>110</td>\n",
              "      <td>7.4</td>\n",
              "      <td>English</td>\n",
              "    </tr>\n",
              "  </tbody>\n",
              "</table>\n",
              "</div>\n",
              "      <button class=\"colab-df-convert\" onclick=\"convertToInteractive('df-ad515ab2-dca0-4a7a-8946-1c3cffde4e5c')\"\n",
              "              title=\"Convert this dataframe to an interactive table.\"\n",
              "              style=\"display:none;\">\n",
              "        \n",
              "  <svg xmlns=\"http://www.w3.org/2000/svg\" height=\"24px\"viewBox=\"0 0 24 24\"\n",
              "       width=\"24px\">\n",
              "    <path d=\"M0 0h24v24H0V0z\" fill=\"none\"/>\n",
              "    <path d=\"M18.56 5.44l.94 2.06.94-2.06 2.06-.94-2.06-.94-.94-2.06-.94 2.06-2.06.94zm-11 1L8.5 8.5l.94-2.06 2.06-.94-2.06-.94L8.5 2.5l-.94 2.06-2.06.94zm10 10l.94 2.06.94-2.06 2.06-.94-2.06-.94-.94-2.06-.94 2.06-2.06.94z\"/><path d=\"M17.41 7.96l-1.37-1.37c-.4-.4-.92-.59-1.43-.59-.52 0-1.04.2-1.43.59L10.3 9.45l-7.72 7.72c-.78.78-.78 2.05 0 2.83L4 21.41c.39.39.9.59 1.41.59.51 0 1.02-.2 1.41-.59l7.78-7.78 2.81-2.81c.8-.78.8-2.07 0-2.86zM5.41 20L4 18.59l7.72-7.72 1.47 1.35L5.41 20z\"/>\n",
              "  </svg>\n",
              "      </button>\n",
              "      \n",
              "  <style>\n",
              "    .colab-df-container {\n",
              "      display:flex;\n",
              "      flex-wrap:wrap;\n",
              "      gap: 12px;\n",
              "    }\n",
              "\n",
              "    .colab-df-convert {\n",
              "      background-color: #E8F0FE;\n",
              "      border: none;\n",
              "      border-radius: 50%;\n",
              "      cursor: pointer;\n",
              "      display: none;\n",
              "      fill: #1967D2;\n",
              "      height: 32px;\n",
              "      padding: 0 0 0 0;\n",
              "      width: 32px;\n",
              "    }\n",
              "\n",
              "    .colab-df-convert:hover {\n",
              "      background-color: #E2EBFA;\n",
              "      box-shadow: 0px 1px 2px rgba(60, 64, 67, 0.3), 0px 1px 3px 1px rgba(60, 64, 67, 0.15);\n",
              "      fill: #174EA6;\n",
              "    }\n",
              "\n",
              "    [theme=dark] .colab-df-convert {\n",
              "      background-color: #3B4455;\n",
              "      fill: #D2E3FC;\n",
              "    }\n",
              "\n",
              "    [theme=dark] .colab-df-convert:hover {\n",
              "      background-color: #434B5C;\n",
              "      box-shadow: 0px 1px 3px 1px rgba(0, 0, 0, 0.15);\n",
              "      filter: drop-shadow(0px 1px 2px rgba(0, 0, 0, 0.3));\n",
              "      fill: #FFFFFF;\n",
              "    }\n",
              "  </style>\n",
              "\n",
              "      <script>\n",
              "        const buttonEl =\n",
              "          document.querySelector('#df-ad515ab2-dca0-4a7a-8946-1c3cffde4e5c button.colab-df-convert');\n",
              "        buttonEl.style.display =\n",
              "          google.colab.kernel.accessAllowed ? 'block' : 'none';\n",
              "\n",
              "        async function convertToInteractive(key) {\n",
              "          const element = document.querySelector('#df-ad515ab2-dca0-4a7a-8946-1c3cffde4e5c');\n",
              "          const dataTable =\n",
              "            await google.colab.kernel.invokeFunction('convertToInteractive',\n",
              "                                                     [key], {});\n",
              "          if (!dataTable) return;\n",
              "\n",
              "          const docLinkHtml = 'Like what you see? Visit the ' +\n",
              "            '<a target=\"_blank\" href=https://colab.research.google.com/notebooks/data_table.ipynb>data table notebook</a>'\n",
              "            + ' to learn more about interactive tables.';\n",
              "          element.innerHTML = '';\n",
              "          dataTable['output_type'] = 'display_data';\n",
              "          await google.colab.output.renderOutput(dataTable, element);\n",
              "          const docLink = document.createElement('div');\n",
              "          docLink.innerHTML = docLinkHtml;\n",
              "          element.appendChild(docLink);\n",
              "        }\n",
              "      </script>\n",
              "    </div>\n",
              "  </div>\n",
              "  "
            ]
          },
          "metadata": {},
          "execution_count": 35
        }
      ]
    },
    {
      "cell_type": "code",
      "source": [
        "top_ten_docs.plot.bar(x = \"Title\", y = \"IMDB Score\", color=\"blue\")"
      ],
      "metadata": {
        "execution": {
          "iopub.status.busy": "2022-07-22T10:54:01.117734Z",
          "iopub.status.idle": "2022-07-22T10:54:01.118112Z",
          "shell.execute_reply.started": "2022-07-22T10:54:01.117898Z",
          "shell.execute_reply": "2022-07-22T10:54:01.117944Z"
        },
        "trusted": true,
        "id": "iH4FVChK9Wmc",
        "colab": {
          "base_uri": "https://localhost:8080/",
          "height": 593
        },
        "outputId": "384e4cbd-4d15-4e9b-dddb-bf27d5619353"
      },
      "execution_count": null,
      "outputs": [
        {
          "output_type": "execute_result",
          "data": {
            "text/plain": [
              "<matplotlib.axes._subplots.AxesSubplot at 0x7fd56acbef50>"
            ]
          },
          "metadata": {},
          "execution_count": 36
        },
        {
          "output_type": "display_data",
          "data": {
            "text/plain": [
              "<Figure size 432x288 with 1 Axes>"
            ],
            "image/png": "[encoded data removed]"
          },
          "metadata": {
            "needs_background": "light"
          }
        }
      ]
    },
    {
      "cell_type": "markdown",
      "source": [
        "Both the final data frame and bar graph revealed that documentary film \"Dancing with the birds\" has the highest IMDB score among the documentary films filmed between January 1, 2019 and June 30, 2020."
      ],
      "metadata": {
        "id": "i6sURJWy9Wmd"
      }
    },
    {
      "cell_type": "markdown",
      "source": [
        "# Question 3\n",
        "* **EN: Which movie genre the film with the highest IMDB score has been filmed in English?**\n",
        "* **TR: İngilizce çekilen filmler içerisinde hangi tür en yüksek IMDB puanına sahiptir?**"
      ],
      "metadata": {
        "id": "WRuBNFJtDaCC"
      }
    },
    {
      "cell_type": "markdown",
      "source": [
        "New data frame was created containing only the movies that filmed in English. By sorting this list according to the IMDB score in descending order, the answer will be found to the third question."
      ],
      "metadata": {
        "id": "QklUzuN9EL75"
      }
    },
    {
      "cell_type": "code",
      "source": [
        "english_movies = df.loc[df['Language'] == 'English'].sort_values(\"IMDB Score\", ascending=False, ignore_index=True)\n",
        "english_movies"
      ],
      "metadata": {
        "id": "1lCiPgdvDZSc",
        "execution": {
          "iopub.status.busy": "2022-07-22T10:54:01.119218Z",
          "iopub.status.idle": "2022-07-22T10:54:01.119568Z",
          "shell.execute_reply.started": "2022-07-22T10:54:01.119383Z",
          "shell.execute_reply": "2022-07-22T10:54:01.119400Z"
        },
        "trusted": true,
        "colab": {
          "base_uri": "https://localhost:8080/",
          "height": 424
        },
        "outputId": "f97b5d5a-82bb-4f00-adf0-7c2af37e2530"
      },
      "execution_count": null,
      "outputs": [
        {
          "output_type": "execute_result",
          "data": {
            "text/plain": [
              "                                          Title                    Genre  \\\n",
              "0      David Attenborough: A Life on Our Planet              Documentary   \n",
              "1                       Springsteen on Broadway             One-man show   \n",
              "2         Taylor Swift: Reputation Stadium Tour             Concert Film   \n",
              "3    Ben Platt: Live from Radio City Music Hall             Concert Film   \n",
              "4                        Dancing with the Birds              Documentary   \n",
              "..                                          ...                      ...   \n",
              "396                                       Mercy                 Thriller   \n",
              "397                        Searching for Sheela              Documentary   \n",
              "398                                     Paradox  Musical/Western/Fantasy   \n",
              "399             The Last Days of American Crime      Heist film/Thriller   \n",
              "400                              The Open House          Horror thriller   \n",
              "\n",
              "      Premiere  Runtime  IMDB Score Language  \n",
              "0   2020-10-04       83         9.0  English  \n",
              "1   2018-12-16      153         8.5  English  \n",
              "2   2018-12-31      125         8.4  English  \n",
              "3   2020-05-20       85         8.4  English  \n",
              "4   2019-10-23       51         8.3  English  \n",
              "..         ...      ...         ...      ...  \n",
              "396 2016-11-22       90         4.2  English  \n",
              "397 2021-04-22       58         4.1  English  \n",
              "398 2018-03-23       73         3.9  English  \n",
              "399 2020-06-05      149         3.7  English  \n",
              "400 2018-01-19       94         3.2  English  \n",
              "\n",
              "[401 rows x 6 columns]"
            ],
            "text/html": [
              "\n",
              "  <div id=\"df-92086c6d-02cc-420f-89be-cdca62d24930\">\n",
              "    <div class=\"colab-df-container\">\n",
              "      <div>\n",
              "<style scoped>\n",
              "    .dataframe tbody tr th:only-of-type {\n",
              "        vertical-align: middle;\n",
              "    }\n",
              "\n",
              "    .dataframe tbody tr th {\n",
              "        vertical-align: top;\n",
              "    }\n",
              "\n",
              "    .dataframe thead th {\n",
              "        text-align: right;\n",
              "    }\n",
              "</style>\n",
              "<table border=\"1\" class=\"dataframe\">\n",
              "  <thead>\n",
              "    <tr style=\"text-align: right;\">\n",
              "      <th></th>\n",
              "      <th>Title</th>\n",
              "      <th>Genre</th>\n",
              "      <th>Premiere</th>\n",
              "      <th>Runtime</th>\n",
              "      <th>IMDB Score</th>\n",
              "      <th>Language</th>\n",
              "    </tr>\n",
              "  </thead>\n",
              "  <tbody>\n",
              "    <tr>\n",
              "      <th>0</th>\n",
              "      <td>David Attenborough: A Life on Our Planet</td>\n",
              "      <td>Documentary</td>\n",
              "      <td>2020-10-04</td>\n",
              "      <td>83</td>\n",
              "      <td>9.0</td>\n",
              "      <td>English</td>\n",
              "    </tr>\n",
              "    <tr>\n",
              "      <th>1</th>\n",
              "      <td>Springsteen on Broadway</td>\n",
              "      <td>One-man show</td>\n",
              "      <td>2018-12-16</td>\n",
              "      <td>153</td>\n",
              "      <td>8.5</td>\n",
              "      <td>English</td>\n",
              "    </tr>\n",
              "    <tr>\n",
              "      <th>2</th>\n",
              "      <td>Taylor Swift: Reputation Stadium Tour</td>\n",
              "      <td>Concert Film</td>\n",
              "      <td>2018-12-31</td>\n",
              "      <td>125</td>\n",
              "      <td>8.4</td>\n",
              "      <td>English</td>\n",
              "    </tr>\n",
              "    <tr>\n",
              "      <th>3</th>\n",
              "      <td>Ben Platt: Live from Radio City Music Hall</td>\n",
              "      <td>Concert Film</td>\n",
              "      <td>2020-05-20</td>\n",
              "      <td>85</td>\n",
              "      <td>8.4</td>\n",
              "      <td>English</td>\n",
              "    </tr>\n",
              "    <tr>\n",
              "      <th>4</th>\n",
              "      <td>Dancing with the Birds</td>\n",
              "      <td>Documentary</td>\n",
              "      <td>2019-10-23</td>\n",
              "      <td>51</td>\n",
              "      <td>8.3</td>\n",
              "      <td>English</td>\n",
              "    </tr>\n",
              "    <tr>\n",
              "      <th>...</th>\n",
              "      <td>...</td>\n",
              "      <td>...</td>\n",
              "      <td>...</td>\n",
              "      <td>...</td>\n",
              "      <td>...</td>\n",
              "      <td>...</td>\n",
              "    </tr>\n",
              "    <tr>\n",
              "      <th>396</th>\n",
              "      <td>Mercy</td>\n",
              "      <td>Thriller</td>\n",
              "      <td>2016-11-22</td>\n",
              "      <td>90</td>\n",
              "      <td>4.2</td>\n",
              "      <td>English</td>\n",
              "    </tr>\n",
              "    <tr>\n",
              "      <th>397</th>\n",
              "      <td>Searching for Sheela</td>\n",
              "      <td>Documentary</td>\n",
              "      <td>2021-04-22</td>\n",
              "      <td>58</td>\n",
              "      <td>4.1</td>\n",
              "      <td>English</td>\n",
              "    </tr>\n",
              "    <tr>\n",
              "      <th>398</th>\n",
              "      <td>Paradox</td>\n",
              "      <td>Musical/Western/Fantasy</td>\n",
              "      <td>2018-03-23</td>\n",
              "      <td>73</td>\n",
              "      <td>3.9</td>\n",
              "      <td>English</td>\n",
              "    </tr>\n",
              "    <tr>\n",
              "      <th>399</th>\n",
              "      <td>The Last Days of American Crime</td>\n",
              "      <td>Heist film/Thriller</td>\n",
              "      <td>2020-06-05</td>\n",
              "      <td>149</td>\n",
              "      <td>3.7</td>\n",
              "      <td>English</td>\n",
              "    </tr>\n",
              "    <tr>\n",
              "      <th>400</th>\n",
              "      <td>The Open House</td>\n",
              "      <td>Horror thriller</td>\n",
              "      <td>2018-01-19</td>\n",
              "      <td>94</td>\n",
              "      <td>3.2</td>\n",
              "      <td>English</td>\n",
              "    </tr>\n",
              "  </tbody>\n",
              "</table>\n",
              "<p>401 rows × 6 columns</p>\n",
              "</div>\n",
              "      <button class=\"colab-df-convert\" onclick=\"convertToInteractive('df-92086c6d-02cc-420f-89be-cdca62d24930')\"\n",
              "              title=\"Convert this dataframe to an interactive table.\"\n",
              "              style=\"display:none;\">\n",
              "        \n",
              "  <svg xmlns=\"http://www.w3.org/2000/svg\" height=\"24px\"viewBox=\"0 0 24 24\"\n",
              "       width=\"24px\">\n",
              "    <path d=\"M0 0h24v24H0V0z\" fill=\"none\"/>\n",
              "    <path d=\"M18.56 5.44l.94 2.06.94-2.06 2.06-.94-2.06-.94-.94-2.06-.94 2.06-2.06.94zm-11 1L8.5 8.5l.94-2.06 2.06-.94-2.06-.94L8.5 2.5l-.94 2.06-2.06.94zm10 10l.94 2.06.94-2.06 2.06-.94-2.06-.94-.94-2.06-.94 2.06-2.06.94z\"/><path d=\"M17.41 7.96l-1.37-1.37c-.4-.4-.92-.59-1.43-.59-.52 0-1.04.2-1.43.59L10.3 9.45l-7.72 7.72c-.78.78-.78 2.05 0 2.83L4 21.41c.39.39.9.59 1.41.59.51 0 1.02-.2 1.41-.59l7.78-7.78 2.81-2.81c.8-.78.8-2.07 0-2.86zM5.41 20L4 18.59l7.72-7.72 1.47 1.35L5.41 20z\"/>\n",
              "  </svg>\n",
              "      </button>\n",
              "      \n",
              "  <style>\n",
              "    .colab-df-container {\n",
              "      display:flex;\n",
              "      flex-wrap:wrap;\n",
              "      gap: 12px;\n",
              "    }\n",
              "\n",
              "    .colab-df-convert {\n",
              "      background-color: #E8F0FE;\n",
              "      border: none;\n",
              "      border-radius: 50%;\n",
              "      cursor: pointer;\n",
              "      display: none;\n",
              "      fill: #1967D2;\n",
              "      height: 32px;\n",
              "      padding: 0 0 0 0;\n",
              "      width: 32px;\n",
              "    }\n",
              "\n",
              "    .colab-df-convert:hover {\n",
              "      background-color: #E2EBFA;\n",
              "      box-shadow: 0px 1px 2px rgba(60, 64, 67, 0.3), 0px 1px 3px 1px rgba(60, 64, 67, 0.15);\n",
              "      fill: #174EA6;\n",
              "    }\n",
              "\n",
              "    [theme=dark] .colab-df-convert {\n",
              "      background-color: #3B4455;\n",
              "      fill: #D2E3FC;\n",
              "    }\n",
              "\n",
              "    [theme=dark] .colab-df-convert:hover {\n",
              "      background-color: #434B5C;\n",
              "      box-shadow: 0px 1px 3px 1px rgba(0, 0, 0, 0.15);\n",
              "      filter: drop-shadow(0px 1px 2px rgba(0, 0, 0, 0.3));\n",
              "      fill: #FFFFFF;\n",
              "    }\n",
              "  </style>\n",
              "\n",
              "      <script>\n",
              "        const buttonEl =\n",
              "          document.querySelector('#df-92086c6d-02cc-420f-89be-cdca62d24930 button.colab-df-convert');\n",
              "        buttonEl.style.display =\n",
              "          google.colab.kernel.accessAllowed ? 'block' : 'none';\n",
              "\n",
              "        async function convertToInteractive(key) {\n",
              "          const element = document.querySelector('#df-92086c6d-02cc-420f-89be-cdca62d24930');\n",
              "          const dataTable =\n",
              "            await google.colab.kernel.invokeFunction('convertToInteractive',\n",
              "                                                     [key], {});\n",
              "          if (!dataTable) return;\n",
              "\n",
              "          const docLinkHtml = 'Like what you see? Visit the ' +\n",
              "            '<a target=\"_blank\" href=https://colab.research.google.com/notebooks/data_table.ipynb>data table notebook</a>'\n",
              "            + ' to learn more about interactive tables.';\n",
              "          element.innerHTML = '';\n",
              "          dataTable['output_type'] = 'display_data';\n",
              "          await google.colab.output.renderOutput(dataTable, element);\n",
              "          const docLink = document.createElement('div');\n",
              "          docLink.innerHTML = docLinkHtml;\n",
              "          element.appendChild(docLink);\n",
              "        }\n",
              "      </script>\n",
              "    </div>\n",
              "  </div>\n",
              "  "
            ]
          },
          "metadata": {},
          "execution_count": 37
        }
      ]
    },
    {
      "cell_type": "markdown",
      "source": [
        "So, a film  \"A Life on Our Planet\" is the highest ranked film with IMDB score of 9.0 and its genre is Documentary."
      ],
      "metadata": {
        "id": "KIpHkMau9Wmh"
      }
    },
    {
      "cell_type": "markdown",
      "source": [
        "# Question 4"
      ],
      "metadata": {
        "id": "CbZxD5xq9Wmi"
      }
    },
    {
      "cell_type": "markdown",
      "source": [
        "* **EN: What is the average runtime value of films filmed in 'Hindi'?**\n",
        "* **TR: 'Hindi' Dilinde çekilmiş olan filmlerin ortalama 'runtime' suresi nedir?**"
      ],
      "metadata": {
        "id": "Ygo46TTw9Wmk"
      }
    },
    {
      "cell_type": "code",
      "source": [
        "hindi_avg_runtime = round(df[df[\"Language\"] == \"Hindi\"][\"Runtime\"].mean())\n",
        "hindi_avg_runtime"
      ],
      "metadata": {
        "execution": {
          "iopub.status.busy": "2022-07-22T10:54:01.121058Z",
          "iopub.status.idle": "2022-07-22T10:54:01.121413Z",
          "shell.execute_reply.started": "2022-07-22T10:54:01.121232Z",
          "shell.execute_reply": "2022-07-22T10:54:01.121249Z"
        },
        "trusted": true,
        "id": "nYHGc3yq9Wml",
        "colab": {
          "base_uri": "https://localhost:8080/"
        },
        "outputId": "c7beed51-c90c-46f2-c91c-53fe1b3ade3b"
      },
      "execution_count": null,
      "outputs": [
        {
          "output_type": "execute_result",
          "data": {
            "text/plain": [
              "116"
            ]
          },
          "metadata": {},
          "execution_count": 38
        }
      ]
    },
    {
      "cell_type": "markdown",
      "source": [
        "Code snipped above returned that average runtime of films in Hindi language is 116 minutes."
      ],
      "metadata": {
        "id": "ctNHl_lr9Wmn"
      }
    },
    {
      "cell_type": "markdown",
      "source": [
        "# Question 5"
      ],
      "metadata": {
        "id": "w8ASq2Bs9Wmo"
      }
    },
    {
      "cell_type": "markdown",
      "source": [
        "* **EN: How many categories are there in Genre column? Visualize.**\n",
        "* **TR: Genre' Sütunu kaç kategoriye sahiptir ve bu kategoriler nelerdir? Görselleştirerek ifade ediniz.**"
      ],
      "metadata": {
        "id": "xZrJEIgUD0yp"
      }
    },
    {
      "cell_type": "code",
      "source": [
        "df[\"Genre\"].unique()\n",
        "df[\"Genre\"].value_counts()\n",
        "print(df[\"Genre\"].value_counts())\n",
        "topgenre = df[\"Genre\"].value_counts().nlargest(30)\n",
        "topgenre\n",
        "\n",
        "fig = po.bar(data_frame=topgenre, x=topgenre.index, y=topgenre.values, labels={\"y\":\"Number of Movies from the Genre\", \"index\":\"Genres\"})\n",
        "fig.update_layout(xaxis={\"categoryorder\":\"total descending\"})\n",
        "\n",
        "fig.show()"
      ],
      "metadata": {
        "execution": {
          "iopub.status.busy": "2022-07-22T10:54:01.122708Z",
          "iopub.status.idle": "2022-07-22T10:54:01.123080Z",
          "shell.execute_reply.started": "2022-07-22T10:54:01.122874Z",
          "shell.execute_reply": "2022-07-22T10:54:01.122891Z"
        },
        "trusted": true,
        "id": "nlglDRWG9Wmr",
        "colab": {
          "base_uri": "https://localhost:8080/",
          "height": 762
        },
        "outputId": "fb1d17e6-34fe-4793-f8d0-96ef7b9bae55"
      },
      "execution_count": null,
      "outputs": [
        {
          "output_type": "stream",
          "name": "stdout",
          "text": [
            "Documentary                             159\n",
            "Drama                                    77\n",
            "Comedy                                   49\n",
            "Romantic comedy                          39\n",
            "Thriller                                 33\n",
            "                                       ... \n",
            "Romantic comedy-drama                     1\n",
            "Heist film/Thriller                       1\n",
            "Musical/Western/Fantasy                   1\n",
            "Horror anthology                          1\n",
            "Animation/Christmas/Comedy/Adventure      1\n",
            "Name: Genre, Length: 115, dtype: int64\n"
          ]
        },
        {
          "output_type": "display_data",
          "data": {
            "text/html": [
              "<html>\n",
              "<head><meta charset=\"utf-8\" /></head>\n",
              "<body>\n",
              "    <div>            <script src=\"https://cdnjs.cloudflare.com/ajax/libs/mathjax/2.7.5/MathJax.js?config=TeX-AMS-MML_SVG\"></script><script type=\"text/javascript\">if (window.MathJax) {MathJax.Hub.Config({SVG: {font: \"STIX-Web\"}});}</script>                <script type=\"text/javascript\">window.PlotlyConfig = {MathJaxConfig: 'local'};</script>\n",
              "        <script src=\"https://cdn.plot.ly/plotly-2.8.3.min.js\"></script>                <div id=\"27c8139f-a071-467d-b04a-227ffafd88ad\" class=\"plotly-graph-div\" style=\"height:525px; width:100%;\"></div>            <script type=\"text/javascript\">                                    window.PLOTLYENV=window.PLOTLYENV || {};                                    if (document.getElementById(\"27c8139f-a071-467d-b04a-227ffafd88ad\")) {                    Plotly.newPlot(                        \"27c8139f-a071-467d-b04a-227ffafd88ad\",                        [{\"alignmentgroup\":\"True\",\"hovertemplate\":\"Genres=%{x}<br>Number of Movies from the Genre=%{y}<extra></extra>\",\"legendgroup\":\"\",\"marker\":{\"color\":\"#636efa\",\"pattern\":{\"shape\":\"\"}},\"name\":\"\",\"offsetgroup\":\"\",\"orientation\":\"v\",\"showlegend\":false,\"textposition\":\"auto\",\"x\":[\"Documentary\",\"Drama\",\"Comedy\",\"Romantic comedy\",\"Thriller\",\"Comedy-drama\",\"Crime drama\",\"Biopic\",\"Horror\",\"Action\",\"Romance\",\"Concert Film\",\"Aftershow / Interview\",\"Animation\",\"Action comedy\",\"Romantic drama\",\"Psychological thriller\",\"Science fiction/Thriller\",\"Variety show\",\"Science fiction\",\"Animation / Short\",\"Action-thriller\",\"Sports-drama\",\"One-man show\",\"Horror thriller\",\"Western\",\"Science fiction/Drama\",\"Dark comedy\",\"Satire\",\"War drama\"],\"xaxis\":\"x\",\"y\":[159,77,49,39,33,14,11,9,9,7,6,6,6,5,5,5,4,4,4,4,4,3,3,3,3,3,3,2,2,2],\"yaxis\":\"y\",\"type\":\"bar\"}],                        {\"template\":{\"data\":{\"bar\":[{\"error_x\":{\"color\":\"#2a3f5f\"},\"error_y\":{\"color\":\"#2a3f5f\"},\"marker\":{\"line\":{\"color\":\"#E5ECF6\",\"width\":0.5},\"pattern\":{\"fillmode\":\"overlay\",\"size\":10,\"solidity\":0.2}},\"type\":\"bar\"}],\"barpolar\":[{\"marker\":{\"line\":{\"color\":\"#E5ECF6\",\"width\":0.5},\"pattern\":{\"fillmode\":\"overlay\",\"size\":10,\"solidity\":0.2}},\"type\":\"barpolar\"}],\"carpet\":[{\"aaxis\":{\"endlinecolor\":\"#2a3f5f\",\"gridcolor\":\"white\",\"linecolor\":\"white\",\"minorgridcolor\":\"white\",\"startlinecolor\":\"#2a3f5f\"},\"baxis\":{\"endlinecolor\":\"#2a3f5f\",\"gridcolor\":\"white\",\"linecolor\":\"white\",\"minorgridcolor\":\"white\",\"startlinecolor\":\"#2a3f5f\"},\"type\":\"carpet\"}],\"choropleth\":[{\"colorbar\":{\"outlinewidth\":0,\"ticks\":\"\"},\"type\":\"choropleth\"}],\"contour\":[{\"colorbar\":{\"outlinewidth\":0,\"ticks\":\"\"},\"colorscale\":[[0.0,\"#0d0887\"],[0.1111111111111111,\"#46039f\"],[0.2222222222222222,\"#7201a8\"],[0.3333333333333333,\"#9c179e\"],[0.4444444444444444,\"#bd3786\"],[0.5555555555555556,\"#d8576b\"],[0.6666666666666666,\"#ed7953\"],[0.7777777777777778,\"#fb9f3a\"],[0.8888888888888888,\"#fdca26\"],[1.0,\"#f0f921\"]],\"type\":\"contour\"}],\"contourcarpet\":[{\"colorbar\":{\"outlinewidth\":0,\"ticks\":\"\"},\"type\":\"contourcarpet\"}],\"heatmap\":[{\"colorbar\":{\"outlinewidth\":0,\"ticks\":\"\"},\"colorscale\":[[0.0,\"#0d0887\"],[0.1111111111111111,\"#46039f\"],[0.2222222222222222,\"#7201a8\"],[0.3333333333333333,\"#9c179e\"],[0.4444444444444444,\"#bd3786\"],[0.5555555555555556,\"#d8576b\"],[0.6666666666666666,\"#ed7953\"],[0.7777777777777778,\"#fb9f3a\"],[0.8888888888888888,\"#fdca26\"],[1.0,\"#f0f921\"]],\"type\":\"heatmap\"}],\"heatmapgl\":[{\"colorbar\":{\"outlinewidth\":0,\"ticks\":\"\"},\"colorscale\":[[0.0,\"#0d0887\"],[0.1111111111111111,\"#46039f\"],[0.2222222222222222,\"#7201a8\"],[0.3333333333333333,\"#9c179e\"],[0.4444444444444444,\"#bd3786\"],[0.5555555555555556,\"#d8576b\"],[0.6666666666666666,\"#ed7953\"],[0.7777777777777778,\"#fb9f3a\"],[0.8888888888888888,\"#fdca26\"],[1.0,\"#f0f921\"]],\"type\":\"heatmapgl\"}],\"histogram\":[{\"marker\":{\"pattern\":{\"fillmode\":\"overlay\",\"size\":10,\"solidity\":0.2}},\"type\":\"histogram\"}],\"histogram2d\":[{\"colorbar\":{\"outlinewidth\":0,\"ticks\":\"\"},\"colorscale\":[[0.0,\"#0d0887\"],[0.1111111111111111,\"#46039f\"],[0.2222222222222222,\"#7201a8\"],[0.3333333333333333,\"#9c179e\"],[0.4444444444444444,\"#bd3786\"],[0.5555555555555556,\"#d8576b\"],[0.6666666666666666,\"#ed7953\"],[0.7777777777777778,\"#fb9f3a\"],[0.8888888888888888,\"#fdca26\"],[1.0,\"#f0f921\"]],\"type\":\"histogram2d\"}],\"histogram2dcontour\":[{\"colorbar\":{\"outlinewidth\":0,\"ticks\":\"\"},\"colorscale\":[[0.0,\"#0d0887\"],[0.1111111111111111,\"#46039f\"],[0.2222222222222222,\"#7201a8\"],[0.3333333333333333,\"#9c179e\"],[0.4444444444444444,\"#bd3786\"],[0.5555555555555556,\"#d8576b\"],[0.6666666666666666,\"#ed7953\"],[0.7777777777777778,\"#fb9f3a\"],[0.8888888888888888,\"#fdca26\"],[1.0,\"#f0f921\"]],\"type\":\"histogram2dcontour\"}],\"mesh3d\":[{\"colorbar\":{\"outlinewidth\":0,\"ticks\":\"\"},\"type\":\"mesh3d\"}],\"parcoords\":[{\"line\":{\"colorbar\":{\"outlinewidth\":0,\"ticks\":\"\"}},\"type\":\"parcoords\"}],\"pie\":[{\"automargin\":true,\"type\":\"pie\"}],\"scatter\":[{\"marker\":{\"colorbar\":{\"outlinewidth\":0,\"ticks\":\"\"}},\"type\":\"scatter\"}],\"scatter3d\":[{\"line\":{\"colorbar\":{\"outlinewidth\":0,\"ticks\":\"\"}},\"marker\":{\"colorbar\":{\"outlinewidth\":0,\"ticks\":\"\"}},\"type\":\"scatter3d\"}],\"scattercarpet\":[{\"marker\":{\"colorbar\":{\"outlinewidth\":0,\"ticks\":\"\"}},\"type\":\"scattercarpet\"}],\"scattergeo\":[{\"marker\":{\"colorbar\":{\"outlinewidth\":0,\"ticks\":\"\"}},\"type\":\"scattergeo\"}],\"scattergl\":[{\"marker\":{\"colorbar\":{\"outlinewidth\":0,\"ticks\":\"\"}},\"type\":\"scattergl\"}],\"scattermapbox\":[{\"marker\":{\"colorbar\":{\"outlinewidth\":0,\"ticks\":\"\"}},\"type\":\"scattermapbox\"}],\"scatterpolar\":[{\"marker\":{\"colorbar\":{\"outlinewidth\":0,\"ticks\":\"\"}},\"type\":\"scatterpolar\"}],\"scatterpolargl\":[{\"marker\":{\"colorbar\":{\"outlinewidth\":0,\"ticks\":\"\"}},\"type\":\"scatterpolargl\"}],\"scatterternary\":[{\"marker\":{\"colorbar\":{\"outlinewidth\":0,\"ticks\":\"\"}},\"type\":\"scatterternary\"}],\"surface\":[{\"colorbar\":{\"outlinewidth\":0,\"ticks\":\"\"},\"colorscale\":[[0.0,\"#0d0887\"],[0.1111111111111111,\"#46039f\"],[0.2222222222222222,\"#7201a8\"],[0.3333333333333333,\"#9c179e\"],[0.4444444444444444,\"#bd3786\"],[0.5555555555555556,\"#d8576b\"],[0.6666666666666666,\"#ed7953\"],[0.7777777777777778,\"#fb9f3a\"],[0.8888888888888888,\"#fdca26\"],[1.0,\"#f0f921\"]],\"type\":\"surface\"}],\"table\":[{\"cells\":{\"fill\":{\"color\":\"#EBF0F8\"},\"line\":{\"color\":\"white\"}},\"header\":{\"fill\":{\"color\":\"#C8D4E3\"},\"line\":{\"color\":\"white\"}},\"type\":\"table\"}]},\"layout\":{\"annotationdefaults\":{\"arrowcolor\":\"#2a3f5f\",\"arrowhead\":0,\"arrowwidth\":1},\"autotypenumbers\":\"strict\",\"coloraxis\":{\"colorbar\":{\"outlinewidth\":0,\"ticks\":\"\"}},\"colorscale\":{\"diverging\":[[0,\"#8e0152\"],[0.1,\"#c51b7d\"],[0.2,\"#de77ae\"],[0.3,\"#f1b6da\"],[0.4,\"#fde0ef\"],[0.5,\"#f7f7f7\"],[0.6,\"#e6f5d0\"],[0.7,\"#b8e186\"],[0.8,\"#7fbc41\"],[0.9,\"#4d9221\"],[1,\"#276419\"]],\"sequential\":[[0.0,\"#0d0887\"],[0.1111111111111111,\"#46039f\"],[0.2222222222222222,\"#7201a8\"],[0.3333333333333333,\"#9c179e\"],[0.4444444444444444,\"#bd3786\"],[0.5555555555555556,\"#d8576b\"],[0.6666666666666666,\"#ed7953\"],[0.7777777777777778,\"#fb9f3a\"],[0.8888888888888888,\"#fdca26\"],[1.0,\"#f0f921\"]],\"sequentialminus\":[[0.0,\"#0d0887\"],[0.1111111111111111,\"#46039f\"],[0.2222222222222222,\"#7201a8\"],[0.3333333333333333,\"#9c179e\"],[0.4444444444444444,\"#bd3786\"],[0.5555555555555556,\"#d8576b\"],[0.6666666666666666,\"#ed7953\"],[0.7777777777777778,\"#fb9f3a\"],[0.8888888888888888,\"#fdca26\"],[1.0,\"#f0f921\"]]},\"colorway\":[\"#636efa\",\"#EF553B\",\"#00cc96\",\"#ab63fa\",\"#FFA15A\",\"#19d3f3\",\"#FF6692\",\"#B6E880\",\"#FF97FF\",\"#FECB52\"],\"font\":{\"color\":\"#2a3f5f\"},\"geo\":{\"bgcolor\":\"white\",\"lakecolor\":\"white\",\"landcolor\":\"#E5ECF6\",\"showlakes\":true,\"showland\":true,\"subunitcolor\":\"white\"},\"hoverlabel\":{\"align\":\"left\"},\"hovermode\":\"closest\",\"mapbox\":{\"style\":\"light\"},\"paper_bgcolor\":\"white\",\"plot_bgcolor\":\"#E5ECF6\",\"polar\":{\"angularaxis\":{\"gridcolor\":\"white\",\"linecolor\":\"white\",\"ticks\":\"\"},\"bgcolor\":\"#E5ECF6\",\"radialaxis\":{\"gridcolor\":\"white\",\"linecolor\":\"white\",\"ticks\":\"\"}},\"scene\":{\"xaxis\":{\"backgroundcolor\":\"#E5ECF6\",\"gridcolor\":\"white\",\"gridwidth\":2,\"linecolor\":\"white\",\"showbackground\":true,\"ticks\":\"\",\"zerolinecolor\":\"white\"},\"yaxis\":{\"backgroundcolor\":\"#E5ECF6\",\"gridcolor\":\"white\",\"gridwidth\":2,\"linecolor\":\"white\",\"showbackground\":true,\"ticks\":\"\",\"zerolinecolor\":\"white\"},\"zaxis\":{\"backgroundcolor\":\"#E5ECF6\",\"gridcolor\":\"white\",\"gridwidth\":2,\"linecolor\":\"white\",\"showbackground\":true,\"ticks\":\"\",\"zerolinecolor\":\"white\"}},\"shapedefaults\":{\"line\":{\"color\":\"#2a3f5f\"}},\"ternary\":{\"aaxis\":{\"gridcolor\":\"white\",\"linecolor\":\"white\",\"ticks\":\"\"},\"baxis\":{\"gridcolor\":\"white\",\"linecolor\":\"white\",\"ticks\":\"\"},\"bgcolor\":\"#E5ECF6\",\"caxis\":{\"gridcolor\":\"white\",\"linecolor\":\"white\",\"ticks\":\"\"}},\"title\":{\"x\":0.05},\"xaxis\":{\"automargin\":true,\"gridcolor\":\"white\",\"linecolor\":\"white\",\"ticks\":\"\",\"title\":{\"standoff\":15},\"zerolinecolor\":\"white\",\"zerolinewidth\":2},\"yaxis\":{\"automargin\":true,\"gridcolor\":\"white\",\"linecolor\":\"white\",\"ticks\":\"\",\"title\":{\"standoff\":15},\"zerolinecolor\":\"white\",\"zerolinewidth\":2}}},\"xaxis\":{\"anchor\":\"y\",\"domain\":[0.0,1.0],\"title\":{\"text\":\"Genres\"},\"categoryorder\":\"total descending\"},\"yaxis\":{\"anchor\":\"x\",\"domain\":[0.0,1.0],\"title\":{\"text\":\"Number of Movies from the Genre\"}},\"legend\":{\"tracegroupgap\":0},\"margin\":{\"t\":60},\"barmode\":\"relative\"},                        {\"responsive\": true}                    ).then(function(){\n",
              "                            \n",
              "var gd = document.getElementById('27c8139f-a071-467d-b04a-227ffafd88ad');\n",
              "var x = new MutationObserver(function (mutations, observer) {{\n",
              "        var display = window.getComputedStyle(gd).display;\n",
              "        if (!display || display === 'none') {{\n",
              "            console.log([gd, 'removed!']);\n",
              "            Plotly.purge(gd);\n",
              "            observer.disconnect();\n",
              "        }}\n",
              "}});\n",
              "\n",
              "// Listen for the removal of the full notebook cells\n",
              "var notebookContainer = gd.closest('#notebook-container');\n",
              "if (notebookContainer) {{\n",
              "    x.observe(notebookContainer, {childList: true});\n",
              "}}\n",
              "\n",
              "// Listen for the clearing of the current output cell\n",
              "var outputEl = gd.closest('.output');\n",
              "if (outputEl) {{\n",
              "    x.observe(outputEl, {childList: true});\n",
              "}}\n",
              "\n",
              "                        })                };                            </script>        </div>\n",
              "</body>\n",
              "</html>"
            ]
          },
          "metadata": {}
        }
      ]
    },
    {
      "cell_type": "markdown",
      "source": [
        "# Question 6"
      ],
      "metadata": {
        "id": "1pH7rq0O9Wms"
      }
    },
    {
      "cell_type": "markdown",
      "source": [
        "* **EN: Find 3 most commonly used languages in dataset.**\n",
        "* **TR: Veri setinde bulunan filmlerde en çok kullanılan 3 dili bulunuz.**"
      ],
      "metadata": {
        "id": "yhph7H-d9Wmt"
      }
    },
    {
      "cell_type": "markdown",
      "source": [
        "**The most used three languages**\n",
        "\n",
        "Using value_counts() function, find most used languages in the films and print first three"
      ],
      "metadata": {
        "id": "3KB_ne7i9Wmu"
      }
    },
    {
      "cell_type": "code",
      "source": [
        "lang_count = df[\"Language\"].value_counts().head(3)\n",
        "lang_count"
      ],
      "metadata": {
        "execution": {
          "iopub.status.busy": "2022-07-22T10:54:01.124400Z",
          "iopub.status.idle": "2022-07-22T10:54:01.124776Z",
          "shell.execute_reply.started": "2022-07-22T10:54:01.124595Z",
          "shell.execute_reply": "2022-07-22T10:54:01.124612Z"
        },
        "trusted": true,
        "id": "tG92AiRb9Wmv",
        "colab": {
          "base_uri": "https://localhost:8080/"
        },
        "outputId": "3f0e7fcd-2f5d-40ac-c263-f68f091664ee"
      },
      "execution_count": null,
      "outputs": [
        {
          "output_type": "execute_result",
          "data": {
            "text/plain": [
              "English    401\n",
              "Hindi       33\n",
              "Spanish     31\n",
              "Name: Language, dtype: int64"
            ]
          },
          "metadata": {},
          "execution_count": 40
        }
      ]
    },
    {
      "cell_type": "markdown",
      "source": [
        "## Question 7"
      ],
      "metadata": {
        "id": "L8z6BaXK9Wmw"
      }
    },
    {
      "cell_type": "markdown",
      "source": [
        "* **EN: Find 10 films with highest IMDB score.**\n",
        "* **TR: IMDB puanı en yüksek olan ilk 10 film hangileridir?)**"
      ],
      "metadata": {
        "id": "CeAvZzFZ9Wmx"
      }
    },
    {
      "cell_type": "markdown",
      "source": [
        "## Create sorted list of films"
      ],
      "metadata": {
        "id": "miloDeJ19Wmz"
      }
    },
    {
      "cell_type": "markdown",
      "source": [
        "In order to identify 10 films with highest IMDB rankings the data frame was sorted in descending order by IMDB score variable. Then, first 10 films listed."
      ],
      "metadata": {
        "id": "cPgqsnUJ9Wm0"
      }
    },
    {
      "cell_type": "code",
      "source": [
        "sorted_films = df.sort_values(by=\"IMDB Score\", ascending=False, ignore_index=True).head(10)\n",
        "sorted_films"
      ],
      "metadata": {
        "execution": {
          "iopub.status.busy": "2022-07-22T10:54:01.125881Z",
          "iopub.status.idle": "2022-07-22T10:54:01.126260Z",
          "shell.execute_reply.started": "2022-07-22T10:54:01.126082Z",
          "shell.execute_reply": "2022-07-22T10:54:01.126100Z"
        },
        "trusted": true,
        "id": "fdOQw-Cx9Wm1",
        "colab": {
          "base_uri": "https://localhost:8080/",
          "height": 598
        },
        "outputId": "83c1855b-c7c0-4ba2-af0d-197a8cd87235"
      },
      "execution_count": null,
      "outputs": [
        {
          "output_type": "execute_result",
          "data": {
            "text/plain": [
              "                                         Title  \\\n",
              "0     David Attenborough: A Life on Our Planet   \n",
              "1    Emicida: AmarElo - It's All For Yesterday   \n",
              "2                      Springsteen on Broadway   \n",
              "3  Winter on Fire: Ukraine's Fight for Freedom   \n",
              "4        Taylor Swift: Reputation Stadium Tour   \n",
              "5   Ben Platt: Live from Radio City Music Hall   \n",
              "6                       Dancing with the Birds   \n",
              "7                      Cuba and the Cameraman    \n",
              "8                                        Klaus   \n",
              "9                                         13th   \n",
              "\n",
              "                                  Genre   Premiere  Runtime  IMDB Score  \\\n",
              "0                           Documentary 2020-10-04       83         9.0   \n",
              "1                           Documentary 2020-12-08       89         8.6   \n",
              "2                          One-man show 2018-12-16      153         8.5   \n",
              "3                           Documentary 2015-10-09       91         8.4   \n",
              "4                          Concert Film 2018-12-31      125         8.4   \n",
              "5                          Concert Film 2020-05-20       85         8.4   \n",
              "6                           Documentary 2019-10-23       51         8.3   \n",
              "7                           Documentary 2017-11-24      114         8.3   \n",
              "8  Animation/Christmas/Comedy/Adventure 2019-11-15       97         8.2   \n",
              "9                           Documentary 2016-10-07      100         8.2   \n",
              "\n",
              "                   Language  \n",
              "0                   English  \n",
              "1                Portuguese  \n",
              "2                   English  \n",
              "3  English/Ukranian/Russian  \n",
              "4                   English  \n",
              "5                   English  \n",
              "6                   English  \n",
              "7                   English  \n",
              "8                   English  \n",
              "9                   English  "
            ],
            "text/html": [
              "\n",
              "  <div id=\"df-583ef337-b770-44e7-8280-196d93a7116c\">\n",
              "    <div class=\"colab-df-container\">\n",
              "      <div>\n",
              "<style scoped>\n",
              "    .dataframe tbody tr th:only-of-type {\n",
              "        vertical-align: middle;\n",
              "    }\n",
              "\n",
              "    .dataframe tbody tr th {\n",
              "        vertical-align: top;\n",
              "    }\n",
              "\n",
              "    .dataframe thead th {\n",
              "        text-align: right;\n",
              "    }\n",
              "</style>\n",
              "<table border=\"1\" class=\"dataframe\">\n",
              "  <thead>\n",
              "    <tr style=\"text-align: right;\">\n",
              "      <th></th>\n",
              "      <th>Title</th>\n",
              "      <th>Genre</th>\n",
              "      <th>Premiere</th>\n",
              "      <th>Runtime</th>\n",
              "      <th>IMDB Score</th>\n",
              "      <th>Language</th>\n",
              "    </tr>\n",
              "  </thead>\n",
              "  <tbody>\n",
              "    <tr>\n",
              "      <th>0</th>\n",
              "      <td>David Attenborough: A Life on Our Planet</td>\n",
              "      <td>Documentary</td>\n",
              "      <td>2020-10-04</td>\n",
              "      <td>83</td>\n",
              "      <td>9.0</td>\n",
              "      <td>English</td>\n",
              "    </tr>\n",
              "    <tr>\n",
              "      <th>1</th>\n",
              "      <td>Emicida: AmarElo - It's All For Yesterday</td>\n",
              "      <td>Documentary</td>\n",
              "      <td>2020-12-08</td>\n",
              "      <td>89</td>\n",
              "      <td>8.6</td>\n",
              "      <td>Portuguese</td>\n",
              "    </tr>\n",
              "    <tr>\n",
              "      <th>2</th>\n",
              "      <td>Springsteen on Broadway</td>\n",
              "      <td>One-man show</td>\n",
              "      <td>2018-12-16</td>\n",
              "      <td>153</td>\n",
              "      <td>8.5</td>\n",
              "      <td>English</td>\n",
              "    </tr>\n",
              "    <tr>\n",
              "      <th>3</th>\n",
              "      <td>Winter on Fire: Ukraine's Fight for Freedom</td>\n",
              "      <td>Documentary</td>\n",
              "      <td>2015-10-09</td>\n",
              "      <td>91</td>\n",
              "      <td>8.4</td>\n",
              "      <td>English/Ukranian/Russian</td>\n",
              "    </tr>\n",
              "    <tr>\n",
              "      <th>4</th>\n",
              "      <td>Taylor Swift: Reputation Stadium Tour</td>\n",
              "      <td>Concert Film</td>\n",
              "      <td>2018-12-31</td>\n",
              "      <td>125</td>\n",
              "      <td>8.4</td>\n",
              "      <td>English</td>\n",
              "    </tr>\n",
              "    <tr>\n",
              "      <th>5</th>\n",
              "      <td>Ben Platt: Live from Radio City Music Hall</td>\n",
              "      <td>Concert Film</td>\n",
              "      <td>2020-05-20</td>\n",
              "      <td>85</td>\n",
              "      <td>8.4</td>\n",
              "      <td>English</td>\n",
              "    </tr>\n",
              "    <tr>\n",
              "      <th>6</th>\n",
              "      <td>Dancing with the Birds</td>\n",
              "      <td>Documentary</td>\n",
              "      <td>2019-10-23</td>\n",
              "      <td>51</td>\n",
              "      <td>8.3</td>\n",
              "      <td>English</td>\n",
              "    </tr>\n",
              "    <tr>\n",
              "      <th>7</th>\n",
              "      <td>Cuba and the Cameraman</td>\n",
              "      <td>Documentary</td>\n",
              "      <td>2017-11-24</td>\n",
              "      <td>114</td>\n",
              "      <td>8.3</td>\n",
              "      <td>English</td>\n",
              "    </tr>\n",
              "    <tr>\n",
              "      <th>8</th>\n",
              "      <td>Klaus</td>\n",
              "      <td>Animation/Christmas/Comedy/Adventure</td>\n",
              "      <td>2019-11-15</td>\n",
              "      <td>97</td>\n",
              "      <td>8.2</td>\n",
              "      <td>English</td>\n",
              "    </tr>\n",
              "    <tr>\n",
              "      <th>9</th>\n",
              "      <td>13th</td>\n",
              "      <td>Documentary</td>\n",
              "      <td>2016-10-07</td>\n",
              "      <td>100</td>\n",
              "      <td>8.2</td>\n",
              "      <td>English</td>\n",
              "    </tr>\n",
              "  </tbody>\n",
              "</table>\n",
              "</div>\n",
              "      <button class=\"colab-df-convert\" onclick=\"convertToInteractive('df-583ef337-b770-44e7-8280-196d93a7116c')\"\n",
              "              title=\"Convert this dataframe to an interactive table.\"\n",
              "              style=\"display:none;\">\n",
              "        \n",
              "  <svg xmlns=\"http://www.w3.org/2000/svg\" height=\"24px\"viewBox=\"0 0 24 24\"\n",
              "       width=\"24px\">\n",
              "    <path d=\"M0 0h24v24H0V0z\" fill=\"none\"/>\n",
              "    <path d=\"M18.56 5.44l.94 2.06.94-2.06 2.06-.94-2.06-.94-.94-2.06-.94 2.06-2.06.94zm-11 1L8.5 8.5l.94-2.06 2.06-.94-2.06-.94L8.5 2.5l-.94 2.06-2.06.94zm10 10l.94 2.06.94-2.06 2.06-.94-2.06-.94-.94-2.06-.94 2.06-2.06.94z\"/><path d=\"M17.41 7.96l-1.37-1.37c-.4-.4-.92-.59-1.43-.59-.52 0-1.04.2-1.43.59L10.3 9.45l-7.72 7.72c-.78.78-.78 2.05 0 2.83L4 21.41c.39.39.9.59 1.41.59.51 0 1.02-.2 1.41-.59l7.78-7.78 2.81-2.81c.8-.78.8-2.07 0-2.86zM5.41 20L4 18.59l7.72-7.72 1.47 1.35L5.41 20z\"/>\n",
              "  </svg>\n",
              "      </button>\n",
              "      \n",
              "  <style>\n",
              "    .colab-df-container {\n",
              "      display:flex;\n",
              "      flex-wrap:wrap;\n",
              "      gap: 12px;\n",
              "    }\n",
              "\n",
              "    .colab-df-convert {\n",
              "      background-color: #E8F0FE;\n",
              "      border: none;\n",
              "      border-radius: 50%;\n",
              "      cursor: pointer;\n",
              "      display: none;\n",
              "      fill: #1967D2;\n",
              "      height: 32px;\n",
              "      padding: 0 0 0 0;\n",
              "      width: 32px;\n",
              "    }\n",
              "\n",
              "    .colab-df-convert:hover {\n",
              "      background-color: #E2EBFA;\n",
              "      box-shadow: 0px 1px 2px rgba(60, 64, 67, 0.3), 0px 1px 3px 1px rgba(60, 64, 67, 0.15);\n",
              "      fill: #174EA6;\n",
              "    }\n",
              "\n",
              "    [theme=dark] .colab-df-convert {\n",
              "      background-color: #3B4455;\n",
              "      fill: #D2E3FC;\n",
              "    }\n",
              "\n",
              "    [theme=dark] .colab-df-convert:hover {\n",
              "      background-color: #434B5C;\n",
              "      box-shadow: 0px 1px 3px 1px rgba(0, 0, 0, 0.15);\n",
              "      filter: drop-shadow(0px 1px 2px rgba(0, 0, 0, 0.3));\n",
              "      fill: #FFFFFF;\n",
              "    }\n",
              "  </style>\n",
              "\n",
              "      <script>\n",
              "        const buttonEl =\n",
              "          document.querySelector('#df-583ef337-b770-44e7-8280-196d93a7116c button.colab-df-convert');\n",
              "        buttonEl.style.display =\n",
              "          google.colab.kernel.accessAllowed ? 'block' : 'none';\n",
              "\n",
              "        async function convertToInteractive(key) {\n",
              "          const element = document.querySelector('#df-583ef337-b770-44e7-8280-196d93a7116c');\n",
              "          const dataTable =\n",
              "            await google.colab.kernel.invokeFunction('convertToInteractive',\n",
              "                                                     [key], {});\n",
              "          if (!dataTable) return;\n",
              "\n",
              "          const docLinkHtml = 'Like what you see? Visit the ' +\n",
              "            '<a target=\"_blank\" href=https://colab.research.google.com/notebooks/data_table.ipynb>data table notebook</a>'\n",
              "            + ' to learn more about interactive tables.';\n",
              "          element.innerHTML = '';\n",
              "          dataTable['output_type'] = 'display_data';\n",
              "          await google.colab.output.renderOutput(dataTable, element);\n",
              "          const docLink = document.createElement('div');\n",
              "          docLink.innerHTML = docLinkHtml;\n",
              "          element.appendChild(docLink);\n",
              "        }\n",
              "      </script>\n",
              "    </div>\n",
              "  </div>\n",
              "  "
            ]
          },
          "metadata": {},
          "execution_count": 41
        }
      ]
    },
    {
      "cell_type": "markdown",
      "source": [
        "New dataframe contains the list of 10 films with the highest IMDB score."
      ],
      "metadata": {
        "id": "ro8DfSTD9Wm2"
      }
    },
    {
      "cell_type": "markdown",
      "source": [
        "## Question 8"
      ],
      "metadata": {
        "id": "K4t3ODME9Wm2"
      }
    },
    {
      "cell_type": "markdown",
      "source": [
        "* **EN: What is the correlation between IMDB score and Runtime? Visualize.**\n",
        "* **TR: IMDB puanı ile 'Runtime' arasında nasıl bir korelasyon vardır? İnceleyip görselleştiriniz.**"
      ],
      "metadata": {
        "id": "tyfgvXjI9Wm3"
      }
    },
    {
      "cell_type": "code",
      "source": [
        "plt.scatter(df['IMDB Score'],df['Runtime'])\n",
        "plt.show()"
      ],
      "metadata": {
        "execution": {
          "iopub.status.busy": "2022-07-22T10:54:01.127551Z",
          "iopub.status.idle": "2022-07-22T10:54:01.127895Z",
          "shell.execute_reply.started": "2022-07-22T10:54:01.127718Z",
          "shell.execute_reply": "2022-07-22T10:54:01.127735Z"
        },
        "trusted": true,
        "id": "nUFvhAPr9Wm3",
        "colab": {
          "base_uri": "https://localhost:8080/",
          "height": 265
        },
        "outputId": "e9ae08ad-9f7c-4289-89e4-a7c5f5798b9f"
      },
      "execution_count": null,
      "outputs": [
        {
          "output_type": "display_data",
          "data": {
            "text/plain": [
              "<Figure size 432x288 with 1 Axes>"
            ],
            "image/png": "[encoded data removed]"
          },
          "metadata": {
            "needs_background": "light"
          }
        }
      ]
    },
    {
      "cell_type": "code",
      "source": [
        "correlation_value = df['IMDB Score'].corr(df['Runtime'])\n",
        "correlation_value"
      ],
      "metadata": {
        "execution": {
          "iopub.status.busy": "2022-07-22T10:54:01.129087Z",
          "iopub.status.idle": "2022-07-22T10:54:01.129445Z",
          "shell.execute_reply.started": "2022-07-22T10:54:01.129267Z",
          "shell.execute_reply": "2022-07-22T10:54:01.129285Z"
        },
        "trusted": true,
        "id": "GzxYJiuC9Wm4",
        "colab": {
          "base_uri": "https://localhost:8080/"
        },
        "outputId": "2cc09f6f-4043-4085-8774-7f0765757716"
      },
      "execution_count": null,
      "outputs": [
        {
          "output_type": "execute_result",
          "data": {
            "text/plain": [
              "-0.04089629142078858"
            ]
          },
          "metadata": {},
          "execution_count": 43
        }
      ]
    },
    {
      "cell_type": "markdown",
      "source": [
        "## Question 9"
      ],
      "metadata": {
        "id": "2gY9Ilai9Wm5"
      }
    },
    {
      "cell_type": "markdown",
      "source": [
        "* **EN:What are the 10 Genre with the highest IMDB score?**\n",
        "* **TR: IMDB Puanı en yüksek olan ilk 10 'Genre' hangileridir? Görselleştiriniz.**"
      ],
      "metadata": {
        "id": "koYtaqwF9Wm5"
      }
    },
    {
      "cell_type": "code",
      "source": [
        "top_imdb_genre = df.sort_values(by = ['IMDB Score'], ascending = False, ignore_index=True).head(10)\n",
        "top_imdb_genre"
      ],
      "metadata": {
        "execution": {
          "iopub.status.busy": "2022-07-22T10:54:01.130638Z",
          "iopub.status.idle": "2022-07-22T10:54:01.131020Z",
          "shell.execute_reply.started": "2022-07-22T10:54:01.130806Z",
          "shell.execute_reply": "2022-07-22T10:54:01.130823Z"
        },
        "trusted": true,
        "id": "diynpCHC9Wm7",
        "colab": {
          "base_uri": "https://localhost:8080/",
          "height": 598
        },
        "outputId": "7a0eaa7e-c75c-482c-a3aa-10a752b2d0cc"
      },
      "execution_count": null,
      "outputs": [
        {
          "output_type": "execute_result",
          "data": {
            "text/plain": [
              "                                         Title  \\\n",
              "0     David Attenborough: A Life on Our Planet   \n",
              "1    Emicida: AmarElo - It's All For Yesterday   \n",
              "2                      Springsteen on Broadway   \n",
              "3  Winter on Fire: Ukraine's Fight for Freedom   \n",
              "4        Taylor Swift: Reputation Stadium Tour   \n",
              "5   Ben Platt: Live from Radio City Music Hall   \n",
              "6                       Dancing with the Birds   \n",
              "7                      Cuba and the Cameraman    \n",
              "8                                        Klaus   \n",
              "9                                         13th   \n",
              "\n",
              "                                  Genre   Premiere  Runtime  IMDB Score  \\\n",
              "0                           Documentary 2020-10-04       83         9.0   \n",
              "1                           Documentary 2020-12-08       89         8.6   \n",
              "2                          One-man show 2018-12-16      153         8.5   \n",
              "3                           Documentary 2015-10-09       91         8.4   \n",
              "4                          Concert Film 2018-12-31      125         8.4   \n",
              "5                          Concert Film 2020-05-20       85         8.4   \n",
              "6                           Documentary 2019-10-23       51         8.3   \n",
              "7                           Documentary 2017-11-24      114         8.3   \n",
              "8  Animation/Christmas/Comedy/Adventure 2019-11-15       97         8.2   \n",
              "9                           Documentary 2016-10-07      100         8.2   \n",
              "\n",
              "                   Language  \n",
              "0                   English  \n",
              "1                Portuguese  \n",
              "2                   English  \n",
              "3  English/Ukranian/Russian  \n",
              "4                   English  \n",
              "5                   English  \n",
              "6                   English  \n",
              "7                   English  \n",
              "8                   English  \n",
              "9                   English  "
            ],
            "text/html": [
              "\n",
              "  <div id=\"df-ddb5309b-e51d-46fc-82fc-cf6819d7ae13\">\n",
              "    <div class=\"colab-df-container\">\n",
              "      <div>\n",
              "<style scoped>\n",
              "    .dataframe tbody tr th:only-of-type {\n",
              "        vertical-align: middle;\n",
              "    }\n",
              "\n",
              "    .dataframe tbody tr th {\n",
              "        vertical-align: top;\n",
              "    }\n",
              "\n",
              "    .dataframe thead th {\n",
              "        text-align: right;\n",
              "    }\n",
              "</style>\n",
              "<table border=\"1\" class=\"dataframe\">\n",
              "  <thead>\n",
              "    <tr style=\"text-align: right;\">\n",
              "      <th></th>\n",
              "      <th>Title</th>\n",
              "      <th>Genre</th>\n",
              "      <th>Premiere</th>\n",
              "      <th>Runtime</th>\n",
              "      <th>IMDB Score</th>\n",
              "      <th>Language</th>\n",
              "    </tr>\n",
              "  </thead>\n",
              "  <tbody>\n",
              "    <tr>\n",
              "      <th>0</th>\n",
              "      <td>David Attenborough: A Life on Our Planet</td>\n",
              "      <td>Documentary</td>\n",
              "      <td>2020-10-04</td>\n",
              "      <td>83</td>\n",
              "      <td>9.0</td>\n",
              "      <td>English</td>\n",
              "    </tr>\n",
              "    <tr>\n",
              "      <th>1</th>\n",
              "      <td>Emicida: AmarElo - It's All For Yesterday</td>\n",
              "      <td>Documentary</td>\n",
              "      <td>2020-12-08</td>\n",
              "      <td>89</td>\n",
              "      <td>8.6</td>\n",
              "      <td>Portuguese</td>\n",
              "    </tr>\n",
              "    <tr>\n",
              "      <th>2</th>\n",
              "      <td>Springsteen on Broadway</td>\n",
              "      <td>One-man show</td>\n",
              "      <td>2018-12-16</td>\n",
              "      <td>153</td>\n",
              "      <td>8.5</td>\n",
              "      <td>English</td>\n",
              "    </tr>\n",
              "    <tr>\n",
              "      <th>3</th>\n",
              "      <td>Winter on Fire: Ukraine's Fight for Freedom</td>\n",
              "      <td>Documentary</td>\n",
              "      <td>2015-10-09</td>\n",
              "      <td>91</td>\n",
              "      <td>8.4</td>\n",
              "      <td>English/Ukranian/Russian</td>\n",
              "    </tr>\n",
              "    <tr>\n",
              "      <th>4</th>\n",
              "      <td>Taylor Swift: Reputation Stadium Tour</td>\n",
              "      <td>Concert Film</td>\n",
              "      <td>2018-12-31</td>\n",
              "      <td>125</td>\n",
              "      <td>8.4</td>\n",
              "      <td>English</td>\n",
              "    </tr>\n",
              "    <tr>\n",
              "      <th>5</th>\n",
              "      <td>Ben Platt: Live from Radio City Music Hall</td>\n",
              "      <td>Concert Film</td>\n",
              "      <td>2020-05-20</td>\n",
              "      <td>85</td>\n",
              "      <td>8.4</td>\n",
              "      <td>English</td>\n",
              "    </tr>\n",
              "    <tr>\n",
              "      <th>6</th>\n",
              "      <td>Dancing with the Birds</td>\n",
              "      <td>Documentary</td>\n",
              "      <td>2019-10-23</td>\n",
              "      <td>51</td>\n",
              "      <td>8.3</td>\n",
              "      <td>English</td>\n",
              "    </tr>\n",
              "    <tr>\n",
              "      <th>7</th>\n",
              "      <td>Cuba and the Cameraman</td>\n",
              "      <td>Documentary</td>\n",
              "      <td>2017-11-24</td>\n",
              "      <td>114</td>\n",
              "      <td>8.3</td>\n",
              "      <td>English</td>\n",
              "    </tr>\n",
              "    <tr>\n",
              "      <th>8</th>\n",
              "      <td>Klaus</td>\n",
              "      <td>Animation/Christmas/Comedy/Adventure</td>\n",
              "      <td>2019-11-15</td>\n",
              "      <td>97</td>\n",
              "      <td>8.2</td>\n",
              "      <td>English</td>\n",
              "    </tr>\n",
              "    <tr>\n",
              "      <th>9</th>\n",
              "      <td>13th</td>\n",
              "      <td>Documentary</td>\n",
              "      <td>2016-10-07</td>\n",
              "      <td>100</td>\n",
              "      <td>8.2</td>\n",
              "      <td>English</td>\n",
              "    </tr>\n",
              "  </tbody>\n",
              "</table>\n",
              "</div>\n",
              "      <button class=\"colab-df-convert\" onclick=\"convertToInteractive('df-ddb5309b-e51d-46fc-82fc-cf6819d7ae13')\"\n",
              "              title=\"Convert this dataframe to an interactive table.\"\n",
              "              style=\"display:none;\">\n",
              "        \n",
              "  <svg xmlns=\"http://www.w3.org/2000/svg\" height=\"24px\"viewBox=\"0 0 24 24\"\n",
              "       width=\"24px\">\n",
              "    <path d=\"M0 0h24v24H0V0z\" fill=\"none\"/>\n",
              "    <path d=\"M18.56 5.44l.94 2.06.94-2.06 2.06-.94-2.06-.94-.94-2.06-.94 2.06-2.06.94zm-11 1L8.5 8.5l.94-2.06 2.06-.94-2.06-.94L8.5 2.5l-.94 2.06-2.06.94zm10 10l.94 2.06.94-2.06 2.06-.94-2.06-.94-.94-2.06-.94 2.06-2.06.94z\"/><path d=\"M17.41 7.96l-1.37-1.37c-.4-.4-.92-.59-1.43-.59-.52 0-1.04.2-1.43.59L10.3 9.45l-7.72 7.72c-.78.78-.78 2.05 0 2.83L4 21.41c.39.39.9.59 1.41.59.51 0 1.02-.2 1.41-.59l7.78-7.78 2.81-2.81c.8-.78.8-2.07 0-2.86zM5.41 20L4 18.59l7.72-7.72 1.47 1.35L5.41 20z\"/>\n",
              "  </svg>\n",
              "      </button>\n",
              "      \n",
              "  <style>\n",
              "    .colab-df-container {\n",
              "      display:flex;\n",
              "      flex-wrap:wrap;\n",
              "      gap: 12px;\n",
              "    }\n",
              "\n",
              "    .colab-df-convert {\n",
              "      background-color: #E8F0FE;\n",
              "      border: none;\n",
              "      border-radius: 50%;\n",
              "      cursor: pointer;\n",
              "      display: none;\n",
              "      fill: #1967D2;\n",
              "      height: 32px;\n",
              "      padding: 0 0 0 0;\n",
              "      width: 32px;\n",
              "    }\n",
              "\n",
              "    .colab-df-convert:hover {\n",
              "      background-color: #E2EBFA;\n",
              "      box-shadow: 0px 1px 2px rgba(60, 64, 67, 0.3), 0px 1px 3px 1px rgba(60, 64, 67, 0.15);\n",
              "      fill: #174EA6;\n",
              "    }\n",
              "\n",
              "    [theme=dark] .colab-df-convert {\n",
              "      background-color: #3B4455;\n",
              "      fill: #D2E3FC;\n",
              "    }\n",
              "\n",
              "    [theme=dark] .colab-df-convert:hover {\n",
              "      background-color: #434B5C;\n",
              "      box-shadow: 0px 1px 3px 1px rgba(0, 0, 0, 0.15);\n",
              "      filter: drop-shadow(0px 1px 2px rgba(0, 0, 0, 0.3));\n",
              "      fill: #FFFFFF;\n",
              "    }\n",
              "  </style>\n",
              "\n",
              "      <script>\n",
              "        const buttonEl =\n",
              "          document.querySelector('#df-ddb5309b-e51d-46fc-82fc-cf6819d7ae13 button.colab-df-convert');\n",
              "        buttonEl.style.display =\n",
              "          google.colab.kernel.accessAllowed ? 'block' : 'none';\n",
              "\n",
              "        async function convertToInteractive(key) {\n",
              "          const element = document.querySelector('#df-ddb5309b-e51d-46fc-82fc-cf6819d7ae13');\n",
              "          const dataTable =\n",
              "            await google.colab.kernel.invokeFunction('convertToInteractive',\n",
              "                                                     [key], {});\n",
              "          if (!dataTable) return;\n",
              "\n",
              "          const docLinkHtml = 'Like what you see? Visit the ' +\n",
              "            '<a target=\"_blank\" href=https://colab.research.google.com/notebooks/data_table.ipynb>data table notebook</a>'\n",
              "            + ' to learn more about interactive tables.';\n",
              "          element.innerHTML = '';\n",
              "          dataTable['output_type'] = 'display_data';\n",
              "          await google.colab.output.renderOutput(dataTable, element);\n",
              "          const docLink = document.createElement('div');\n",
              "          docLink.innerHTML = docLinkHtml;\n",
              "          element.appendChild(docLink);\n",
              "        }\n",
              "      </script>\n",
              "    </div>\n",
              "  </div>\n",
              "  "
            ]
          },
          "metadata": {},
          "execution_count": 44
        }
      ]
    },
    {
      "cell_type": "code",
      "source": [
        "fig1, ax1 = plt.subplots()\n",
        "ax1.bar(top_imdb_genre['Genre'],top_imdb_genre['IMDB Score'], width = 0.5, color = 'blue')\n",
        "fig1.set_figwidth(20)\n",
        "\n",
        "plt.show()"
      ],
      "metadata": {
        "execution": {
          "iopub.status.busy": "2022-07-22T10:54:01.132140Z",
          "iopub.status.idle": "2022-07-22T10:54:01.132496Z",
          "shell.execute_reply.started": "2022-07-22T10:54:01.132306Z",
          "shell.execute_reply": "2022-07-22T10:54:01.132323Z"
        },
        "trusted": true,
        "id": "9PH-kXLT9Wm8",
        "colab": {
          "base_uri": "https://localhost:8080/",
          "height": 222
        },
        "outputId": "4c115547-3e65-4533-a1b7-8021956ce0da"
      },
      "execution_count": null,
      "outputs": [
        {
          "output_type": "display_data",
          "data": {
            "text/plain": [
              "<Figure size 1440x288 with 1 Axes>"
            ],
            "image/png": "[encoded data removed]"
          },
          "metadata": {
            "needs_background": "light"
          }
        }
      ]
    },
    {
      "cell_type": "markdown",
      "source": [
        "So, as the graph says documentary movies have the highest IMDB rankings."
      ],
      "metadata": {
        "id": "WSO14tji9Wm9"
      }
    },
    {
      "cell_type": "markdown",
      "source": [
        "## Question 10"
      ],
      "metadata": {
        "id": "Ptzir4zS9Wm-"
      }
    },
    {
      "cell_type": "markdown",
      "source": [
        "* **EN: List 10 movies with longest 'Runtime' and visualize.**\n",
        "* **TR: 'Runtime' değeri en yüksek olan ilk 10 film hangileridir? Görselleştiriniz.**"
      ],
      "metadata": {
        "id": "gWSFSlXh9Wm-"
      }
    },
    {
      "cell_type": "markdown",
      "source": [
        "In this task we should find top ten longest movies according to their 'Runtime'. For solving this task, we use *pandas* library for reading data, then with methods below, we find the result which we want"
      ],
      "metadata": {
        "id": "DXcl9Vy_9Wm_"
      }
    },
    {
      "cell_type": "code",
      "source": [
        "top_data_runtime = df.sort_values(by = ['Runtime'], ascending = False, ignore_index=True).head(10)\n",
        "top_data_runtime"
      ],
      "metadata": {
        "execution": {
          "iopub.status.busy": "2022-07-22T10:54:01.133607Z",
          "iopub.status.idle": "2022-07-22T10:54:01.134059Z",
          "shell.execute_reply.started": "2022-07-22T10:54:01.133773Z",
          "shell.execute_reply": "2022-07-22T10:54:01.133790Z"
        },
        "trusted": true,
        "id": "kw-P_Ow49Wm_",
        "colab": {
          "base_uri": "https://localhost:8080/",
          "height": 363
        },
        "outputId": "e946b198-3d42-4a96-96e5-361fb6632320"
      },
      "execution_count": null,
      "outputs": [
        {
          "output_type": "execute_result",
          "data": {
            "text/plain": [
              "                             Title                  Genre   Premiere  Runtime  \\\n",
              "0                     The Irishman            Crime drama 2019-11-27      209   \n",
              "1                      Da 5 Bloods              War drama 2020-06-12      155   \n",
              "2          Springsteen on Broadway           One-man show 2018-12-16      153   \n",
              "3                         Citation                  Drama 2020-11-06      151   \n",
              "4               The Forest of Love                  Drama 2019-10-11      151   \n",
              "5                   Raat Akeli Hai               Thriller 2020-07-31      149   \n",
              "6  The Last Days of American Crime    Heist film/Thriller 2020-06-05      149   \n",
              "7                             Ludo  Anthology/Dark comedy 2020-11-12      149   \n",
              "8                 Army of the Dead           Zombie/Heist 2021-05-21      148   \n",
              "9                            Drive                 Action 2019-11-01      147   \n",
              "\n",
              "   IMDB Score  Language  \n",
              "0         7.8   English  \n",
              "1         6.5   English  \n",
              "2         8.5   English  \n",
              "3         6.2   English  \n",
              "4         6.3  Japanese  \n",
              "5         7.3     Hindi  \n",
              "6         3.7   English  \n",
              "7         7.6     Hindi  \n",
              "8         5.9   English  \n",
              "9         3.5     Hindi  "
            ],
            "text/html": [
              "\n",
              "  <div id=\"df-6c20a5cf-cbda-4524-a224-85670ec86018\">\n",
              "    <div class=\"colab-df-container\">\n",
              "      <div>\n",
              "<style scoped>\n",
              "    .dataframe tbody tr th:only-of-type {\n",
              "        vertical-align: middle;\n",
              "    }\n",
              "\n",
              "    .dataframe tbody tr th {\n",
              "        vertical-align: top;\n",
              "    }\n",
              "\n",
              "    .dataframe thead th {\n",
              "        text-align: right;\n",
              "    }\n",
              "</style>\n",
              "<table border=\"1\" class=\"dataframe\">\n",
              "  <thead>\n",
              "    <tr style=\"text-align: right;\">\n",
              "      <th></th>\n",
              "      <th>Title</th>\n",
              "      <th>Genre</th>\n",
              "      <th>Premiere</th>\n",
              "      <th>Runtime</th>\n",
              "      <th>IMDB Score</th>\n",
              "      <th>Language</th>\n",
              "    </tr>\n",
              "  </thead>\n",
              "  <tbody>\n",
              "    <tr>\n",
              "      <th>0</th>\n",
              "      <td>The Irishman</td>\n",
              "      <td>Crime drama</td>\n",
              "      <td>2019-11-27</td>\n",
              "      <td>209</td>\n",
              "      <td>7.8</td>\n",
              "      <td>English</td>\n",
              "    </tr>\n",
              "    <tr>\n",
              "      <th>1</th>\n",
              "      <td>Da 5 Bloods</td>\n",
              "      <td>War drama</td>\n",
              "      <td>2020-06-12</td>\n",
              "      <td>155</td>\n",
              "      <td>6.5</td>\n",
              "      <td>English</td>\n",
              "    </tr>\n",
              "    <tr>\n",
              "      <th>2</th>\n",
              "      <td>Springsteen on Broadway</td>\n",
              "      <td>One-man show</td>\n",
              "      <td>2018-12-16</td>\n",
              "      <td>153</td>\n",
              "      <td>8.5</td>\n",
              "      <td>English</td>\n",
              "    </tr>\n",
              "    <tr>\n",
              "      <th>3</th>\n",
              "      <td>Citation</td>\n",
              "      <td>Drama</td>\n",
              "      <td>2020-11-06</td>\n",
              "      <td>151</td>\n",
              "      <td>6.2</td>\n",
              "      <td>English</td>\n",
              "    </tr>\n",
              "    <tr>\n",
              "      <th>4</th>\n",
              "      <td>The Forest of Love</td>\n",
              "      <td>Drama</td>\n",
              "      <td>2019-10-11</td>\n",
              "      <td>151</td>\n",
              "      <td>6.3</td>\n",
              "      <td>Japanese</td>\n",
              "    </tr>\n",
              "    <tr>\n",
              "      <th>5</th>\n",
              "      <td>Raat Akeli Hai</td>\n",
              "      <td>Thriller</td>\n",
              "      <td>2020-07-31</td>\n",
              "      <td>149</td>\n",
              "      <td>7.3</td>\n",
              "      <td>Hindi</td>\n",
              "    </tr>\n",
              "    <tr>\n",
              "      <th>6</th>\n",
              "      <td>The Last Days of American Crime</td>\n",
              "      <td>Heist film/Thriller</td>\n",
              "      <td>2020-06-05</td>\n",
              "      <td>149</td>\n",
              "      <td>3.7</td>\n",
              "      <td>English</td>\n",
              "    </tr>\n",
              "    <tr>\n",
              "      <th>7</th>\n",
              "      <td>Ludo</td>\n",
              "      <td>Anthology/Dark comedy</td>\n",
              "      <td>2020-11-12</td>\n",
              "      <td>149</td>\n",
              "      <td>7.6</td>\n",
              "      <td>Hindi</td>\n",
              "    </tr>\n",
              "    <tr>\n",
              "      <th>8</th>\n",
              "      <td>Army of the Dead</td>\n",
              "      <td>Zombie/Heist</td>\n",
              "      <td>2021-05-21</td>\n",
              "      <td>148</td>\n",
              "      <td>5.9</td>\n",
              "      <td>English</td>\n",
              "    </tr>\n",
              "    <tr>\n",
              "      <th>9</th>\n",
              "      <td>Drive</td>\n",
              "      <td>Action</td>\n",
              "      <td>2019-11-01</td>\n",
              "      <td>147</td>\n",
              "      <td>3.5</td>\n",
              "      <td>Hindi</td>\n",
              "    </tr>\n",
              "  </tbody>\n",
              "</table>\n",
              "</div>\n",
              "      <button class=\"colab-df-convert\" onclick=\"convertToInteractive('df-6c20a5cf-cbda-4524-a224-85670ec86018')\"\n",
              "              title=\"Convert this dataframe to an interactive table.\"\n",
              "              style=\"display:none;\">\n",
              "        \n",
              "  <svg xmlns=\"http://www.w3.org/2000/svg\" height=\"24px\"viewBox=\"0 0 24 24\"\n",
              "       width=\"24px\">\n",
              "    <path d=\"M0 0h24v24H0V0z\" fill=\"none\"/>\n",
              "    <path d=\"M18.56 5.44l.94 2.06.94-2.06 2.06-.94-2.06-.94-.94-2.06-.94 2.06-2.06.94zm-11 1L8.5 8.5l.94-2.06 2.06-.94-2.06-.94L8.5 2.5l-.94 2.06-2.06.94zm10 10l.94 2.06.94-2.06 2.06-.94-2.06-.94-.94-2.06-.94 2.06-2.06.94z\"/><path d=\"M17.41 7.96l-1.37-1.37c-.4-.4-.92-.59-1.43-.59-.52 0-1.04.2-1.43.59L10.3 9.45l-7.72 7.72c-.78.78-.78 2.05 0 2.83L4 21.41c.39.39.9.59 1.41.59.51 0 1.02-.2 1.41-.59l7.78-7.78 2.81-2.81c.8-.78.8-2.07 0-2.86zM5.41 20L4 18.59l7.72-7.72 1.47 1.35L5.41 20z\"/>\n",
              "  </svg>\n",
              "      </button>\n",
              "      \n",
              "  <style>\n",
              "    .colab-df-container {\n",
              "      display:flex;\n",
              "      flex-wrap:wrap;\n",
              "      gap: 12px;\n",
              "    }\n",
              "\n",
              "    .colab-df-convert {\n",
              "      background-color: #E8F0FE;\n",
              "      border: none;\n",
              "      border-radius: 50%;\n",
              "      cursor: pointer;\n",
              "      display: none;\n",
              "      fill: #1967D2;\n",
              "      height: 32px;\n",
              "      padding: 0 0 0 0;\n",
              "      width: 32px;\n",
              "    }\n",
              "\n",
              "    .colab-df-convert:hover {\n",
              "      background-color: #E2EBFA;\n",
              "      box-shadow: 0px 1px 2px rgba(60, 64, 67, 0.3), 0px 1px 3px 1px rgba(60, 64, 67, 0.15);\n",
              "      fill: #174EA6;\n",
              "    }\n",
              "\n",
              "    [theme=dark] .colab-df-convert {\n",
              "      background-color: #3B4455;\n",
              "      fill: #D2E3FC;\n",
              "    }\n",
              "\n",
              "    [theme=dark] .colab-df-convert:hover {\n",
              "      background-color: #434B5C;\n",
              "      box-shadow: 0px 1px 3px 1px rgba(0, 0, 0, 0.15);\n",
              "      filter: drop-shadow(0px 1px 2px rgba(0, 0, 0, 0.3));\n",
              "      fill: #FFFFFF;\n",
              "    }\n",
              "  </style>\n",
              "\n",
              "      <script>\n",
              "        const buttonEl =\n",
              "          document.querySelector('#df-6c20a5cf-cbda-4524-a224-85670ec86018 button.colab-df-convert');\n",
              "        buttonEl.style.display =\n",
              "          google.colab.kernel.accessAllowed ? 'block' : 'none';\n",
              "\n",
              "        async function convertToInteractive(key) {\n",
              "          const element = document.querySelector('#df-6c20a5cf-cbda-4524-a224-85670ec86018');\n",
              "          const dataTable =\n",
              "            await google.colab.kernel.invokeFunction('convertToInteractive',\n",
              "                                                     [key], {});\n",
              "          if (!dataTable) return;\n",
              "\n",
              "          const docLinkHtml = 'Like what you see? Visit the ' +\n",
              "            '<a target=\"_blank\" href=https://colab.research.google.com/notebooks/data_table.ipynb>data table notebook</a>'\n",
              "            + ' to learn more about interactive tables.';\n",
              "          element.innerHTML = '';\n",
              "          dataTable['output_type'] = 'display_data';\n",
              "          await google.colab.output.renderOutput(dataTable, element);\n",
              "          const docLink = document.createElement('div');\n",
              "          docLink.innerHTML = docLinkHtml;\n",
              "          element.appendChild(docLink);\n",
              "        }\n",
              "      </script>\n",
              "    </div>\n",
              "  </div>\n",
              "  "
            ]
          },
          "metadata": {},
          "execution_count": 46
        }
      ]
    },
    {
      "cell_type": "code",
      "source": [
        "fig1, ax1 = plt.subplots()\n",
        "ax1.bar(top_data_runtime['Title'],top_data_runtime['Runtime'], width = 0.5, color = 'blue')\n",
        "fig1.set_figwidth(20)\n",
        "\n",
        "plt.show()"
      ],
      "metadata": {
        "execution": {
          "iopub.status.busy": "2022-07-22T10:54:01.135719Z",
          "iopub.status.idle": "2022-07-22T10:54:01.136279Z",
          "shell.execute_reply.started": "2022-07-22T10:54:01.136035Z",
          "shell.execute_reply": "2022-07-22T10:54:01.136062Z"
        },
        "trusted": true,
        "id": "N85_3Xnz9WnA",
        "colab": {
          "base_uri": "https://localhost:8080/",
          "height": 219
        },
        "outputId": "5a0500f4-0a5b-4eb6-9e9e-c39de28e5daa"
      },
      "execution_count": null,
      "outputs": [
        {
          "output_type": "display_data",
          "data": {
            "text/plain": [
              "<Figure size 1440x288 with 1 Axes>"
            ],
            "image/png": "[encoded data removed]"
          },
          "metadata": {
            "needs_background": "light"
          }
        }
      ]
    },
    {
      "cell_type": "markdown",
      "source": [
        "# Question 11"
      ],
      "metadata": {
        "id": "R_RVNkcb9WnD"
      }
    },
    {
      "cell_type": "markdown",
      "source": [
        "* **EN: In which year the number of movies filmed is the highest? Visualize the results.**\n",
        "* **TR: Hangi yılda en fazla film yayımlanmıştır? Görselleştiriniz.**"
      ],
      "metadata": {
        "id": "Eivm39aV9WnE"
      }
    },
    {
      "cell_type": "markdown",
      "source": [
        "According to our task, we should group by our tasks according to year then visualize the result. But we had a problem that Year column does not only contains year itself. For example data format is something like this *April 2, 2020*. Therefore we firstly took *Premiere* column, then we from each row, we only took last for characters (year length is 4), then we converted it to integer for grouping by easily. After all, we assigned new column to older one. To our updated dataframe, we applied *groupby()* method. Then we are defining years and number of movies in each year and take 3 top years."
      ],
      "metadata": {
        "id": "aSu6ygSj9WnF"
      }
    },
    {
      "cell_type": "code",
      "source": [
        "top_data_max_count = df.sort_values(by = ['Runtime'], ascending = False, ignore_index=\"True\").head(10)\n",
        "top_data_max_count\n",
        "\n",
        "sns.histplot(data=top_data_max_count, x=\"Runtime\", kde= True)\n",
        "\n",
        "top_data_max_count.plot.barh(stacked=True);\n",
        "\n",
        "fig1, ax1 = plt.subplots()\n",
        "ax1.pie(top_data_max_count['Runtime'],  labels=top_data_max_count['Title'], autopct='%1.1f%%',shadow=True, startangle=90)\n",
        "\n",
        "plt.show()"
      ],
      "metadata": {
        "execution": {
          "iopub.status.busy": "2022-07-22T10:54:01.144405Z",
          "iopub.status.idle": "2022-07-22T10:54:01.144849Z",
          "shell.execute_reply.started": "2022-07-22T10:54:01.144644Z",
          "shell.execute_reply": "2022-07-22T10:54:01.144665Z"
        },
        "trusted": true,
        "id": "5OTKJPQY9WnG",
        "colab": {
          "base_uri": "https://localhost:8080/",
          "height": 758
        },
        "outputId": "9a419ad7-c91c-4fdc-b737-65ae8f17c46f"
      },
      "execution_count": null,
      "outputs": [
        {
          "output_type": "display_data",
          "data": {
            "text/plain": [
              "<Figure size 432x288 with 1 Axes>"
            ],
            "image/png": "[encoded data removed]"
          },
          "metadata": {
            "needs_background": "light"
          }
        },
        {
          "output_type": "display_data",
          "data": {
            "text/plain": [
              "<Figure size 432x288 with 1 Axes>"
            ],
            "image/png": "[encoded data removed]"
          },
          "metadata": {
            "needs_background": "light"
          }
        },
        {
          "output_type": "display_data",
          "data": {
            "text/plain": [
              "<Figure size 432x288 with 1 Axes>"
            ],
            "image/png": "[encoded data removed]"
          },
          "metadata": {}
        }
      ]
    },
    {
      "cell_type": "markdown",
      "source": [
        "# Question 12"
      ],
      "metadata": {
        "id": "eoHrPGe_9WnH"
      }
    },
    {
      "cell_type": "markdown",
      "source": [
        "* **EN: Which movies have the lowest IMDB scores and in what languages they have been filmed? Visualize.**\n",
        "* **TR: Hangi dilde yayımlanan filmler en düşük ortalama IMBD puanına sahiptir? Görselleştiriniz.**"
      ],
      "metadata": {
        "id": "k141pSuT9WnH"
      }
    },
    {
      "cell_type": "markdown",
      "source": [
        "## Sort data set according to IMDB score"
      ],
      "metadata": {
        "id": "BU722l-j9WnI"
      }
    },
    {
      "cell_type": "code",
      "source": [
        "imdb_score = df.sort_values('IMDB Score')\n",
        "imdb_score.head(100)"
      ],
      "metadata": {
        "execution": {
          "iopub.status.busy": "2022-07-22T10:54:01.146356Z",
          "iopub.status.idle": "2022-07-22T10:54:01.147040Z",
          "shell.execute_reply.started": "2022-07-22T10:54:01.146789Z",
          "shell.execute_reply": "2022-07-22T10:54:01.146813Z"
        },
        "trusted": true,
        "id": "rBmJD8ig9WnJ",
        "colab": {
          "base_uri": "https://localhost:8080/",
          "height": 424
        },
        "outputId": "02037993-af4c-4a40-f1b2-0d9ca78e443a"
      },
      "execution_count": null,
      "outputs": [
        {
          "output_type": "execute_result",
          "data": {
            "text/plain": [
              "                                   Title                   Genre  \\\n",
              "0                        Enter the Anime             Documentary   \n",
              "1                            Dark Forces                Thriller   \n",
              "2                                The App   Science fiction/Drama   \n",
              "3                         The Open House         Horror thriller   \n",
              "4                            Kaali Khuhi                 Mystery   \n",
              "..                                   ...                     ...   \n",
              "105  The Princess Switch: Switched Again         Romantic comedy   \n",
              "104                     Outside the Wire  Action/Science fiction   \n",
              "106               Under the Riccione Sun  Romantic teenage drama   \n",
              "102                        Madame Claude                   Drama   \n",
              "100                               Guilty                Thriller   \n",
              "\n",
              "              Premiere  Runtime  IMDB Score          Language  \n",
              "0       August 5, 2019       58         2.5  English/Japanese  \n",
              "1      August 21, 2020       81         2.6           Spanish  \n",
              "2    December 26, 2019       79         2.6           Italian  \n",
              "3     January 19, 2018       94         3.2           English  \n",
              "4     October 30, 2020       90         3.4             Hindi  \n",
              "..                 ...      ...         ...               ...  \n",
              "105  November 19, 2020       97         5.4           English  \n",
              "104   January 15, 2021      114         5.4           English  \n",
              "106       July 1, 2020      101         5.4           Italian  \n",
              "102      April 2, 2021      112         5.4            French  \n",
              "100      March 6, 2020      119         5.4             Hindi  \n",
              "\n",
              "[100 rows x 6 columns]"
            ],
            "text/html": [
              "\n",
              "  <div id=\"df-0f882ed0-a461-442a-99ad-4416058f9601\">\n",
              "    <div class=\"colab-df-container\">\n",
              "      <div>\n",
              "<style scoped>\n",
              "    .dataframe tbody tr th:only-of-type {\n",
              "        vertical-align: middle;\n",
              "    }\n",
              "\n",
              "    .dataframe tbody tr th {\n",
              "        vertical-align: top;\n",
              "    }\n",
              "\n",
              "    .dataframe thead th {\n",
              "        text-align: right;\n",
              "    }\n",
              "</style>\n",
              "<table border=\"1\" class=\"dataframe\">\n",
              "  <thead>\n",
              "    <tr style=\"text-align: right;\">\n",
              "      <th></th>\n",
              "      <th>Title</th>\n",
              "      <th>Genre</th>\n",
              "      <th>Premiere</th>\n",
              "      <th>Runtime</th>\n",
              "      <th>IMDB Score</th>\n",
              "      <th>Language</th>\n",
              "    </tr>\n",
              "  </thead>\n",
              "  <tbody>\n",
              "    <tr>\n",
              "      <th>0</th>\n",
              "      <td>Enter the Anime</td>\n",
              "      <td>Documentary</td>\n",
              "      <td>August 5, 2019</td>\n",
              "      <td>58</td>\n",
              "      <td>2.5</td>\n",
              "      <td>English/Japanese</td>\n",
              "    </tr>\n",
              "    <tr>\n",
              "      <th>1</th>\n",
              "      <td>Dark Forces</td>\n",
              "      <td>Thriller</td>\n",
              "      <td>August 21, 2020</td>\n",
              "      <td>81</td>\n",
              "      <td>2.6</td>\n",
              "      <td>Spanish</td>\n",
              "    </tr>\n",
              "    <tr>\n",
              "      <th>2</th>\n",
              "      <td>The App</td>\n",
              "      <td>Science fiction/Drama</td>\n",
              "      <td>December 26, 2019</td>\n",
              "      <td>79</td>\n",
              "      <td>2.6</td>\n",
              "      <td>Italian</td>\n",
              "    </tr>\n",
              "    <tr>\n",
              "      <th>3</th>\n",
              "      <td>The Open House</td>\n",
              "      <td>Horror thriller</td>\n",
              "      <td>January 19, 2018</td>\n",
              "      <td>94</td>\n",
              "      <td>3.2</td>\n",
              "      <td>English</td>\n",
              "    </tr>\n",
              "    <tr>\n",
              "      <th>4</th>\n",
              "      <td>Kaali Khuhi</td>\n",
              "      <td>Mystery</td>\n",
              "      <td>October 30, 2020</td>\n",
              "      <td>90</td>\n",
              "      <td>3.4</td>\n",
              "      <td>Hindi</td>\n",
              "    </tr>\n",
              "    <tr>\n",
              "      <th>...</th>\n",
              "      <td>...</td>\n",
              "      <td>...</td>\n",
              "      <td>...</td>\n",
              "      <td>...</td>\n",
              "      <td>...</td>\n",
              "      <td>...</td>\n",
              "    </tr>\n",
              "    <tr>\n",
              "      <th>105</th>\n",
              "      <td>The Princess Switch: Switched Again</td>\n",
              "      <td>Romantic comedy</td>\n",
              "      <td>November 19, 2020</td>\n",
              "      <td>97</td>\n",
              "      <td>5.4</td>\n",
              "      <td>English</td>\n",
              "    </tr>\n",
              "    <tr>\n",
              "      <th>104</th>\n",
              "      <td>Outside the Wire</td>\n",
              "      <td>Action/Science fiction</td>\n",
              "      <td>January 15, 2021</td>\n",
              "      <td>114</td>\n",
              "      <td>5.4</td>\n",
              "      <td>English</td>\n",
              "    </tr>\n",
              "    <tr>\n",
              "      <th>106</th>\n",
              "      <td>Under the Riccione Sun</td>\n",
              "      <td>Romantic teenage drama</td>\n",
              "      <td>July 1, 2020</td>\n",
              "      <td>101</td>\n",
              "      <td>5.4</td>\n",
              "      <td>Italian</td>\n",
              "    </tr>\n",
              "    <tr>\n",
              "      <th>102</th>\n",
              "      <td>Madame Claude</td>\n",
              "      <td>Drama</td>\n",
              "      <td>April 2, 2021</td>\n",
              "      <td>112</td>\n",
              "      <td>5.4</td>\n",
              "      <td>French</td>\n",
              "    </tr>\n",
              "    <tr>\n",
              "      <th>100</th>\n",
              "      <td>Guilty</td>\n",
              "      <td>Thriller</td>\n",
              "      <td>March 6, 2020</td>\n",
              "      <td>119</td>\n",
              "      <td>5.4</td>\n",
              "      <td>Hindi</td>\n",
              "    </tr>\n",
              "  </tbody>\n",
              "</table>\n",
              "<p>100 rows × 6 columns</p>\n",
              "</div>\n",
              "      <button class=\"colab-df-convert\" onclick=\"convertToInteractive('df-0f882ed0-a461-442a-99ad-4416058f9601')\"\n",
              "              title=\"Convert this dataframe to an interactive table.\"\n",
              "              style=\"display:none;\">\n",
              "        \n",
              "  <svg xmlns=\"http://www.w3.org/2000/svg\" height=\"24px\"viewBox=\"0 0 24 24\"\n",
              "       width=\"24px\">\n",
              "    <path d=\"M0 0h24v24H0V0z\" fill=\"none\"/>\n",
              "    <path d=\"M18.56 5.44l.94 2.06.94-2.06 2.06-.94-2.06-.94-.94-2.06-.94 2.06-2.06.94zm-11 1L8.5 8.5l.94-2.06 2.06-.94-2.06-.94L8.5 2.5l-.94 2.06-2.06.94zm10 10l.94 2.06.94-2.06 2.06-.94-2.06-.94-.94-2.06-.94 2.06-2.06.94z\"/><path d=\"M17.41 7.96l-1.37-1.37c-.4-.4-.92-.59-1.43-.59-.52 0-1.04.2-1.43.59L10.3 9.45l-7.72 7.72c-.78.78-.78 2.05 0 2.83L4 21.41c.39.39.9.59 1.41.59.51 0 1.02-.2 1.41-.59l7.78-7.78 2.81-2.81c.8-.78.8-2.07 0-2.86zM5.41 20L4 18.59l7.72-7.72 1.47 1.35L5.41 20z\"/>\n",
              "  </svg>\n",
              "      </button>\n",
              "      \n",
              "  <style>\n",
              "    .colab-df-container {\n",
              "      display:flex;\n",
              "      flex-wrap:wrap;\n",
              "      gap: 12px;\n",
              "    }\n",
              "\n",
              "    .colab-df-convert {\n",
              "      background-color: #E8F0FE;\n",
              "      border: none;\n",
              "      border-radius: 50%;\n",
              "      cursor: pointer;\n",
              "      display: none;\n",
              "      fill: #1967D2;\n",
              "      height: 32px;\n",
              "      padding: 0 0 0 0;\n",
              "      width: 32px;\n",
              "    }\n",
              "\n",
              "    .colab-df-convert:hover {\n",
              "      background-color: #E2EBFA;\n",
              "      box-shadow: 0px 1px 2px rgba(60, 64, 67, 0.3), 0px 1px 3px 1px rgba(60, 64, 67, 0.15);\n",
              "      fill: #174EA6;\n",
              "    }\n",
              "\n",
              "    [theme=dark] .colab-df-convert {\n",
              "      background-color: #3B4455;\n",
              "      fill: #D2E3FC;\n",
              "    }\n",
              "\n",
              "    [theme=dark] .colab-df-convert:hover {\n",
              "      background-color: #434B5C;\n",
              "      box-shadow: 0px 1px 3px 1px rgba(0, 0, 0, 0.15);\n",
              "      filter: drop-shadow(0px 1px 2px rgba(0, 0, 0, 0.3));\n",
              "      fill: #FFFFFF;\n",
              "    }\n",
              "  </style>\n",
              "\n",
              "      <script>\n",
              "        const buttonEl =\n",
              "          document.querySelector('#df-0f882ed0-a461-442a-99ad-4416058f9601 button.colab-df-convert');\n",
              "        buttonEl.style.display =\n",
              "          google.colab.kernel.accessAllowed ? 'block' : 'none';\n",
              "\n",
              "        async function convertToInteractive(key) {\n",
              "          const element = document.querySelector('#df-0f882ed0-a461-442a-99ad-4416058f9601');\n",
              "          const dataTable =\n",
              "            await google.colab.kernel.invokeFunction('convertToInteractive',\n",
              "                                                     [key], {});\n",
              "          if (!dataTable) return;\n",
              "\n",
              "          const docLinkHtml = 'Like what you see? Visit the ' +\n",
              "            '<a target=\"_blank\" href=https://colab.research.google.com/notebooks/data_table.ipynb>data table notebook</a>'\n",
              "            + ' to learn more about interactive tables.';\n",
              "          element.innerHTML = '';\n",
              "          dataTable['output_type'] = 'display_data';\n",
              "          await google.colab.output.renderOutput(dataTable, element);\n",
              "          const docLink = document.createElement('div');\n",
              "          docLink.innerHTML = docLinkHtml;\n",
              "          element.appendChild(docLink);\n",
              "        }\n",
              "      </script>\n",
              "    </div>\n",
              "  </div>\n",
              "  "
            ]
          },
          "metadata": {},
          "execution_count": 51
        }
      ]
    },
    {
      "cell_type": "markdown",
      "source": [
        "## Create new dataframe populated with the movies IMDB scores less than 6"
      ],
      "metadata": {
        "id": "BY6QLLpy9WnJ"
      }
    },
    {
      "cell_type": "code",
      "source": [
        "lessthan6 = imdb_score[imdb_score['IMDB Score'] < 6]\n",
        "lessthan6"
      ],
      "metadata": {
        "execution": {
          "iopub.status.busy": "2022-07-22T10:54:01.148744Z",
          "iopub.status.idle": "2022-07-22T10:54:01.149168Z",
          "shell.execute_reply.started": "2022-07-22T10:54:01.148971Z",
          "shell.execute_reply": "2022-07-22T10:54:01.148991Z"
        },
        "trusted": true,
        "id": "RSv5yJAE9WnL",
        "colab": {
          "base_uri": "https://localhost:8080/",
          "height": 424
        },
        "outputId": "9d502db7-a45a-4982-c054-51e0ed4cb0e6"
      },
      "execution_count": null,
      "outputs": [
        {
          "output_type": "execute_result",
          "data": {
            "text/plain": [
              "                 Title                  Genre           Premiere  Runtime  \\\n",
              "0      Enter the Anime            Documentary     August 5, 2019       58   \n",
              "1          Dark Forces               Thriller    August 21, 2020       81   \n",
              "2              The App  Science fiction/Drama  December 26, 2019       79   \n",
              "3       The Open House        Horror thriller   January 19, 2018       94   \n",
              "4          Kaali Khuhi                Mystery   October 30, 2020       90   \n",
              "..                 ...                    ...                ...      ...   \n",
              "194   Army of the Dead           Zombie/Heist       May 21, 2021      148   \n",
              "193            Amateur           Sports-drama      April 6, 2018       96   \n",
              "192  A Fall from Grace               Thriller   January 17, 2020      120   \n",
              "191         6 Balloons                  Drama      April 6, 2018       75   \n",
              "198         Horse Girl                  Drama   February 7, 2020      104   \n",
              "\n",
              "     IMDB Score          Language  \n",
              "0           2.5  English/Japanese  \n",
              "1           2.6           Spanish  \n",
              "2           2.6           Italian  \n",
              "3           3.2           English  \n",
              "4           3.4             Hindi  \n",
              "..          ...               ...  \n",
              "194         5.9           English  \n",
              "193         5.9           English  \n",
              "192         5.9           English  \n",
              "191         5.9           English  \n",
              "198         5.9           English  \n",
              "\n",
              "[207 rows x 6 columns]"
            ],
            "text/html": [
              "\n",
              "  <div id=\"df-7ac1d879-fcd3-49ab-8dba-816dfae4bea5\">\n",
              "    <div class=\"colab-df-container\">\n",
              "      <div>\n",
              "<style scoped>\n",
              "    .dataframe tbody tr th:only-of-type {\n",
              "        vertical-align: middle;\n",
              "    }\n",
              "\n",
              "    .dataframe tbody tr th {\n",
              "        vertical-align: top;\n",
              "    }\n",
              "\n",
              "    .dataframe thead th {\n",
              "        text-align: right;\n",
              "    }\n",
              "</style>\n",
              "<table border=\"1\" class=\"dataframe\">\n",
              "  <thead>\n",
              "    <tr style=\"text-align: right;\">\n",
              "      <th></th>\n",
              "      <th>Title</th>\n",
              "      <th>Genre</th>\n",
              "      <th>Premiere</th>\n",
              "      <th>Runtime</th>\n",
              "      <th>IMDB Score</th>\n",
              "      <th>Language</th>\n",
              "    </tr>\n",
              "  </thead>\n",
              "  <tbody>\n",
              "    <tr>\n",
              "      <th>0</th>\n",
              "      <td>Enter the Anime</td>\n",
              "      <td>Documentary</td>\n",
              "      <td>August 5, 2019</td>\n",
              "      <td>58</td>\n",
              "      <td>2.5</td>\n",
              "      <td>English/Japanese</td>\n",
              "    </tr>\n",
              "    <tr>\n",
              "      <th>1</th>\n",
              "      <td>Dark Forces</td>\n",
              "      <td>Thriller</td>\n",
              "      <td>August 21, 2020</td>\n",
              "      <td>81</td>\n",
              "      <td>2.6</td>\n",
              "      <td>Spanish</td>\n",
              "    </tr>\n",
              "    <tr>\n",
              "      <th>2</th>\n",
              "      <td>The App</td>\n",
              "      <td>Science fiction/Drama</td>\n",
              "      <td>December 26, 2019</td>\n",
              "      <td>79</td>\n",
              "      <td>2.6</td>\n",
              "      <td>Italian</td>\n",
              "    </tr>\n",
              "    <tr>\n",
              "      <th>3</th>\n",
              "      <td>The Open House</td>\n",
              "      <td>Horror thriller</td>\n",
              "      <td>January 19, 2018</td>\n",
              "      <td>94</td>\n",
              "      <td>3.2</td>\n",
              "      <td>English</td>\n",
              "    </tr>\n",
              "    <tr>\n",
              "      <th>4</th>\n",
              "      <td>Kaali Khuhi</td>\n",
              "      <td>Mystery</td>\n",
              "      <td>October 30, 2020</td>\n",
              "      <td>90</td>\n",
              "      <td>3.4</td>\n",
              "      <td>Hindi</td>\n",
              "    </tr>\n",
              "    <tr>\n",
              "      <th>...</th>\n",
              "      <td>...</td>\n",
              "      <td>...</td>\n",
              "      <td>...</td>\n",
              "      <td>...</td>\n",
              "      <td>...</td>\n",
              "      <td>...</td>\n",
              "    </tr>\n",
              "    <tr>\n",
              "      <th>194</th>\n",
              "      <td>Army of the Dead</td>\n",
              "      <td>Zombie/Heist</td>\n",
              "      <td>May 21, 2021</td>\n",
              "      <td>148</td>\n",
              "      <td>5.9</td>\n",
              "      <td>English</td>\n",
              "    </tr>\n",
              "    <tr>\n",
              "      <th>193</th>\n",
              "      <td>Amateur</td>\n",
              "      <td>Sports-drama</td>\n",
              "      <td>April 6, 2018</td>\n",
              "      <td>96</td>\n",
              "      <td>5.9</td>\n",
              "      <td>English</td>\n",
              "    </tr>\n",
              "    <tr>\n",
              "      <th>192</th>\n",
              "      <td>A Fall from Grace</td>\n",
              "      <td>Thriller</td>\n",
              "      <td>January 17, 2020</td>\n",
              "      <td>120</td>\n",
              "      <td>5.9</td>\n",
              "      <td>English</td>\n",
              "    </tr>\n",
              "    <tr>\n",
              "      <th>191</th>\n",
              "      <td>6 Balloons</td>\n",
              "      <td>Drama</td>\n",
              "      <td>April 6, 2018</td>\n",
              "      <td>75</td>\n",
              "      <td>5.9</td>\n",
              "      <td>English</td>\n",
              "    </tr>\n",
              "    <tr>\n",
              "      <th>198</th>\n",
              "      <td>Horse Girl</td>\n",
              "      <td>Drama</td>\n",
              "      <td>February 7, 2020</td>\n",
              "      <td>104</td>\n",
              "      <td>5.9</td>\n",
              "      <td>English</td>\n",
              "    </tr>\n",
              "  </tbody>\n",
              "</table>\n",
              "<p>207 rows × 6 columns</p>\n",
              "</div>\n",
              "      <button class=\"colab-df-convert\" onclick=\"convertToInteractive('df-7ac1d879-fcd3-49ab-8dba-816dfae4bea5')\"\n",
              "              title=\"Convert this dataframe to an interactive table.\"\n",
              "              style=\"display:none;\">\n",
              "        \n",
              "  <svg xmlns=\"http://www.w3.org/2000/svg\" height=\"24px\"viewBox=\"0 0 24 24\"\n",
              "       width=\"24px\">\n",
              "    <path d=\"M0 0h24v24H0V0z\" fill=\"none\"/>\n",
              "    <path d=\"M18.56 5.44l.94 2.06.94-2.06 2.06-.94-2.06-.94-.94-2.06-.94 2.06-2.06.94zm-11 1L8.5 8.5l.94-2.06 2.06-.94-2.06-.94L8.5 2.5l-.94 2.06-2.06.94zm10 10l.94 2.06.94-2.06 2.06-.94-2.06-.94-.94-2.06-.94 2.06-2.06.94z\"/><path d=\"M17.41 7.96l-1.37-1.37c-.4-.4-.92-.59-1.43-.59-.52 0-1.04.2-1.43.59L10.3 9.45l-7.72 7.72c-.78.78-.78 2.05 0 2.83L4 21.41c.39.39.9.59 1.41.59.51 0 1.02-.2 1.41-.59l7.78-7.78 2.81-2.81c.8-.78.8-2.07 0-2.86zM5.41 20L4 18.59l7.72-7.72 1.47 1.35L5.41 20z\"/>\n",
              "  </svg>\n",
              "      </button>\n",
              "      \n",
              "  <style>\n",
              "    .colab-df-container {\n",
              "      display:flex;\n",
              "      flex-wrap:wrap;\n",
              "      gap: 12px;\n",
              "    }\n",
              "\n",
              "    .colab-df-convert {\n",
              "      background-color: #E8F0FE;\n",
              "      border: none;\n",
              "      border-radius: 50%;\n",
              "      cursor: pointer;\n",
              "      display: none;\n",
              "      fill: #1967D2;\n",
              "      height: 32px;\n",
              "      padding: 0 0 0 0;\n",
              "      width: 32px;\n",
              "    }\n",
              "\n",
              "    .colab-df-convert:hover {\n",
              "      background-color: #E2EBFA;\n",
              "      box-shadow: 0px 1px 2px rgba(60, 64, 67, 0.3), 0px 1px 3px 1px rgba(60, 64, 67, 0.15);\n",
              "      fill: #174EA6;\n",
              "    }\n",
              "\n",
              "    [theme=dark] .colab-df-convert {\n",
              "      background-color: #3B4455;\n",
              "      fill: #D2E3FC;\n",
              "    }\n",
              "\n",
              "    [theme=dark] .colab-df-convert:hover {\n",
              "      background-color: #434B5C;\n",
              "      box-shadow: 0px 1px 3px 1px rgba(0, 0, 0, 0.15);\n",
              "      filter: drop-shadow(0px 1px 2px rgba(0, 0, 0, 0.3));\n",
              "      fill: #FFFFFF;\n",
              "    }\n",
              "  </style>\n",
              "\n",
              "      <script>\n",
              "        const buttonEl =\n",
              "          document.querySelector('#df-7ac1d879-fcd3-49ab-8dba-816dfae4bea5 button.colab-df-convert');\n",
              "        buttonEl.style.display =\n",
              "          google.colab.kernel.accessAllowed ? 'block' : 'none';\n",
              "\n",
              "        async function convertToInteractive(key) {\n",
              "          const element = document.querySelector('#df-7ac1d879-fcd3-49ab-8dba-816dfae4bea5');\n",
              "          const dataTable =\n",
              "            await google.colab.kernel.invokeFunction('convertToInteractive',\n",
              "                                                     [key], {});\n",
              "          if (!dataTable) return;\n",
              "\n",
              "          const docLinkHtml = 'Like what you see? Visit the ' +\n",
              "            '<a target=\"_blank\" href=https://colab.research.google.com/notebooks/data_table.ipynb>data table notebook</a>'\n",
              "            + ' to learn more about interactive tables.';\n",
              "          element.innerHTML = '';\n",
              "          dataTable['output_type'] = 'display_data';\n",
              "          await google.colab.output.renderOutput(dataTable, element);\n",
              "          const docLink = document.createElement('div');\n",
              "          docLink.innerHTML = docLinkHtml;\n",
              "          element.appendChild(docLink);\n",
              "        }\n",
              "      </script>\n",
              "    </div>\n",
              "  </div>\n",
              "  "
            ]
          },
          "metadata": {},
          "execution_count": 52
        }
      ]
    },
    {
      "cell_type": "code",
      "source": [
        "unique_language = lessthan6.Language.unique()\n",
        "unique_language"
      ],
      "metadata": {
        "execution": {
          "iopub.status.busy": "2022-07-22T10:54:01.150399Z",
          "iopub.status.idle": "2022-07-22T10:54:01.150779Z",
          "shell.execute_reply.started": "2022-07-22T10:54:01.150595Z",
          "shell.execute_reply": "2022-07-22T10:54:01.150613Z"
        },
        "trusted": true,
        "id": "VJml8IW29WnM",
        "colab": {
          "base_uri": "https://localhost:8080/"
        },
        "outputId": "769b674c-e661-40bb-d7f6-da15b4b02f3f"
      },
      "execution_count": null,
      "outputs": [
        {
          "output_type": "execute_result",
          "data": {
            "text/plain": [
              "array(['English/Japanese', 'Spanish', 'Italian', 'English', 'Hindi',\n",
              "       'Turkish', 'Korean', 'Indonesian', 'Malay', 'Dutch', 'French',\n",
              "       'Portuguese', 'English/Spanish', 'Filipino', 'German', 'Polish',\n",
              "       'Norwegian', 'Thai', 'Marathi', 'Japanese', 'Swedish',\n",
              "       'Spanish/Basque'], dtype=object)"
            ]
          },
          "metadata": {},
          "execution_count": 53
        }
      ]
    },
    {
      "cell_type": "code",
      "source": [
        "# sort according to the counts in descending order\n",
        "language_counts = lessthan6.groupby(\"Language\")[\"Language\"].count().sort_values(ascending=False)\n",
        "language_counts"
      ],
      "metadata": {
        "execution": {
          "iopub.status.busy": "2022-07-22T10:54:01.152718Z",
          "iopub.status.idle": "2022-07-22T10:54:01.153135Z",
          "shell.execute_reply.started": "2022-07-22T10:54:01.152941Z",
          "shell.execute_reply": "2022-07-22T10:54:01.152961Z"
        },
        "trusted": true,
        "id": "i9SQa2C_9WnN",
        "colab": {
          "base_uri": "https://localhost:8080/"
        },
        "outputId": "98312989-ef33-4200-be10-bac66789c46c"
      },
      "execution_count": null,
      "outputs": [
        {
          "output_type": "execute_result",
          "data": {
            "text/plain": [
              "Language\n",
              "English             130\n",
              "Hindi                15\n",
              "French               10\n",
              "Spanish               9\n",
              "Italian               9\n",
              "Portuguese            5\n",
              "German                4\n",
              "Indonesian            3\n",
              "Polish                3\n",
              "Dutch                 2\n",
              "Marathi               2\n",
              "Thai                  2\n",
              "Korean                2\n",
              "Filipino              2\n",
              "Turkish               2\n",
              "Malay                 1\n",
              "Norwegian             1\n",
              "Japanese              1\n",
              "English/Spanish       1\n",
              "Spanish/Basque        1\n",
              "Swedish               1\n",
              "English/Japanese      1\n",
              "Name: Language, dtype: int64"
            ]
          },
          "metadata": {},
          "execution_count": 54
        }
      ]
    },
    {
      "cell_type": "code",
      "source": [
        "# top 5 languages with films with lowest IMDB ranking \n",
        "five_movies_lowthan6 = language_counts.head(5)"
      ],
      "metadata": {
        "execution": {
          "iopub.status.busy": "2022-07-22T10:54:01.154810Z",
          "iopub.status.idle": "2022-07-22T10:54:01.155194Z",
          "shell.execute_reply.started": "2022-07-22T10:54:01.155007Z",
          "shell.execute_reply": "2022-07-22T10:54:01.155025Z"
        },
        "trusted": true,
        "id": "RZj--qNz9WnO"
      },
      "execution_count": null,
      "outputs": []
    },
    {
      "cell_type": "code",
      "source": [
        "# Visualize the results\n",
        "barplot = five_movies_lowthan6.plot.bar('lessthan6', 'unique_language', color='blue')"
      ],
      "metadata": {
        "execution": {
          "iopub.status.busy": "2022-07-22T10:54:01.156403Z",
          "iopub.status.idle": "2022-07-22T10:54:01.156781Z",
          "shell.execute_reply.started": "2022-07-22T10:54:01.156597Z",
          "shell.execute_reply": "2022-07-22T10:54:01.156615Z"
        },
        "trusted": true,
        "id": "1m1DCOpZ9WnP"
      },
      "execution_count": null,
      "outputs": []
    },
    {
      "cell_type": "markdown",
      "source": [
        "# Question 13"
      ],
      "metadata": {
        "id": "12PpDX4r9WnQ"
      }
    },
    {
      "cell_type": "markdown",
      "source": [
        "* **EN:Which year has the highest total runtime?**\n",
        "* **TR: Hangi yılın toplam \"runtime\" süresi en fazladır?**"
      ],
      "metadata": {
        "id": "dtwQgqBK9WnQ"
      }
    },
    {
      "cell_type": "code",
      "source": [
        "df['Year'] = pd.DatetimeIndex(df['Premiere']).year\n",
        "df"
      ],
      "metadata": {
        "execution": {
          "iopub.status.busy": "2022-07-22T10:54:01.158124Z",
          "iopub.status.idle": "2022-07-22T10:54:01.158492Z",
          "shell.execute_reply.started": "2022-07-22T10:54:01.158300Z",
          "shell.execute_reply": "2022-07-22T10:54:01.158318Z"
        },
        "trusted": true,
        "id": "ySd8NG2A9WnR"
      },
      "execution_count": null,
      "outputs": []
    },
    {
      "cell_type": "code",
      "source": [
        "runtime_byYear = df.groupby('Year').aggregate({'Runtime':'sum'}).sort_values(\"Runtime\", ascending=False)\n",
        "runtime_byYear"
      ],
      "metadata": {
        "execution": {
          "iopub.status.busy": "2022-07-22T10:54:01.160376Z",
          "iopub.status.idle": "2022-07-22T10:54:01.160746Z",
          "shell.execute_reply.started": "2022-07-22T10:54:01.160561Z",
          "shell.execute_reply": "2022-07-22T10:54:01.160579Z"
        },
        "trusted": true,
        "id": "oiOMby9e9WnT"
      },
      "execution_count": null,
      "outputs": []
    },
    {
      "cell_type": "code",
      "source": [
        "plot = runtime_byYear.plot.pie(subplots=True, figsize=(11, 8), autopct='%1.1f%%')"
      ],
      "metadata": {
        "execution": {
          "iopub.status.busy": "2022-07-22T10:54:01.162124Z",
          "iopub.status.idle": "2022-07-22T10:54:01.162490Z",
          "shell.execute_reply.started": "2022-07-22T10:54:01.162297Z",
          "shell.execute_reply": "2022-07-22T10:54:01.162315Z"
        },
        "trusted": true,
        "id": "iNWfqc9V9WnU"
      },
      "execution_count": null,
      "outputs": []
    },
    {
      "cell_type": "code",
      "source": [
        "ax = runtime_byYear.plot.barh(color={\"Runtime\": \"blue\"}, width=0.8)"
      ],
      "metadata": {
        "execution": {
          "iopub.status.busy": "2022-07-22T10:54:01.163730Z",
          "iopub.status.idle": "2022-07-22T10:54:01.164115Z",
          "shell.execute_reply.started": "2022-07-22T10:54:01.163927Z",
          "shell.execute_reply": "2022-07-22T10:54:01.163948Z"
        },
        "trusted": true,
        "id": "cCM_O8Y59WnV"
      },
      "execution_count": null,
      "outputs": []
    },
    {
      "cell_type": "markdown",
      "source": [
        "# Question 14 ??NOT SUBMITTED??"
      ],
      "metadata": {
        "id": "zcZz3okr9WnW"
      }
    },
    {
      "cell_type": "markdown",
      "source": [
        "* **EN: Which genre is the mostly used genre in each language?**\n",
        "* **TR: Her bir dilin en fazla kullanıldığı \"Genre\" nedir?**"
      ],
      "metadata": {
        "id": "-w7MXaBC9WnW"
      }
    },
    {
      "cell_type": "markdown",
      "source": [
        "# Question 15"
      ],
      "metadata": {
        "id": "N0Dzl9xF9WnX"
      }
    },
    {
      "cell_type": "markdown",
      "source": [
        "* **EN: Are there any outliers in the dataset? Identify.**\n",
        "* **TR: Veri setinde outlier veri var mıdır? Açıklayınız.**"
      ],
      "metadata": {
        "id": "bauWTb-X9WnX"
      }
    },
    {
      "cell_type": "code",
      "source": [
        "# check for the outliers in Runtime column\n",
        "fig = po.box(df, y=\"Runtime\")\n",
        "fig.show()"
      ],
      "metadata": {
        "execution": {
          "iopub.status.busy": "2022-07-22T10:54:01.165677Z",
          "iopub.status.idle": "2022-07-22T10:54:01.166066Z",
          "shell.execute_reply.started": "2022-07-22T10:54:01.165850Z",
          "shell.execute_reply": "2022-07-22T10:54:01.165867Z"
        },
        "trusted": true,
        "id": "b_THFOLF9WnY"
      },
      "execution_count": null,
      "outputs": []
    },
    {
      "cell_type": "code",
      "source": [
        "# Check outlier in IMDB Score column\n",
        "fig = po.box(df, y=\"IMDB Score\")\n",
        "fig.show()"
      ],
      "metadata": {
        "execution": {
          "iopub.status.busy": "2022-07-22T10:54:01.167300Z",
          "iopub.status.idle": "2022-07-22T10:54:01.167839Z",
          "shell.execute_reply.started": "2022-07-22T10:54:01.167633Z",
          "shell.execute_reply": "2022-07-22T10:54:01.167658Z"
        },
        "trusted": true,
        "id": "0HGuaKu39WnZ"
      },
      "execution_count": null,
      "outputs": []
    },
    {
      "cell_type": "code",
      "source": [
        "# join two plots\n",
        "plot = px.Figure()\n",
        " \n",
        "plot.add_trace(px.Box(y=df['Runtime'],name=\"Runtime\"))\n",
        "plot.add_trace(px.Box(y=df['IMDB Score'],name='IMDB Score'))\n",
        "\n",
        "plot.show()"
      ],
      "metadata": {
        "execution": {
          "iopub.status.busy": "2022-07-22T10:54:01.169618Z",
          "iopub.status.idle": "2022-07-22T10:54:01.170008Z",
          "shell.execute_reply.started": "2022-07-22T10:54:01.169792Z",
          "shell.execute_reply": "2022-07-22T10:54:01.169809Z"
        },
        "trusted": true,
        "id": "DLIqwGV69Wna"
      },
      "execution_count": null,
      "outputs": []
    }
  ]
}